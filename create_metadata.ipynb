{
  "cells": [
    {
      "cell_type": "code",
      "execution_count": 1,
      "metadata": {},
      "outputs": [
        {
          "name": "stdout",
          "output_type": "stream",
          "text": [
            "✅ All core functions loaded successfully!\n",
            "📋 Available functions:\n",
            "  - extract_metadata_with_llm()\n",
            "  - calculate_similarity()\n",
            "  - find_fuzzy_matches()\n",
            "  - ask_llm_for_project_matching()\n",
            "  - save_to_excel()\n"
          ]
        }
      ],
      "source": [
        "# Core imports and functions\n",
        "import json\n",
        "from openai import OpenAI\n",
        "from read_dataset import read_all_documents\n",
        "import pandas as pd\n",
        "from openpyxl import Workbook\n",
        "from openpyxl.styles import Font, PatternFill, Alignment\n",
        "from difflib import SequenceMatcher\n",
        "\n",
        "# Import API key\n",
        "from apikeys import open_ai_api_key\n",
        "\n",
        "# Set up OpenAI client\n",
        "client = OpenAI(api_key=open_ai_api_key)\n",
        "\n",
        "def extract_metadata_with_llm(document_content: str, filename: str) -> dict:\n",
        "    \"\"\"Extract metadata from document content using OpenAI GPT-4.1\"\"\"\n",
        "    max_content_length = 100000\n",
        "    truncated_content = document_content[:max_content_length]\n",
        "    \n",
        "    prompt = f\"\"\"\n",
        "    You are analyzing a Slovak government document. Please extract the following information and return it as a JSON object in English:\n",
        "    \n",
        "    Document filename: {filename}\n",
        "    Document content: {truncated_content}\n",
        "    \n",
        "    Please extract and return the following information in JSON format:\n",
        "    {{\n",
        "        \"project_name\": \"English translation of the project name\",\n",
        "        \"project_name_slovak\": \"Original Slovak project name\",\n",
        "        \"document_type\": \"Type of document (e.g., feasibility study, evaluation, financial analysis, etc.)\",\n",
        "        \"sector\": \"Sector of the project. The Sector of the project is one of the following: Building, Transport, IT, Defense, Other: xxx (Specify if Other)\",\n",
        "        \"summary\": \"Brief summary of the document content in English\"\n",
        "    }}\n",
        "    \n",
        "    Important notes:\n",
        "    - If the document is in Slovak, translate the project name to English but also keep the original Slovak version\n",
        "    - Be specific about the document type based on the content\n",
        "    - Identify the sector/domain the project belongs to\n",
        "    - Provide a concise but informative summary\n",
        "    - Return only valid JSON, no additional text\n",
        "    \"\"\"\n",
        "    \n",
        "    try:\n",
        "        response = client.chat.completions.create(\n",
        "            model=\"gpt-4.1\",\n",
        "            messages=[\n",
        "                {\"role\": \"system\", \"content\": \"You are an expert document analyst specializing in Slovak government documents. Extract metadata accurately and return only valid JSON.\"},\n",
        "                {\"role\": \"user\", \"content\": prompt}\n",
        "            ],\n",
        "            temperature=0.1,\n",
        "            max_tokens=1000\n",
        "        )\n",
        "        \n",
        "        content = response.choices[0].message.content.strip()\n",
        "        \n",
        "        try:\n",
        "            metadata = json.loads(content)\n",
        "            return metadata\n",
        "        except json.JSONDecodeError:\n",
        "            start_idx = content.find('{')\n",
        "            end_idx = content.rfind('}') + 1\n",
        "            if start_idx != -1 and end_idx != 0:\n",
        "                json_str = content[start_idx:end_idx]\n",
        "                metadata = json.loads(json_str)\n",
        "                return metadata\n",
        "            else:\n",
        "                return {\"error\": \"Could not parse JSON from LLM response\", \"raw_response\": content}\n",
        "                \n",
        "    except Exception as e:\n",
        "        return {\"error\": f\"LLM processing failed: {str(e)}\"}\n",
        "\n",
        "def calculate_similarity(str1: str, str2: str) -> float:\n",
        "    \"\"\"Calculate similarity between two strings (0-1 scale) with null safety\"\"\"\n",
        "    if not str1 or not str2:\n",
        "        return 0.0\n",
        "    return SequenceMatcher(None, str(str1).lower(), str(str2).lower()).ratio()\n",
        "\n",
        "def find_fuzzy_matches(new_project_name: str, existing_projects: dict, threshold: float = 0.8) -> list:\n",
        "    \"\"\"Find existing projects that match the new project name above threshold\"\"\"\n",
        "    if not new_project_name or not existing_projects:\n",
        "        return []\n",
        "    \n",
        "    matches = []\n",
        "    for canonical_name, project_data in existing_projects.items():\n",
        "        if not canonical_name:\n",
        "            continue\n",
        "        similarity = calculate_similarity(new_project_name, canonical_name)\n",
        "        if similarity >= threshold:\n",
        "            matches.append({\n",
        "                'canonical_name': canonical_name,\n",
        "                'similarity': similarity,\n",
        "                'project_data': project_data\n",
        "            })\n",
        "    return sorted(matches, key=lambda x: x['similarity'], reverse=True)\n",
        "\n",
        "def ask_llm_for_project_matching(new_project_name: str, new_summary: str, existing_projects: dict) -> dict:\n",
        "    \"\"\"Ask LLM to determine if new project matches any existing projects\"\"\"\n",
        "    if not new_project_name or not existing_projects:\n",
        "        return {\"is_match\": False, \"matched_project\": None, \"confidence\": \"low\", \"reasoning\": \"No project name or existing projects\"}\n",
        "    \n",
        "    existing_projects_list = []\n",
        "    for canonical_name, project_data in existing_projects.items():\n",
        "        if not canonical_name:\n",
        "            continue\n",
        "        existing_projects_list.append({\n",
        "            'name': canonical_name,\n",
        "            'summary': project_data.get('summary', ''),\n",
        "            'document_count': len(project_data.get('documents', []))\n",
        "        })\n",
        "    \n",
        "    if not existing_projects_list:\n",
        "        return {\"is_match\": False, \"matched_project\": None, \"confidence\": \"low\", \"reasoning\": \"No valid existing projects\"}\n",
        "    \n",
        "    prompt = f\"\"\"\n",
        "    You are analyzing Slovak government projects. I have a new project and need to determine if it matches any existing projects.\n",
        "    \n",
        "    NEW PROJECT:\n",
        "    Name: {new_project_name}\n",
        "    Summary: {new_summary}\n",
        "    \n",
        "    EXISTING PROJECTS:\n",
        "    {json.dumps(existing_projects_list, indent=2, ensure_ascii=False)}\n",
        "    \n",
        "    Please analyze if the new project is the same as any existing project. Consider:\n",
        "    - Project names (even if slightly different)\n",
        "    - Project content and scope\n",
        "    - Government institutions involved\n",
        "    - Geographic locations\n",
        "    - Project phases/stages\n",
        "    \n",
        "    Return your analysis as JSON:\n",
        "    {{\n",
        "        \"is_match\": true/false,\n",
        "        \"matched_project\": \"canonical name if match found, null otherwise\",\n",
        "        \"confidence\": \"high/medium/low\",\n",
        "        \"reasoning\": \"brief explanation of your decision\"\n",
        "    }}\n",
        "    \n",
        "    Important: Projects can have different names but be the same project (e.g., different phases, updates, evaluations of the same initiative).\n",
        "    \"\"\"\n",
        "    \n",
        "    try:\n",
        "        response = client.chat.completions.create(\n",
        "            model=\"gpt-4.1\",\n",
        "            messages=[\n",
        "                {\"role\": \"system\", \"content\": \"You are an expert at analyzing Slovak government projects and identifying when documents belong to the same project despite different names.\"},\n",
        "                {\"role\": \"user\", \"content\": prompt}\n",
        "            ],\n",
        "            temperature=0.1,\n",
        "            max_tokens=500\n",
        "        )\n",
        "        \n",
        "        content = response.choices[0].message.content.strip()\n",
        "        \n",
        "        try:\n",
        "            result = json.loads(content)\n",
        "            return result\n",
        "        except json.JSONDecodeError:\n",
        "            start_idx = content.find('{')\n",
        "            end_idx = content.rfind('}') + 1\n",
        "            if start_idx != -1 and end_idx != 0:\n",
        "                json_str = content[start_idx:end_idx]\n",
        "                result = json.loads(json_str)\n",
        "                return result\n",
        "            else:\n",
        "                return {\"is_match\": False, \"matched_project\": None, \"confidence\": \"low\", \"reasoning\": \"Could not parse LLM response\"}\n",
        "                \n",
        "    except Exception as e:\n",
        "        return {\"is_match\": False, \"matched_project\": None, \"confidence\": \"low\", \"reasoning\": f\"LLM error: {str(e)}\"}\n",
        "\n",
        "def save_to_excel(data: list, filename: str, sheet_name: str = \"Data\"):\n",
        "    \"\"\"Save data to Excel with formatting\"\"\"\n",
        "    df = pd.DataFrame(data)\n",
        "    \n",
        "    with pd.ExcelWriter(filename, engine='openpyxl') as writer:\n",
        "        df.to_excel(writer, sheet_name=sheet_name, index=False)\n",
        "        \n",
        "        workbook = writer.book\n",
        "        worksheet = writer.sheets[sheet_name]\n",
        "        \n",
        "        # Format headers\n",
        "        header_font = Font(bold=True, color=\"FFFFFF\")\n",
        "        header_fill = PatternFill(start_color=\"366092\", end_color=\"366092\", fill_type=\"solid\")\n",
        "        header_alignment = Alignment(horizontal=\"center\", vertical=\"center\")\n",
        "        \n",
        "        for cell in worksheet[1]:\n",
        "            cell.font = header_font\n",
        "            cell.fill = header_fill\n",
        "            cell.alignment = header_alignment\n",
        "        \n",
        "        # Auto-adjust column widths\n",
        "        for column in worksheet.columns:\n",
        "            max_length = 0\n",
        "            column_letter = column[0].column_letter\n",
        "            \n",
        "            for cell in column:\n",
        "                try:\n",
        "                    if len(str(cell.value)) > max_length:\n",
        "                        max_length = len(str(cell.value))\n",
        "                except:\n",
        "                    pass\n",
        "            \n",
        "            adjusted_width = min(max_length + 2, 50)\n",
        "            worksheet.column_dimensions[column_letter].width = adjusted_width\n",
        "        \n",
        "        # Format summary column to wrap text\n",
        "        for row in worksheet.iter_rows(min_row=2, max_row=worksheet.max_row):\n",
        "            if len(row) > 5:  # Summary column (0-indexed)\n",
        "                summary_cell = row[5]\n",
        "                summary_cell.alignment = Alignment(wrap_text=True, vertical=\"top\")\n",
        "    \n",
        "    print(f\"✅ Data saved to {filename}\")\n",
        "\n",
        "print(\"✅ All core functions loaded successfully!\")\n",
        "print(\"📋 Available functions:\")\n",
        "print(\"  - extract_metadata_with_llm()\")\n",
        "print(\"  - calculate_similarity()\")\n",
        "print(\"  - find_fuzzy_matches()\")\n",
        "print(\"  - ask_llm_for_project_matching()\")\n",
        "print(\"  - save_to_excel()\")\n"
      ]
    },
    {
      "cell_type": "code",
      "execution_count": 2,
      "metadata": {},
      "outputs": [
        {
          "name": "stderr",
          "output_type": "stream",
          "text": [
            "INFO:read_dataset:Reading document: 164039.pdf\n",
            "INFO:read_dataset:Reading document: hodnotenie_d1-bidovce-statna-hranica-sk_ua.pdf\n"
          ]
        },
        {
          "name": "stdout",
          "output_type": "stream",
          "text": [
            "🚀 Starting REAL-TIME document processing with project consolidation...\n",
            "Using GPT-4.1 for analysis + immediate project matching\n",
            "Processing documents one by one with live consolidation\n",
            "============================================================\n"
          ]
        },
        {
          "name": "stderr",
          "output_type": "stream",
          "text": [
            "INFO:read_dataset:Reading document: Inform cia o zmluvnej cene Ba-Tri.pdf\n",
            "INFO:read_dataset:Reading document: C_1_10_2_Prinosy_stavby_final.pdf\n",
            "INFO:read_dataset:Reading document: C_1_4_2_D_Kapacitne_posudenie.pdf\n",
            "INFO:read_dataset:Reading document: E_1_1a_Stage_Summary_in_English_Language.pdf\n",
            "INFO:read_dataset:Reading document: Hodnotenie_Najom_MZSR_20250702.pdf\n",
            "INFO:read_dataset:Reading document: R1-BB-Slovenska-Lupca_Aktualizacia_20230302.pdf\n",
            "INFO:read_dataset:Reading document: Príloha č. 3 - Podrobné informácie o analyzovaných administratívnych priestoroch.docx.pdf\n",
            "INFO:read_dataset:Reading document: 2.3_Ortofotomapa_km_0,000-11,500_II._usek.pdf\n",
            "INFO:read_dataset:Reading document: C_1_5_9_VYSLEDKY_LABORATORNYCH_SKUSOK_ZEMIN_A_HORNIN.pdf\n",
            "INFO:read_dataset:Reading document: C_1_11_Hodnotenie_Natura_2000.pdf\n",
            "INFO:read_dataset:Reading document: C_1_1_1_Zivotne_prostredie.pdf\n",
            "INFO:read_dataset:Reading document: Súčasť prílohy č. 4 - Pôdorys jedáleň + suterén budovy na ulici Limbová 2.pdf\n",
            "INFO:read_dataset:Reading document: E_1_2_SITUATION.pdf\n",
            "INFO:read_dataset:Reading document: spr vaDIP122.pdf\n",
            "INFO:read_dataset:Reading document: Príloha č. 7 Žilina, Brodno - KNM.pdf\n",
            "INFO:read_dataset:Reading document: VOU_20230719.pdf\n",
            "INFO:read_dataset:Reading document: C_1_5_8_GEOTECHNICKE_CHARAKTERISTIKY_ZEMIN_A_HORNIN.pdf\n",
            "INFO:read_dataset:Reading document: .DS_Store\n",
            "WARNING:read_dataset:Unsupported file type: \n",
            "INFO:read_dataset:Reading document: 1.11.3 Intenzity dopravy.pdf\n",
            "INFO:read_dataset:Reading document: C_1_3_Emisna_studia.pdf\n",
            "INFO:read_dataset:Reading document: aktualizacia_fnsp-bb.pdf\n",
            "INFO:read_dataset:Reading document: 2.4_Ortofotomapa_km_11,500-16,772_II.III.IV._usek.pdf\n",
            "INFO:read_dataset:Reading document: Príloha č. 2 - Časový harmonogram.pdf\n",
            "INFO:read_dataset:Reading document: Analėza hodnoty za peniaze projektu D4R7.pdf\n",
            "INFO:read_dataset:Reading document: C_1_5_2_1_SITUACIA_PRIESKUMNYCH_DIEL.pdf\n",
            "WARNING:PyPDF2.generic._base:Illegal character in Name Object (b'/Tahomaoby?ejn\\xe9')\n",
            "WARNING:PyPDF2.generic._base:Illegal character in Name Object (b'/Tahomaoby?ejn\\xe9')\n",
            "WARNING:PyPDF2.generic._base:Illegal character in Name Object (b'/Tahomatu?n\\xe9')\n",
            "WARNING:PyPDF2.generic._base:Illegal character in Name Object (b'/Tahomatu?n\\xe9')\n",
            "INFO:read_dataset:Reading document: C_1_6_Vypocty_vedenia_tras.pdf\n",
            "INFO:read_dataset:Reading document: B_1_7_Situacia_ortofoto_suhr_graf_vyst.pdf\n",
            "INFO:read_dataset:Reading document: C_1_9_Vyhodnotenie_rizik_klimatickych_zmien.pdf\n",
            "INFO:read_dataset:Reading document: 01_Studia_uskutocnitelnosti_koncepcia_rozvoja_VOU_v_Kosiciach.pdf\n",
            "INFO:read_dataset:Reading document: Formulár na aktualizáciu štúdie uskutočniteľnosti pred vyhlásením verejného obstarávania.pdf\n",
            "INFO:read_dataset:Reading document: Hodnotenie_UHP_NS-SR.pdf\n",
            "INFO:read_dataset:Reading document: C_1_5_10_VYSLEDKY_LABORATORNYCH_SKUSOK_VOD.pdf\n",
            "WARNING:PyPDF2._cmap:unknown widths : \n",
            "[0, IndirectObject(581, 0, 4903681376)]\n",
            "WARNING:PyPDF2._cmap:unknown widths : \n",
            "[0, IndirectObject(584, 0, 4903681376)]\n",
            "WARNING:PyPDF2._cmap:unknown widths : \n",
            "[0, IndirectObject(586, 0, 4903681376)]\n",
            "INFO:read_dataset:Reading document: 2.2_Ortofotomapa_km_12,500-23,500_I._usek.pdf\n",
            "INFO:read_dataset:Reading document: C_1_10_3_Cena_verejnej_prace.pdf\n",
            "INFO:read_dataset:Reading document: C_1_7_Seizmicky_prieskum.pdf\n",
            "INFO:read_dataset:Reading document: B_1_8_Tabulkova_schema_mostov_a_tunelov.pdf\n",
            "INFO:read_dataset:Reading document: SU-dialkova-doprava_final.pdf\n",
            "INFO:read_dataset:Reading document: C_1_4_1_D_D_model.pdf\n",
            "INFO:read_dataset:Reading document: Príloha č. 1 - Finančná analýza.xlsx\n",
            "/Users/ghinwamoujaes/Desktop/World Bank/Code/slovakia_CaseStudy/wb_venv/lib/python3.9/site-packages/openpyxl/worksheet/header_footer.py:48: UserWarning: Cannot parse header or footer so it will be ignored\n",
            "  warn(\"\"\"Cannot parse header or footer so it will be ignored\"\"\")\n",
            "/Users/ghinwamoujaes/Desktop/World Bank/Code/slovakia_CaseStudy/wb_venv/lib/python3.9/site-packages/openpyxl/worksheet/header_footer.py:48: UserWarning: Cannot parse header or footer so it will be ignored\n",
            "  warn(\"\"\"Cannot parse header or footer so it will be ignored\"\"\")\n",
            "/Users/ghinwamoujaes/Desktop/World Bank/Code/slovakia_CaseStudy/wb_venv/lib/python3.9/site-packages/openpyxl/worksheet/header_footer.py:48: UserWarning: Cannot parse header or footer so it will be ignored\n",
            "  warn(\"\"\"Cannot parse header or footer so it will be ignored\"\"\")\n",
            "/Users/ghinwamoujaes/Desktop/World Bank/Code/slovakia_CaseStudy/wb_venv/lib/python3.9/site-packages/openpyxl/worksheet/header_footer.py:48: UserWarning: Cannot parse header or footer so it will be ignored\n",
            "  warn(\"\"\"Cannot parse header or footer so it will be ignored\"\"\")\n",
            "/Users/ghinwamoujaes/Desktop/World Bank/Code/slovakia_CaseStudy/wb_venv/lib/python3.9/site-packages/openpyxl/worksheet/header_footer.py:48: UserWarning: Cannot parse header or footer so it will be ignored\n",
            "  warn(\"\"\"Cannot parse header or footer so it will be ignored\"\"\")\n",
            "INFO:read_dataset:Reading document: 02_Kapacitny_model_detailne_tabulky.xlsx\n",
            "INFO:read_dataset:Reading document: hodnotenie-zssk-prenajom-rusnov_aktualizacia.pdf\n",
            "INFO:read_dataset:Reading document: C_1_5_0_ZAVERECNA_SPRAVA_I_ETAPY.pdf\n",
            "INFO:read_dataset:Reading document: C_1_2_Hlukova_studia.pdf\n",
            "INFO:read_dataset:Reading document: Súčasť prílohy č. 4 - Pôdorysy budovy na ulici Limbová 2.pdf\n",
            "INFO:read_dataset:Reading document: Hodnotenie_GSM-R_Varin-KE-CnT_20230301.pdf\n",
            "INFO:read_dataset:Reading document: hodnotenie_prenajom-priestorov-msvvam.pdf\n",
            "INFO:read_dataset:Reading document: hodnotenie_hviezda_aktualizacia_pred_podpisom.pdf\n",
            "INFO:read_dataset:Reading document: B_1_5_Charakteristicke_priecne_rezy.pdf\n",
            "INFO:read_dataset:Reading document: C_1_5_5_POZDLZNE_PROFILY_PREVZATE_Z_ARCHIVNYCH_PODKLADOV.pdf\n",
            "INFO:read_dataset:Reading document: C_1_5_3_UCELOVA_MAPA_INZINIERSKOGEOLOGICKEJ_RAJONIZACIE.pdf\n",
            "WARNING:PyPDF2._cmap:unknown widths : \n",
            "[0, IndirectObject(129, 0, 4878816640)]\n",
            "INFO:read_dataset:Reading document: 665d6b9889bf2401837114.pdf\n",
            "INFO:read_dataset:Reading document: Hodnotenie_NDS_R2-Krivan-Tornala_20220727.pdf\n",
            "INFO:read_dataset:Reading document: Štúdia uskutočniteľnosti zjednote nia priestorov MZSR a VsZP.pdf\n",
            "INFO:read_dataset:Reading document: C_1_5_1_PREHLADNA_SITUACIA.pdf\n",
            "INFO:read_dataset:Reading document: Aktualiz cia çt£die realizovate–nosti technol¢gia Viçåov‚.pdf\n",
            "INFO:read_dataset:Reading document: B_1_4_Vzorovy_priecny_rez_D3.pdf\n",
            "INFO:read_dataset:Reading document: E_1_1b_Zhrnutie_v_anglickom_jazyku.pdf\n",
            "INFO:read_dataset:Reading document: Soci lno ekonomick‚ uŸinky projektu PPP D4_R7.pdf\n",
            "INFO:read_dataset:Reading document: 2.1_Ortofotomapa_km_0,000-12,500_I._usek.pdf\n",
            "INFO:read_dataset:Reading document: Zhrnutie D1 Bratislava-Triblavina.docx\n",
            "INFO:read_dataset:Reading document: C_1_5_4_UČELOVA_HG_MAPA.pdf\n",
            "WARNING:PyPDF2.generic._base:Illegal character in Name Object (b'/Tahomaoby?ejn\\xe9')\n",
            "WARNING:PyPDF2.generic._base:Illegal character in Name Object (b'/Tahomaoby?ejn\\xe9')\n",
            "WARNING:PyPDF2.generic._base:Illegal character in Name Object (b'/Tahomatu?n\\xe9')\n",
            "WARNING:PyPDF2.generic._base:Illegal character in Name Object (b'/Tahomatu?n\\xe9')\n",
            "WARNING:PyPDF2.generic._base:Illegal character in Name Object (b'/Arialtu?n\\xe9')\n",
            "WARNING:PyPDF2.generic._base:Illegal character in Name Object (b'/Arialtu?n\\xe9')\n",
            "INFO:read_dataset:Reading document: Priloha_CBA_D3 privadzac_Final.xlsx\n",
            "/Users/ghinwamoujaes/Desktop/World Bank/Code/slovakia_CaseStudy/wb_venv/lib/python3.9/site-packages/openpyxl/worksheet/header_footer.py:48: UserWarning: Cannot parse header or footer so it will be ignored\n",
            "  warn(\"\"\"Cannot parse header or footer so it will be ignored\"\"\")\n",
            "/Users/ghinwamoujaes/Desktop/World Bank/Code/slovakia_CaseStudy/wb_venv/lib/python3.9/site-packages/openpyxl/worksheet/header_footer.py:48: UserWarning: Cannot parse header or footer so it will be ignored\n",
            "  warn(\"\"\"Cannot parse header or footer so it will be ignored\"\"\")\n",
            "/Users/ghinwamoujaes/Desktop/World Bank/Code/slovakia_CaseStudy/wb_venv/lib/python3.9/site-packages/openpyxl/worksheet/header_footer.py:48: UserWarning: Cannot parse header or footer so it will be ignored\n",
            "  warn(\"\"\"Cannot parse header or footer so it will be ignored\"\"\")\n",
            "/Users/ghinwamoujaes/Desktop/World Bank/Code/slovakia_CaseStudy/wb_venv/lib/python3.9/site-packages/openpyxl/worksheet/header_footer.py:48: UserWarning: Cannot parse header or footer so it will be ignored\n",
            "  warn(\"\"\"Cannot parse header or footer so it will be ignored\"\"\")\n",
            "/Users/ghinwamoujaes/Desktop/World Bank/Code/slovakia_CaseStudy/wb_venv/lib/python3.9/site-packages/openpyxl/worksheet/header_footer.py:48: UserWarning: Cannot parse header or footer so it will be ignored\n",
            "  warn(\"\"\"Cannot parse header or footer so it will be ignored\"\"\")\n",
            "/Users/ghinwamoujaes/Desktop/World Bank/Code/slovakia_CaseStudy/wb_venv/lib/python3.9/site-packages/openpyxl/worksheet/header_footer.py:48: UserWarning: Cannot parse header or footer so it will be ignored\n",
            "  warn(\"\"\"Cannot parse header or footer so it will be ignored\"\"\")\n",
            "/Users/ghinwamoujaes/Desktop/World Bank/Code/slovakia_CaseStudy/wb_venv/lib/python3.9/site-packages/openpyxl/worksheet/header_footer.py:48: UserWarning: Cannot parse header or footer so it will be ignored\n",
            "  warn(\"\"\"Cannot parse header or footer so it will be ignored\"\"\")\n",
            "/Users/ghinwamoujaes/Desktop/World Bank/Code/slovakia_CaseStudy/wb_venv/lib/python3.9/site-packages/openpyxl/worksheet/header_footer.py:48: UserWarning: Cannot parse header or footer so it will be ignored\n",
            "  warn(\"\"\"Cannot parse header or footer so it will be ignored\"\"\")\n",
            "/Users/ghinwamoujaes/Desktop/World Bank/Code/slovakia_CaseStudy/wb_venv/lib/python3.9/site-packages/openpyxl/worksheet/header_footer.py:48: UserWarning: Cannot parse header or footer so it will be ignored\n",
            "  warn(\"\"\"Cannot parse header or footer so it will be ignored\"\"\")\n",
            "/Users/ghinwamoujaes/Desktop/World Bank/Code/slovakia_CaseStudy/wb_venv/lib/python3.9/site-packages/openpyxl/worksheet/header_footer.py:48: UserWarning: Cannot parse header or footer so it will be ignored\n",
            "  warn(\"\"\"Cannot parse header or footer so it will be ignored\"\"\")\n",
            "/Users/ghinwamoujaes/Desktop/World Bank/Code/slovakia_CaseStudy/wb_venv/lib/python3.9/site-packages/openpyxl/worksheet/header_footer.py:48: UserWarning: Cannot parse header or footer so it will be ignored\n",
            "  warn(\"\"\"Cannot parse header or footer so it will be ignored\"\"\")\n",
            "/Users/ghinwamoujaes/Desktop/World Bank/Code/slovakia_CaseStudy/wb_venv/lib/python3.9/site-packages/openpyxl/worksheet/header_footer.py:48: UserWarning: Cannot parse header or footer so it will be ignored\n",
            "  warn(\"\"\"Cannot parse header or footer so it will be ignored\"\"\")\n",
            "/Users/ghinwamoujaes/Desktop/World Bank/Code/slovakia_CaseStudy/wb_venv/lib/python3.9/site-packages/openpyxl/worksheet/header_footer.py:48: UserWarning: Cannot parse header or footer so it will be ignored\n",
            "  warn(\"\"\"Cannot parse header or footer so it will be ignored\"\"\")\n",
            "/Users/ghinwamoujaes/Desktop/World Bank/Code/slovakia_CaseStudy/wb_venv/lib/python3.9/site-packages/openpyxl/worksheet/header_footer.py:48: UserWarning: Cannot parse header or footer so it will be ignored\n",
            "  warn(\"\"\"Cannot parse header or footer so it will be ignored\"\"\")\n",
            "INFO:read_dataset:Reading document: priloha_cba_stand_tab_vozidla-dialkova-doprava_final.xlsx\n",
            "/Users/ghinwamoujaes/Desktop/World Bank/Code/slovakia_CaseStudy/wb_venv/lib/python3.9/site-packages/openpyxl/worksheet/header_footer.py:48: UserWarning: Cannot parse header or footer so it will be ignored\n",
            "  warn(\"\"\"Cannot parse header or footer so it will be ignored\"\"\")\n",
            "/Users/ghinwamoujaes/Desktop/World Bank/Code/slovakia_CaseStudy/wb_venv/lib/python3.9/site-packages/openpyxl/worksheet/header_footer.py:48: UserWarning: Cannot parse header or footer so it will be ignored\n",
            "  warn(\"\"\"Cannot parse header or footer so it will be ignored\"\"\")\n",
            "/Users/ghinwamoujaes/Desktop/World Bank/Code/slovakia_CaseStudy/wb_venv/lib/python3.9/site-packages/openpyxl/worksheet/header_footer.py:48: UserWarning: Cannot parse header or footer so it will be ignored\n",
            "  warn(\"\"\"Cannot parse header or footer so it will be ignored\"\"\")\n",
            "/Users/ghinwamoujaes/Desktop/World Bank/Code/slovakia_CaseStudy/wb_venv/lib/python3.9/site-packages/openpyxl/worksheet/header_footer.py:48: UserWarning: Cannot parse header or footer so it will be ignored\n",
            "  warn(\"\"\"Cannot parse header or footer so it will be ignored\"\"\")\n",
            "/Users/ghinwamoujaes/Desktop/World Bank/Code/slovakia_CaseStudy/wb_venv/lib/python3.9/site-packages/openpyxl/worksheet/header_footer.py:48: UserWarning: Cannot parse header or footer so it will be ignored\n",
            "  warn(\"\"\"Cannot parse header or footer so it will be ignored\"\"\")\n",
            "/Users/ghinwamoujaes/Desktop/World Bank/Code/slovakia_CaseStudy/wb_venv/lib/python3.9/site-packages/openpyxl/worksheet/header_footer.py:48: UserWarning: Cannot parse header or footer so it will be ignored\n",
            "  warn(\"\"\"Cannot parse header or footer so it will be ignored\"\"\")\n",
            "/Users/ghinwamoujaes/Desktop/World Bank/Code/slovakia_CaseStudy/wb_venv/lib/python3.9/site-packages/openpyxl/worksheet/header_footer.py:48: UserWarning: Cannot parse header or footer so it will be ignored\n",
            "  warn(\"\"\"Cannot parse header or footer so it will be ignored\"\"\")\n",
            "/Users/ghinwamoujaes/Desktop/World Bank/Code/slovakia_CaseStudy/wb_venv/lib/python3.9/site-packages/openpyxl/worksheet/header_footer.py:48: UserWarning: Cannot parse header or footer so it will be ignored\n",
            "  warn(\"\"\"Cannot parse header or footer so it will be ignored\"\"\")\n",
            "/Users/ghinwamoujaes/Desktop/World Bank/Code/slovakia_CaseStudy/wb_venv/lib/python3.9/site-packages/openpyxl/worksheet/header_footer.py:48: UserWarning: Cannot parse header or footer so it will be ignored\n",
            "  warn(\"\"\"Cannot parse header or footer so it will be ignored\"\"\")\n",
            "/Users/ghinwamoujaes/Desktop/World Bank/Code/slovakia_CaseStudy/wb_venv/lib/python3.9/site-packages/openpyxl/worksheet/header_footer.py:48: UserWarning: Cannot parse header or footer so it will be ignored\n",
            "  warn(\"\"\"Cannot parse header or footer so it will be ignored\"\"\")\n",
            "/Users/ghinwamoujaes/Desktop/World Bank/Code/slovakia_CaseStudy/wb_venv/lib/python3.9/site-packages/openpyxl/worksheet/header_footer.py:48: UserWarning: Cannot parse header or footer so it will be ignored\n",
            "  warn(\"\"\"Cannot parse header or footer so it will be ignored\"\"\")\n",
            "/Users/ghinwamoujaes/Desktop/World Bank/Code/slovakia_CaseStudy/wb_venv/lib/python3.9/site-packages/openpyxl/worksheet/header_footer.py:48: UserWarning: Cannot parse header or footer so it will be ignored\n",
            "  warn(\"\"\"Cannot parse header or footer so it will be ignored\"\"\")\n",
            "/Users/ghinwamoujaes/Desktop/World Bank/Code/slovakia_CaseStudy/wb_venv/lib/python3.9/site-packages/openpyxl/worksheet/header_footer.py:48: UserWarning: Cannot parse header or footer so it will be ignored\n",
            "  warn(\"\"\"Cannot parse header or footer so it will be ignored\"\"\")\n",
            "/Users/ghinwamoujaes/Desktop/World Bank/Code/slovakia_CaseStudy/wb_venv/lib/python3.9/site-packages/openpyxl/worksheet/header_footer.py:48: UserWarning: Cannot parse header or footer so it will be ignored\n",
            "  warn(\"\"\"Cannot parse header or footer so it will be ignored\"\"\")\n",
            "/Users/ghinwamoujaes/Desktop/World Bank/Code/slovakia_CaseStudy/wb_venv/lib/python3.9/site-packages/openpyxl/worksheet/header_footer.py:48: UserWarning: Cannot parse header or footer so it will be ignored\n",
            "  warn(\"\"\"Cannot parse header or footer so it will be ignored\"\"\")\n",
            "/Users/ghinwamoujaes/Desktop/World Bank/Code/slovakia_CaseStudy/wb_venv/lib/python3.9/site-packages/openpyxl/worksheet/header_footer.py:48: UserWarning: Cannot parse header or footer so it will be ignored\n",
            "  warn(\"\"\"Cannot parse header or footer so it will be ignored\"\"\")\n",
            "INFO:read_dataset:Reading document: Pr¡loha Ÿ. 7 Aktualiz cia pred podpisom ZoD.pdf\n",
            "INFO:read_dataset:Reading document: B_1_1_Prehladna_situacia.pdf\n",
            "INFO:read_dataset:Reading document: Príloha_CBA_Stand_Tab_Cesty_E1_Final_uprava4_ZH.xlsx\n",
            "/Users/ghinwamoujaes/Desktop/World Bank/Code/slovakia_CaseStudy/wb_venv/lib/python3.9/site-packages/openpyxl/worksheet/header_footer.py:48: UserWarning: Cannot parse header or footer so it will be ignored\n",
            "  warn(\"\"\"Cannot parse header or footer so it will be ignored\"\"\")\n",
            "/Users/ghinwamoujaes/Desktop/World Bank/Code/slovakia_CaseStudy/wb_venv/lib/python3.9/site-packages/openpyxl/worksheet/header_footer.py:48: UserWarning: Cannot parse header or footer so it will be ignored\n",
            "  warn(\"\"\"Cannot parse header or footer so it will be ignored\"\"\")\n",
            "/Users/ghinwamoujaes/Desktop/World Bank/Code/slovakia_CaseStudy/wb_venv/lib/python3.9/site-packages/openpyxl/worksheet/header_footer.py:48: UserWarning: Cannot parse header or footer so it will be ignored\n",
            "  warn(\"\"\"Cannot parse header or footer so it will be ignored\"\"\")\n",
            "/Users/ghinwamoujaes/Desktop/World Bank/Code/slovakia_CaseStudy/wb_venv/lib/python3.9/site-packages/openpyxl/worksheet/header_footer.py:48: UserWarning: Cannot parse header or footer so it will be ignored\n",
            "  warn(\"\"\"Cannot parse header or footer so it will be ignored\"\"\")\n",
            "/Users/ghinwamoujaes/Desktop/World Bank/Code/slovakia_CaseStudy/wb_venv/lib/python3.9/site-packages/openpyxl/worksheet/header_footer.py:48: UserWarning: Cannot parse header or footer so it will be ignored\n",
            "  warn(\"\"\"Cannot parse header or footer so it will be ignored\"\"\")\n",
            "/Users/ghinwamoujaes/Desktop/World Bank/Code/slovakia_CaseStudy/wb_venv/lib/python3.9/site-packages/openpyxl/worksheet/header_footer.py:48: UserWarning: Cannot parse header or footer so it will be ignored\n",
            "  warn(\"\"\"Cannot parse header or footer so it will be ignored\"\"\")\n",
            "/Users/ghinwamoujaes/Desktop/World Bank/Code/slovakia_CaseStudy/wb_venv/lib/python3.9/site-packages/openpyxl/worksheet/header_footer.py:48: UserWarning: Cannot parse header or footer so it will be ignored\n",
            "  warn(\"\"\"Cannot parse header or footer so it will be ignored\"\"\")\n",
            "/Users/ghinwamoujaes/Desktop/World Bank/Code/slovakia_CaseStudy/wb_venv/lib/python3.9/site-packages/openpyxl/worksheet/header_footer.py:48: UserWarning: Cannot parse header or footer so it will be ignored\n",
            "  warn(\"\"\"Cannot parse header or footer so it will be ignored\"\"\")\n",
            "/Users/ghinwamoujaes/Desktop/World Bank/Code/slovakia_CaseStudy/wb_venv/lib/python3.9/site-packages/openpyxl/worksheet/header_footer.py:48: UserWarning: Cannot parse header or footer so it will be ignored\n",
            "  warn(\"\"\"Cannot parse header or footer so it will be ignored\"\"\")\n",
            "/Users/ghinwamoujaes/Desktop/World Bank/Code/slovakia_CaseStudy/wb_venv/lib/python3.9/site-packages/openpyxl/worksheet/header_footer.py:48: UserWarning: Cannot parse header or footer so it will be ignored\n",
            "  warn(\"\"\"Cannot parse header or footer so it will be ignored\"\"\")\n",
            "/Users/ghinwamoujaes/Desktop/World Bank/Code/slovakia_CaseStudy/wb_venv/lib/python3.9/site-packages/openpyxl/worksheet/header_footer.py:48: UserWarning: Cannot parse header or footer so it will be ignored\n",
            "  warn(\"\"\"Cannot parse header or footer so it will be ignored\"\"\")\n",
            "/Users/ghinwamoujaes/Desktop/World Bank/Code/slovakia_CaseStudy/wb_venv/lib/python3.9/site-packages/openpyxl/worksheet/header_footer.py:48: UserWarning: Cannot parse header or footer so it will be ignored\n",
            "  warn(\"\"\"Cannot parse header or footer so it will be ignored\"\"\")\n",
            "/Users/ghinwamoujaes/Desktop/World Bank/Code/slovakia_CaseStudy/wb_venv/lib/python3.9/site-packages/openpyxl/worksheet/header_footer.py:48: UserWarning: Cannot parse header or footer so it will be ignored\n",
            "  warn(\"\"\"Cannot parse header or footer so it will be ignored\"\"\")\n",
            "/Users/ghinwamoujaes/Desktop/World Bank/Code/slovakia_CaseStudy/wb_venv/lib/python3.9/site-packages/openpyxl/worksheet/header_footer.py:48: UserWarning: Cannot parse header or footer so it will be ignored\n",
            "  warn(\"\"\"Cannot parse header or footer so it will be ignored\"\"\")\n",
            "INFO:read_dataset:Reading document: B_1_3_Pozdlzny_profil_D3.pdf\n",
            "INFO:read_dataset:Reading document: B_1_6_Situacia_ortofoto.pdf\n",
            "INFO:read_dataset:Reading document: C_1_5_2_3_SITUACIA_PRIESKUMNYCH_DIEL.pdf\n",
            "WARNING:PyPDF2.generic._base:Illegal character in Name Object (b'/Tahomaoby?ejn\\xe9')\n",
            "WARNING:PyPDF2.generic._base:Illegal character in Name Object (b'/Tahomaoby?ejn\\xe9')\n",
            "WARNING:PyPDF2.generic._base:Illegal character in Name Object (b'/Tahomatu?n\\xe9')\n",
            "WARNING:PyPDF2.generic._base:Illegal character in Name Object (b'/Tahomatu?n\\xe9')\n",
            "INFO:read_dataset:Reading document: hodnotenie_rekonstrukcia_internatu_hviezda.pdf\n",
            "INFO:read_dataset:Reading document: C_1_10_1_Naklady_na_stavbu_final.pdf\n",
            "INFO:read_dataset:Reading document: C_1_10_0_Analyza_nakladov_a_vynosov_CBA_E1_v8_cistopis_opraveny.pdf\n",
            "INFO:read_dataset:Reading document: C_1_10_0_Analaza_nakladov_a_vynosov_CBA_E1_-_priloha_1_useky_D3.pdf\n",
            "INFO:read_dataset:Reading document: I_Etapa_Titulna_strana.pdf\n",
            "INFO:read_dataset:Reading document: 1_PREHLADNA_SITUACIA.pdf\n",
            "INFO:read_dataset:Reading document: Súčasť prílohy č. 4 - Energetický certifikát budovy na ulici Limbová 2.PDF\n",
            "INFO:read_dataset:Reading document: Studia-uskutocnitelnosti-obnovy-vozidloveho-parku.pdf\n",
            "INFO:read_dataset:Reading document: C_1_4_1_D_D_model_prilohy.pdf\n",
            "INFO:read_dataset:Reading document: B_1_2_2_Schemy_krizovatiek.pdf\n",
            "INFO:read_dataset:Reading document: C_1_5_6_GEOLOGICKA_DOKUMENTACIA_ARCHIVNYCH_DIEL.pdf\n",
            "INFO:read_dataset:Reading document: 03_Predikcia_dopytu_detailne_tabulky.xlsx\n",
            "INFO:read_dataset:Reading document: hodnotenie-r4_uhp.pdf\n",
            "INFO:read_dataset:Reading document: Príloha č. 4 - Dispozičné a prevádzkové údaje - budova na ulici Limbová 2.docx.pdf\n",
            "INFO:read_dataset:Reading document: Priloha_CBA_D3 privadzac_Final+ZH.xlsx\n",
            "/Users/ghinwamoujaes/Desktop/World Bank/Code/slovakia_CaseStudy/wb_venv/lib/python3.9/site-packages/openpyxl/worksheet/header_footer.py:48: UserWarning: Cannot parse header or footer so it will be ignored\n",
            "  warn(\"\"\"Cannot parse header or footer so it will be ignored\"\"\")\n",
            "/Users/ghinwamoujaes/Desktop/World Bank/Code/slovakia_CaseStudy/wb_venv/lib/python3.9/site-packages/openpyxl/worksheet/header_footer.py:48: UserWarning: Cannot parse header or footer so it will be ignored\n",
            "  warn(\"\"\"Cannot parse header or footer so it will be ignored\"\"\")\n",
            "/Users/ghinwamoujaes/Desktop/World Bank/Code/slovakia_CaseStudy/wb_venv/lib/python3.9/site-packages/openpyxl/worksheet/header_footer.py:48: UserWarning: Cannot parse header or footer so it will be ignored\n",
            "  warn(\"\"\"Cannot parse header or footer so it will be ignored\"\"\")\n",
            "/Users/ghinwamoujaes/Desktop/World Bank/Code/slovakia_CaseStudy/wb_venv/lib/python3.9/site-packages/openpyxl/worksheet/header_footer.py:48: UserWarning: Cannot parse header or footer so it will be ignored\n",
            "  warn(\"\"\"Cannot parse header or footer so it will be ignored\"\"\")\n",
            "/Users/ghinwamoujaes/Desktop/World Bank/Code/slovakia_CaseStudy/wb_venv/lib/python3.9/site-packages/openpyxl/worksheet/header_footer.py:48: UserWarning: Cannot parse header or footer so it will be ignored\n",
            "  warn(\"\"\"Cannot parse header or footer so it will be ignored\"\"\")\n",
            "/Users/ghinwamoujaes/Desktop/World Bank/Code/slovakia_CaseStudy/wb_venv/lib/python3.9/site-packages/openpyxl/worksheet/header_footer.py:48: UserWarning: Cannot parse header or footer so it will be ignored\n",
            "  warn(\"\"\"Cannot parse header or footer so it will be ignored\"\"\")\n",
            "/Users/ghinwamoujaes/Desktop/World Bank/Code/slovakia_CaseStudy/wb_venv/lib/python3.9/site-packages/openpyxl/worksheet/header_footer.py:48: UserWarning: Cannot parse header or footer so it will be ignored\n",
            "  warn(\"\"\"Cannot parse header or footer so it will be ignored\"\"\")\n",
            "/Users/ghinwamoujaes/Desktop/World Bank/Code/slovakia_CaseStudy/wb_venv/lib/python3.9/site-packages/openpyxl/worksheet/header_footer.py:48: UserWarning: Cannot parse header or footer so it will be ignored\n",
            "  warn(\"\"\"Cannot parse header or footer so it will be ignored\"\"\")\n",
            "/Users/ghinwamoujaes/Desktop/World Bank/Code/slovakia_CaseStudy/wb_venv/lib/python3.9/site-packages/openpyxl/worksheet/header_footer.py:48: UserWarning: Cannot parse header or footer so it will be ignored\n",
            "  warn(\"\"\"Cannot parse header or footer so it will be ignored\"\"\")\n",
            "/Users/ghinwamoujaes/Desktop/World Bank/Code/slovakia_CaseStudy/wb_venv/lib/python3.9/site-packages/openpyxl/worksheet/header_footer.py:48: UserWarning: Cannot parse header or footer so it will be ignored\n",
            "  warn(\"\"\"Cannot parse header or footer so it will be ignored\"\"\")\n",
            "/Users/ghinwamoujaes/Desktop/World Bank/Code/slovakia_CaseStudy/wb_venv/lib/python3.9/site-packages/openpyxl/worksheet/header_footer.py:48: UserWarning: Cannot parse header or footer so it will be ignored\n",
            "  warn(\"\"\"Cannot parse header or footer so it will be ignored\"\"\")\n",
            "/Users/ghinwamoujaes/Desktop/World Bank/Code/slovakia_CaseStudy/wb_venv/lib/python3.9/site-packages/openpyxl/worksheet/header_footer.py:48: UserWarning: Cannot parse header or footer so it will be ignored\n",
            "  warn(\"\"\"Cannot parse header or footer so it will be ignored\"\"\")\n",
            "/Users/ghinwamoujaes/Desktop/World Bank/Code/slovakia_CaseStudy/wb_venv/lib/python3.9/site-packages/openpyxl/worksheet/header_footer.py:48: UserWarning: Cannot parse header or footer so it will be ignored\n",
            "  warn(\"\"\"Cannot parse header or footer so it will be ignored\"\"\")\n",
            "/Users/ghinwamoujaes/Desktop/World Bank/Code/slovakia_CaseStudy/wb_venv/lib/python3.9/site-packages/openpyxl/worksheet/header_footer.py:48: UserWarning: Cannot parse header or footer so it will be ignored\n",
            "  warn(\"\"\"Cannot parse header or footer so it will be ignored\"\"\")\n",
            "INFO:read_dataset:Reading document: aktualizacia_pred_podpisom_mss_bratislava.pdf\n",
            "INFO:read_dataset:Reading document: Priloha 6 Brodno - Kysucke Nove Mesto.pdf\n",
            "INFO:read_dataset:Reading document: C_1_5_7_ZOZNAM_SURADNIC_ARCHIVNYCH_GEOLOGICKYCH_DIEL.pdf\n",
            "INFO:read_dataset:Reading document: C_1_5_2_2_SITUACIA_PRIESKUMNYCH_DIEL.pdf\n",
            "WARNING:PyPDF2.generic._base:Illegal character in Name Object (b'/Tahomaoby?ejn\\xe9')\n",
            "WARNING:PyPDF2.generic._base:Illegal character in Name Object (b'/Tahomaoby?ejn\\xe9')\n",
            "WARNING:PyPDF2.generic._base:Illegal character in Name Object (b'/Tahomatu?n\\xe9')\n",
            "WARNING:PyPDF2.generic._base:Illegal character in Name Object (b'/Tahomatu?n\\xe9')\n",
            "INFO:read_dataset:Reading document: B_1_2_1_Situacia_variantov.pdf\n",
            "INFO:read_dataset:Reading document: C_1_1_2_Migracna_studia_D3.pdf\n",
            "INFO:read_dataset:Reading document: Hodnotenie-ZSSK-lozkove-vozne_UHP.pdf\n",
            "INFO:read_dataset:Reading document: hodnotenie-zssk-vozidla-dialkovu-dopravu.pdf\n",
            "INFO:read_dataset:Reading document: 04_Financny_model_detailne_tabulky.pdf\n",
            "INFO:read_dataset:Reading document: Príloha_CBA_Stand_Tab_Cesty_E1_Final_uprava4.xlsx\n",
            "/Users/ghinwamoujaes/Desktop/World Bank/Code/slovakia_CaseStudy/wb_venv/lib/python3.9/site-packages/openpyxl/worksheet/header_footer.py:48: UserWarning: Cannot parse header or footer so it will be ignored\n",
            "  warn(\"\"\"Cannot parse header or footer so it will be ignored\"\"\")\n",
            "/Users/ghinwamoujaes/Desktop/World Bank/Code/slovakia_CaseStudy/wb_venv/lib/python3.9/site-packages/openpyxl/worksheet/header_footer.py:48: UserWarning: Cannot parse header or footer so it will be ignored\n",
            "  warn(\"\"\"Cannot parse header or footer so it will be ignored\"\"\")\n",
            "/Users/ghinwamoujaes/Desktop/World Bank/Code/slovakia_CaseStudy/wb_venv/lib/python3.9/site-packages/openpyxl/worksheet/header_footer.py:48: UserWarning: Cannot parse header or footer so it will be ignored\n",
            "  warn(\"\"\"Cannot parse header or footer so it will be ignored\"\"\")\n",
            "/Users/ghinwamoujaes/Desktop/World Bank/Code/slovakia_CaseStudy/wb_venv/lib/python3.9/site-packages/openpyxl/worksheet/header_footer.py:48: UserWarning: Cannot parse header or footer so it will be ignored\n",
            "  warn(\"\"\"Cannot parse header or footer so it will be ignored\"\"\")\n",
            "/Users/ghinwamoujaes/Desktop/World Bank/Code/slovakia_CaseStudy/wb_venv/lib/python3.9/site-packages/openpyxl/worksheet/header_footer.py:48: UserWarning: Cannot parse header or footer so it will be ignored\n",
            "  warn(\"\"\"Cannot parse header or footer so it will be ignored\"\"\")\n",
            "/Users/ghinwamoujaes/Desktop/World Bank/Code/slovakia_CaseStudy/wb_venv/lib/python3.9/site-packages/openpyxl/worksheet/header_footer.py:48: UserWarning: Cannot parse header or footer so it will be ignored\n",
            "  warn(\"\"\"Cannot parse header or footer so it will be ignored\"\"\")\n",
            "/Users/ghinwamoujaes/Desktop/World Bank/Code/slovakia_CaseStudy/wb_venv/lib/python3.9/site-packages/openpyxl/worksheet/header_footer.py:48: UserWarning: Cannot parse header or footer so it will be ignored\n",
            "  warn(\"\"\"Cannot parse header or footer so it will be ignored\"\"\")\n",
            "/Users/ghinwamoujaes/Desktop/World Bank/Code/slovakia_CaseStudy/wb_venv/lib/python3.9/site-packages/openpyxl/worksheet/header_footer.py:48: UserWarning: Cannot parse header or footer so it will be ignored\n",
            "  warn(\"\"\"Cannot parse header or footer so it will be ignored\"\"\")\n",
            "/Users/ghinwamoujaes/Desktop/World Bank/Code/slovakia_CaseStudy/wb_venv/lib/python3.9/site-packages/openpyxl/worksheet/header_footer.py:48: UserWarning: Cannot parse header or footer so it will be ignored\n",
            "  warn(\"\"\"Cannot parse header or footer so it will be ignored\"\"\")\n",
            "/Users/ghinwamoujaes/Desktop/World Bank/Code/slovakia_CaseStudy/wb_venv/lib/python3.9/site-packages/openpyxl/worksheet/header_footer.py:48: UserWarning: Cannot parse header or footer so it will be ignored\n",
            "  warn(\"\"\"Cannot parse header or footer so it will be ignored\"\"\")\n",
            "/Users/ghinwamoujaes/Desktop/World Bank/Code/slovakia_CaseStudy/wb_venv/lib/python3.9/site-packages/openpyxl/worksheet/header_footer.py:48: UserWarning: Cannot parse header or footer so it will be ignored\n",
            "  warn(\"\"\"Cannot parse header or footer so it will be ignored\"\"\")\n",
            "/Users/ghinwamoujaes/Desktop/World Bank/Code/slovakia_CaseStudy/wb_venv/lib/python3.9/site-packages/openpyxl/worksheet/header_footer.py:48: UserWarning: Cannot parse header or footer so it will be ignored\n",
            "  warn(\"\"\"Cannot parse header or footer so it will be ignored\"\"\")\n",
            "/Users/ghinwamoujaes/Desktop/World Bank/Code/slovakia_CaseStudy/wb_venv/lib/python3.9/site-packages/openpyxl/worksheet/header_footer.py:48: UserWarning: Cannot parse header or footer so it will be ignored\n",
            "  warn(\"\"\"Cannot parse header or footer so it will be ignored\"\"\")\n",
            "/Users/ghinwamoujaes/Desktop/World Bank/Code/slovakia_CaseStudy/wb_venv/lib/python3.9/site-packages/openpyxl/worksheet/header_footer.py:48: UserWarning: Cannot parse header or footer so it will be ignored\n",
            "  warn(\"\"\"Cannot parse header or footer so it will be ignored\"\"\")\n",
            "INFO:read_dataset:Reading document: C_1_1_3_Migracna_studia_D3_privadzac.pdf\n",
            "INFO:read_dataset:Reading document: I_Etapa_Seznam_priloh.pdf\n",
            "INFO:read_dataset:Reading document: 700713.0f4fc9.pdf\n",
            "INFO:read_dataset:Reading document: 1_SPRIEVODNA_SPRAVA.pdf\n",
            "INFO:read_dataset:Reading document: C_1_8_Archeologicky_zistovaci_vyskum.pdf\n",
            "INFO:read_dataset:Reading document: PPP D4R7 ćtŁdia uskutoźnite–nosti.pdf\n",
            "INFO:read_dataset:Reading document: A_1_Sprievodna_sprava.pdf\n"
          ]
        },
        {
          "name": "stdout",
          "output_type": "stream",
          "text": [
            "Processing 103 documents with real-time consolidation...\n",
            "\n",
            "📄 Processing Document 1/103: 164039.pdf\n",
            "Content length: 11972 characters\n"
          ]
        },
        {
          "name": "stderr",
          "output_type": "stream",
          "text": [
            "INFO:httpx:HTTP Request: POST https://api.openai.com/v1/chat/completions \"HTTP/1.1 200 OK\"\n"
          ]
        },
        {
          "name": "stdout",
          "output_type": "stream",
          "text": [
            "  📋 Extracted Project: Reconstruction of the Hviezda Dormitory – Stage II\n",
            "  🔍 Checking for project matches...\n",
            "    🤖 LLM Analysis:\n",
            "      - Match: False\n",
            "      - Confidence: low\n",
            "      - Reasoning: No project name or existing projects\n",
            "    🆕 Created new project: Reconstruction of the Hviezda Dormitory – Stage II\n",
            "    📊 Decision: No match found - creating new project\n",
            "    📈 Current Status: 1 consolidated projects\n",
            "------------------------------------------------------------\n",
            "\n",
            "📄 Processing Document 2/103: hodnotenie_d1-bidovce-statna-hranica-sk_ua.pdf\n",
            "Content length: 29963 characters\n"
          ]
        },
        {
          "name": "stderr",
          "output_type": "stream",
          "text": [
            "INFO:httpx:HTTP Request: POST https://api.openai.com/v1/chat/completions \"HTTP/1.1 200 OK\"\n"
          ]
        },
        {
          "name": "stdout",
          "output_type": "stream",
          "text": [
            "  📋 Extracted Project: Value for Money Assessment of the D1 Corridor Bidovce – State Border SK/UA\n",
            "  🔍 Checking for project matches...\n"
          ]
        },
        {
          "name": "stderr",
          "output_type": "stream",
          "text": [
            "INFO:httpx:HTTP Request: POST https://api.openai.com/v1/chat/completions \"HTTP/1.1 200 OK\"\n"
          ]
        },
        {
          "name": "stdout",
          "output_type": "stream",
          "text": [
            "    🤖 LLM Analysis:\n",
            "      - Match: False\n",
            "      - Confidence: high\n",
            "      - Reasoning: The new project concerns a value for money assessment of the D1 motorway corridor from Bidovce to the Slovak-Ukrainian border, focusing on transport infrastructure, feasibility studies, and cost-benefit analysis. The only existing project is the 'Reconstruction of the Hviezda Dormitory – Stage II,' which is unrelated in terms of name, content, scope, institution, and geographic location. There is no overlap in project type (infrastructure vs. building renovation), location, or responsible ministry. Therefore, these are clearly distinct projects.\n",
            "    🆕 Created new project: Value for Money Assessment of the D1 Corridor Bidovce – State Border SK/UA\n",
            "    📊 Decision: No match found - creating new project\n",
            "    📈 Current Status: 2 consolidated projects\n",
            "------------------------------------------------------------\n",
            "\n",
            "📄 Processing Document 3/103: Inform cia o zmluvnej cene Ba-Tri.pdf\n",
            "Content length: 685 characters\n"
          ]
        },
        {
          "name": "stderr",
          "output_type": "stream",
          "text": [
            "INFO:httpx:HTTP Request: POST https://api.openai.com/v1/chat/completions \"HTTP/1.1 200 OK\"\n"
          ]
        },
        {
          "name": "stdout",
          "output_type": "stream",
          "text": [
            "  📋 Extracted Project: Extension of the D1 Motorway Bratislava - Triblavina\n",
            "  🔍 Checking for project matches...\n"
          ]
        },
        {
          "name": "stderr",
          "output_type": "stream",
          "text": [
            "INFO:httpx:HTTP Request: POST https://api.openai.com/v1/chat/completions \"HTTP/1.1 200 OK\"\n"
          ]
        },
        {
          "name": "stdout",
          "output_type": "stream",
          "text": [
            "    🤖 LLM Analysis:\n",
            "      - Match: False\n",
            "      - Confidence: high\n",
            "      - Reasoning: The new project concerns the extension of the D1 motorway between Bratislava and Triblavina, focusing on contractual and construction details for this specific section. The existing projects are: (1) a reconstruction of a dormitory (unrelated in scope and location), and (2) a value for money assessment of a different D1 section (Bidovce – State Border SK/UA), which is geographically distant from Bratislava – Triblavina. There is no overlap in project scope, location, or phase. Therefore, the new project does not match any existing project.\n",
            "    🆕 Created new project: Extension of the D1 Motorway Bratislava - Triblavina\n",
            "    📊 Decision: No match found - creating new project\n",
            "    📈 Current Status: 3 consolidated projects\n",
            "------------------------------------------------------------\n",
            "\n",
            "📄 Processing Document 4/103: C_1_10_2_Prinosy_stavby_final.pdf\n",
            "Content length: 122877 characters\n"
          ]
        },
        {
          "name": "stderr",
          "output_type": "stream",
          "text": [
            "INFO:httpx:HTTP Request: POST https://api.openai.com/v1/chat/completions \"HTTP/1.1 200 OK\"\n"
          ]
        },
        {
          "name": "stdout",
          "output_type": "stream",
          "text": [
            "  📋 Extracted Project: D3 Motorway Žilina (Brodno) – Čadca, Stage I: Žilina (Brodno) – Kysucké Nové Mesto\n",
            "  🔍 Checking for project matches...\n"
          ]
        },
        {
          "name": "stderr",
          "output_type": "stream",
          "text": [
            "INFO:httpx:HTTP Request: POST https://api.openai.com/v1/chat/completions \"HTTP/1.1 200 OK\"\n"
          ]
        },
        {
          "name": "stdout",
          "output_type": "stream",
          "text": [
            "    🤖 LLM Analysis:\n",
            "      - Match: False\n",
            "      - Confidence: high\n",
            "      - Reasoning: The new project concerns the D3 motorway section between Žilina (Brodno) and Kysucké Nové Mesto, which is part of the D3 corridor in northern Slovakia. None of the existing projects reference the D3 motorway or the relevant geographic locations (Žilina, Kysucké Nové Mesto, Čadca). The existing projects are focused on the D1 motorway (different corridor and locations), a dormitory reconstruction, and a value-for-money assessment for the D1 corridor near the Slovak-Ukrainian border. There is no overlap in project name, content, scope, or geographic area.\n",
            "    🆕 Created new project: D3 Motorway Žilina (Brodno) – Čadca, Stage I: Žilina (Brodno) – Kysucké Nové Mesto\n",
            "    📊 Decision: No match found - creating new project\n",
            "    📈 Current Status: 4 consolidated projects\n",
            "------------------------------------------------------------\n",
            "\n",
            "📄 Processing Document 5/103: C_1_4_2_D_Kapacitne_posudenie.pdf\n",
            "Content length: 19579 characters\n"
          ]
        },
        {
          "name": "stderr",
          "output_type": "stream",
          "text": [
            "INFO:httpx:HTTP Request: POST https://api.openai.com/v1/chat/completions \"HTTP/1.1 200 OK\"\n"
          ]
        },
        {
          "name": "stdout",
          "output_type": "stream",
          "text": [
            "  📋 Extracted Project: D3 Motorway Žilina (Brodno) – Čadca, Stage I: Žilina (Brodno) – Kysucké Nové Mesto\n",
            "  🔍 Checking for project matches...\n",
            "    🔍 Found 1 fuzzy matches:\n",
            "      - D3 Motorway Žilina (Brodno) – Čadca, Stage I: Žilina (Brodno) – Kysucké Nové Mesto (similarity: 1.00)\n"
          ]
        },
        {
          "name": "stderr",
          "output_type": "stream",
          "text": [
            "INFO:httpx:HTTP Request: POST https://api.openai.com/v1/chat/completions \"HTTP/1.1 200 OK\"\n"
          ]
        },
        {
          "name": "stdout",
          "output_type": "stream",
          "text": [
            "    🤖 LLM Analysis:\n",
            "      - Match: True\n",
            "      - Confidence: high\n",
            "      - Reasoning: The new project name exactly matches one of the existing projects, including the specific section (Žilina (Brodno) – Kysucké Nové Mesto) and stage (Stage I). The content of the new project (capacity assessment study for this motorway section) aligns with the scope and geographic location of the existing project. There are no discrepancies in naming, location, or phase, indicating they are the same project.\n",
            "    ✅ Added to existing project: D3 Motorway Žilina (Brodno) – Čadca, Stage I: Žilina (Brodno) – Kysucké Nové Mesto\n",
            "    📊 Decision: LLM match (confidence: high)\n",
            "    📈 Current Status: 4 consolidated projects\n",
            "------------------------------------------------------------\n",
            "\n",
            "📄 Processing Document 6/103: E_1_1a_Stage_Summary_in_English_Language.pdf\n",
            "Content length: 30199 characters\n"
          ]
        },
        {
          "name": "stderr",
          "output_type": "stream",
          "text": [
            "INFO:httpx:HTTP Request: POST https://api.openai.com/v1/chat/completions \"HTTP/1.1 200 OK\"\n"
          ]
        },
        {
          "name": "stdout",
          "output_type": "stream",
          "text": [
            "  📋 Extracted Project: Motorway D3 Žilina (Brodno) – Čadca, Stage I: Žilina (Brodno) – Kysucké Nové Mesto\n",
            "  🔍 Checking for project matches...\n",
            "    🔍 Found 1 fuzzy matches:\n",
            "      - D3 Motorway Žilina (Brodno) – Čadca, Stage I: Žilina (Brodno) – Kysucké Nové Mesto (similarity: 0.96)\n"
          ]
        },
        {
          "name": "stderr",
          "output_type": "stream",
          "text": [
            "INFO:httpx:HTTP Request: POST https://api.openai.com/v1/chat/completions \"HTTP/1.1 200 OK\"\n"
          ]
        },
        {
          "name": "stdout",
          "output_type": "stream",
          "text": [
            "    🤖 LLM Analysis:\n",
            "      - Match: True\n",
            "      - Confidence: high\n",
            "      - Reasoning: The new project name exactly matches one of the existing projects, including the specific section (Žilina (Brodno) – Kysucké Nové Mesto) and stage (Stage I). The summary confirms the scope is a feasibility study for this section of the D3 motorway, which aligns with the existing project's geographic location, phase, and infrastructure focus. There is no indication of a different phase, location, or scope that would distinguish it from the existing project.\n",
            "    ✅ Added to existing project: D3 Motorway Žilina (Brodno) – Čadca, Stage I: Žilina (Brodno) – Kysucké Nové Mesto\n",
            "    📊 Decision: LLM match (confidence: high)\n",
            "    📈 Current Status: 4 consolidated projects\n",
            "------------------------------------------------------------\n",
            "\n",
            "📄 Processing Document 7/103: Hodnotenie_Najom_MZSR_20250702.pdf\n",
            "Content length: 26749 characters\n"
          ]
        },
        {
          "name": "stderr",
          "output_type": "stream",
          "text": [
            "INFO:httpx:HTTP Request: POST https://api.openai.com/v1/chat/completions \"HTTP/1.1 200 OK\"\n"
          ]
        },
        {
          "name": "stdout",
          "output_type": "stream",
          "text": [
            "  📋 Extracted Project: Optimization of Spatial Arrangements in the Health Sector\n",
            "  🔍 Checking for project matches...\n"
          ]
        },
        {
          "name": "stderr",
          "output_type": "stream",
          "text": [
            "INFO:httpx:HTTP Request: POST https://api.openai.com/v1/chat/completions \"HTTP/1.1 200 OK\"\n"
          ]
        },
        {
          "name": "stdout",
          "output_type": "stream",
          "text": [
            "    🤖 LLM Analysis:\n",
            "      - Match: False\n",
            "      - Confidence: high\n",
            "      - Reasoning: The new project concerns the optimization and consolidation of office space for the Ministry of Health and the General Health Insurance Company in Bratislava, focusing on office leases and spatial efficiency. All existing projects are infrastructure-related (dormitory reconstruction, motorway construction or extension) and do not involve the health sector, office space, or the Bratislava administrative area in the described context. There is no overlap in project content, institutions, or geographic focus.\n",
            "    🆕 Created new project: Optimization of Spatial Arrangements in the Health Sector\n",
            "    📊 Decision: No match found - creating new project\n",
            "    📈 Current Status: 5 consolidated projects\n",
            "------------------------------------------------------------\n",
            "\n",
            "📄 Processing Document 8/103: R1-BB-Slovenska-Lupca_Aktualizacia_20230302.pdf\n",
            "Content length: 2749 characters\n"
          ]
        },
        {
          "name": "stderr",
          "output_type": "stream",
          "text": [
            "INFO:httpx:HTTP Request: POST https://api.openai.com/v1/chat/completions \"HTTP/1.1 200 OK\"\n"
          ]
        },
        {
          "name": "stdout",
          "output_type": "stream",
          "text": [
            "  📋 Extracted Project: R1 Banská Bystrica – Slovenská Ľupča - update before public procurement\n",
            "  🔍 Checking for project matches...\n"
          ]
        },
        {
          "name": "stderr",
          "output_type": "stream",
          "text": [
            "INFO:httpx:HTTP Request: POST https://api.openai.com/v1/chat/completions \"HTTP/1.1 200 OK\"\n"
          ]
        },
        {
          "name": "stdout",
          "output_type": "stream",
          "text": [
            "    🤖 LLM Analysis:\n",
            "      - Match: False\n",
            "      - Confidence: high\n",
            "      - Reasoning: The new project concerns the R1 expressway section between Banská Bystrica and Slovenská Ľupča, focusing on an updated economic evaluation before procurement. None of the existing projects reference the R1 expressway, Banská Bystrica, or Slovenská Ľupča. The existing projects are about different highways (D1, D3), a dormitory, and health sector arrangements, with no overlap in geographic location, project scope, or naming. Therefore, there is no match.\n",
            "    🆕 Created new project: R1 Banská Bystrica – Slovenská Ľupča - update before public procurement\n",
            "    📊 Decision: No match found - creating new project\n",
            "    📈 Current Status: 6 consolidated projects\n",
            "------------------------------------------------------------\n",
            "\n",
            "📄 Processing Document 9/103: Príloha č. 3 - Podrobné informácie o analyzovaných administratívnych priestoroch.docx.pdf\n",
            "Content length: 6823 characters\n"
          ]
        },
        {
          "name": "stderr",
          "output_type": "stream",
          "text": [
            "INFO:httpx:HTTP Request: POST https://api.openai.com/v1/chat/completions \"HTTP/1.1 200 OK\"\n"
          ]
        },
        {
          "name": "stdout",
          "output_type": "stream",
          "text": [
            "  📋 Extracted Project: Annex No. 3 - Detailed Information on Analyzed Administrative Premises\n",
            "  🔍 Checking for project matches...\n"
          ]
        },
        {
          "name": "stderr",
          "output_type": "stream",
          "text": [
            "INFO:httpx:HTTP Request: POST https://api.openai.com/v1/chat/completions \"HTTP/1.1 200 OK\"\n"
          ]
        },
        {
          "name": "stdout",
          "output_type": "stream",
          "text": [
            "    🤖 LLM Analysis:\n",
            "      - Match: False\n",
            "      - Confidence: high\n",
            "      - Reasoning: The new project focuses on the detailed evaluation and future use recommendations for several administrative buildings in Bratislava, including technical, investment, and market analyses. None of the existing projects reference administrative premises, Bratislava buildings, or property management. The existing projects are related to motorway construction, dormitory reconstruction, and spatial arrangements in the health sector, none of which align in content, scope, or geographic focus with the new project. There is no indication that the new project is a phase or component of any listed project.\n",
            "    🆕 Created new project: Annex No. 3 - Detailed Information on Analyzed Administrative Premises\n",
            "    📊 Decision: No match found - creating new project\n",
            "    📈 Current Status: 7 consolidated projects\n",
            "------------------------------------------------------------\n",
            "\n",
            "📄 Processing Document 10/103: 2.3_Ortofotomapa_km_0,000-11,500_II._usek.pdf\n",
            "Content length: 0 characters\n"
          ]
        },
        {
          "name": "stderr",
          "output_type": "stream",
          "text": [
            "INFO:httpx:HTTP Request: POST https://api.openai.com/v1/chat/completions \"HTTP/1.1 200 OK\"\n"
          ]
        },
        {
          "name": "stdout",
          "output_type": "stream",
          "text": [
            "  📋 Extracted Project: Orthophotomap km 0.000-11.500, Section II\n",
            "  🔍 Checking for project matches...\n"
          ]
        },
        {
          "name": "stderr",
          "output_type": "stream",
          "text": [
            "INFO:httpx:HTTP Request: POST https://api.openai.com/v1/chat/completions \"HTTP/1.1 200 OK\"\n"
          ]
        },
        {
          "name": "stdout",
          "output_type": "stream",
          "text": [
            "    🤖 LLM Analysis:\n",
            "      - Match: False\n",
            "      - Confidence: medium\n",
            "      - Reasoning: The new project concerns an orthophotomap for kilometers 0.000–11.500 of 'Section II' of a transport infrastructure project, likely a road or railway. Among the existing projects, only those related to transport infrastructure (D1, D3, R1) are potentially relevant. However, the new project does not specify a route name (e.g., D1, D3, R1) or geographic location, and none of the existing projects explicitly mention a 'Section II' or a matching kilometer range. Without more specific geographic or route information, there is insufficient evidence to confidently match the new project to any existing one.\n",
            "    🆕 Created new project: Orthophotomap km 0.000-11.500, Section II\n",
            "    📊 Decision: No match found - creating new project\n",
            "    📈 Current Status: 8 consolidated projects\n",
            "------------------------------------------------------------\n",
            "\n",
            "📄 Processing Document 11/103: C_1_5_9_VYSLEDKY_LABORATORNYCH_SKUSOK_ZEMIN_A_HORNIN.pdf\n",
            "Content length: 290990 characters\n"
          ]
        },
        {
          "name": "stderr",
          "output_type": "stream",
          "text": [
            "INFO:httpx:HTTP Request: POST https://api.openai.com/v1/chat/completions \"HTTP/1.1 200 OK\"\n"
          ]
        },
        {
          "name": "stdout",
          "output_type": "stream",
          "text": [
            "  📋 Extracted Project: D3 Motorway Žilina (Brodno) – Čadca – Stage I\n",
            "  🔍 Checking for project matches...\n"
          ]
        },
        {
          "name": "stderr",
          "output_type": "stream",
          "text": [
            "INFO:httpx:HTTP Request: POST https://api.openai.com/v1/chat/completions \"HTTP/1.1 200 OK\"\n"
          ]
        },
        {
          "name": "stdout",
          "output_type": "stream",
          "text": [
            "    🤖 LLM Analysis:\n",
            "      - Match: True\n",
            "      - Confidence: high\n",
            "      - Reasoning: The new project and the existing project both concern the D3 Motorway section from Žilina (Brodno) to Čadca, specifically Stage I. The new project summary describes geotechnical investigations for this section, while the existing project name specifies Stage I and the segment Žilina (Brodno) – Kysucké Nové Mesto, which is a town located between Žilina (Brodno) and Čadca. The overlap in geographic location, motorway section, and stage strongly indicate these documents are part of the same project, possibly focusing on different sub-segments or aspects (e.g., feasibility vs. design), but within the same overall infrastructure initiative.\n",
            "    ✅ Added to existing project: D3 Motorway Žilina (Brodno) – Čadca, Stage I: Žilina (Brodno) – Kysucké Nové Mesto\n",
            "    📊 Decision: LLM match (confidence: high)\n",
            "    📈 Current Status: 8 consolidated projects\n",
            "------------------------------------------------------------\n",
            "\n",
            "📄 Processing Document 12/103: C_1_11_Hodnotenie_Natura_2000.pdf\n",
            "Content length: 73013 characters\n"
          ]
        },
        {
          "name": "stderr",
          "output_type": "stream",
          "text": [
            "INFO:httpx:HTTP Request: POST https://api.openai.com/v1/chat/completions \"HTTP/1.1 200 OK\"\n"
          ]
        },
        {
          "name": "stdout",
          "output_type": "stream",
          "text": [
            "  📋 Extracted Project: Assessment of Impacts on Natura 2000 Sites – D3 Motorway Žilina (Brodno) – Kysucké Nové Mesto\n",
            "  🔍 Checking for project matches...\n"
          ]
        },
        {
          "name": "stderr",
          "output_type": "stream",
          "text": [
            "INFO:httpx:HTTP Request: POST https://api.openai.com/v1/chat/completions \"HTTP/1.1 200 OK\"\n"
          ]
        },
        {
          "name": "stdout",
          "output_type": "stream",
          "text": [
            "    🤖 LLM Analysis:\n",
            "      - Match: True\n",
            "      - Confidence: high\n",
            "      - Reasoning: The new project evaluates the environmental impacts of the D3 motorway section between Žilina (Brodno) and Kysucké Nové Mesto, which exactly matches the geographic scope and section described in the existing project 'D3 Motorway Žilina (Brodno) – Čadca, Stage I: Žilina (Brodno) – Kysucké Nové Mesto'. The focus on Natura 2000 sites and environmental assessment is a typical sub-activity or documentation phase within the broader motorway project. The naming conventions differ slightly due to the focus (EIA vs. construction phase), but both refer to the same infrastructure section and project phase. No other existing project matches in location or scope.\n",
            "    📝 Updated canonical name: 'D3 Motorway Žilina (Brodno) – Čadca, Stage I: Žilina (Brodno) – Kysucké Nové Mesto' → 'Assessment of Impacts on Natura 2000 Sites – D3 Motorway Žilina (Brodno) – Kysucké Nové Mesto'\n",
            "    ✅ Added to existing project: D3 Motorway Žilina (Brodno) – Čadca, Stage I: Žilina (Brodno) – Kysucké Nové Mesto\n",
            "    📊 Decision: LLM match (confidence: high)\n",
            "    📈 Current Status: 8 consolidated projects\n",
            "------------------------------------------------------------\n",
            "\n",
            "📄 Processing Document 13/103: C_1_1_1_Zivotne_prostredie.pdf\n",
            "Content length: 66342 characters\n"
          ]
        },
        {
          "name": "stderr",
          "output_type": "stream",
          "text": [
            "INFO:httpx:HTTP Request: POST https://api.openai.com/v1/chat/completions \"HTTP/1.1 200 OK\"\n"
          ]
        },
        {
          "name": "stdout",
          "output_type": "stream",
          "text": [
            "  📋 Extracted Project: Feasibility Study for the Construction of the D3 Motorway Žilina (Brodno) – Čadca, Stage I: Žilina (Brodno) – Kysucké Nové Mesto\n",
            "  🔍 Checking for project matches...\n"
          ]
        },
        {
          "name": "stderr",
          "output_type": "stream",
          "text": [
            "INFO:httpx:HTTP Request: POST https://api.openai.com/v1/chat/completions \"HTTP/1.1 200 OK\"\n"
          ]
        },
        {
          "name": "stdout",
          "output_type": "stream",
          "text": [
            "    🤖 LLM Analysis:\n",
            "      - Match: True\n",
            "      - Confidence: high\n",
            "      - Reasoning: Both the new project and the existing project focus on the D3 motorway section between Žilina (Brodno) and Kysucké Nové Mesto. The new project is a feasibility study for Stage I of this section, while the existing project is an assessment of environmental impacts (specifically on Natura 2000 sites) for the same section. Although the document types differ (feasibility study vs. environmental assessment), both are part of the same overarching infrastructure initiative concerning the D3 motorway between these two locations. The geographic scope, infrastructure type, and project phase alignment strongly indicate they are documents from the same project pipeline.\n",
            "    📝 Updated canonical name: 'Assessment of Impacts on Natura 2000 Sites – D3 Motorway Žilina (Brodno) – Kysucké Nové Mesto' → 'Feasibility Study for the Construction of the D3 Motorway Žilina (Brodno) – Čadca, Stage I: Žilina (Brodno) – Kysucké Nové Mesto'\n",
            "    ✅ Added to existing project: Assessment of Impacts on Natura 2000 Sites – D3 Motorway Žilina (Brodno) – Kysucké Nové Mesto\n",
            "    📊 Decision: LLM match (confidence: high)\n",
            "    📈 Current Status: 8 consolidated projects\n",
            "------------------------------------------------------------\n",
            "\n",
            "📄 Processing Document 14/103: Súčasť prílohy č. 4 - Pôdorys jedáleň + suterén budovy na ulici Limbová 2.pdf\n",
            "Content length: 1 characters\n"
          ]
        },
        {
          "name": "stderr",
          "output_type": "stream",
          "text": [
            "INFO:httpx:HTTP Request: POST https://api.openai.com/v1/chat/completions \"HTTP/1.1 200 OK\"\n"
          ]
        },
        {
          "name": "stdout",
          "output_type": "stream",
          "text": [
            "  📋 Extracted Project: Floor Plan of the Canteen and Basement of the Building at Limbová 2\n",
            "  🔍 Checking for project matches...\n"
          ]
        },
        {
          "name": "stderr",
          "output_type": "stream",
          "text": [
            "INFO:httpx:HTTP Request: POST https://api.openai.com/v1/chat/completions \"HTTP/1.1 200 OK\"\n"
          ]
        },
        {
          "name": "stdout",
          "output_type": "stream",
          "text": [
            "    🤖 LLM Analysis:\n",
            "      - Match: False\n",
            "      - Confidence: medium\n",
            "      - Reasoning: The new project concerns architectural floor plans for the canteen and basement of a building at Limbová 2. None of the existing projects explicitly reference Limbová 2, canteens, or building floor plans. The closest possible match could be 'Annex No. 3 - Detailed Information on Analyzed Administrative Premises' or 'Optimization of Spatial Arrangements in the Health Sector', as these might involve building layouts or administrative spaces, potentially in the health sector. However, there is insufficient information in the existing project summaries to confirm a direct connection to Limbová 2 or the specific canteen/basement floor plan. Therefore, based on available data, the new project does not match any existing project.\n",
            "    🆕 Created new project: Floor Plan of the Canteen and Basement of the Building at Limbová 2\n",
            "    📊 Decision: No match found - creating new project\n",
            "    📈 Current Status: 9 consolidated projects\n",
            "------------------------------------------------------------\n",
            "\n",
            "📄 Processing Document 15/103: E_1_2_SITUATION.pdf\n",
            "Content length: 2729 characters\n"
          ]
        },
        {
          "name": "stderr",
          "output_type": "stream",
          "text": [
            "INFO:httpx:HTTP Request: POST https://api.openai.com/v1/chat/completions \"HTTP/1.1 200 OK\"\n"
          ]
        },
        {
          "name": "stdout",
          "output_type": "stream",
          "text": [
            "  📋 Extracted Project: Motorway D3 Žilina (Brodno) - Čadca\n",
            "  🔍 Checking for project matches...\n"
          ]
        },
        {
          "name": "stderr",
          "output_type": "stream",
          "text": [
            "INFO:httpx:HTTP Request: POST https://api.openai.com/v1/chat/completions \"HTTP/1.1 200 OK\"\n"
          ]
        },
        {
          "name": "stdout",
          "output_type": "stream",
          "text": [
            "    🤖 LLM Analysis:\n",
            "      - Match: True\n",
            "      - Confidence: high\n",
            "      - Reasoning: The new project and the existing project both concern the D3 motorway section from Žilina (Brodno) to Čadca. The new project describes a feasibility study for Stage I of this section, which aligns with the existing project's name and scope. The mention of 'Stage I' and the geographic endpoints (Žilina (Brodno) – Čadca) are consistent. The existing project further specifies 'Kysucké Nové Mesto' as an intermediate point, which is located between Žilina (Brodno) and Čadca, indicating that both projects refer to the same motorway development phase. Therefore, these documents are part of the same overarching project.\n",
            "    ✅ Added to existing project: Feasibility Study for the Construction of the D3 Motorway Žilina (Brodno) – Čadca, Stage I: Žilina (Brodno) – Kysucké Nové Mesto\n",
            "    📊 Decision: LLM match (confidence: high)\n",
            "    📈 Current Status: 9 consolidated projects\n",
            "------------------------------------------------------------\n",
            "\n",
            "📄 Processing Document 16/103: spr vaDIP122.pdf\n",
            "Content length: 97190 characters\n"
          ]
        },
        {
          "name": "stderr",
          "output_type": "stream",
          "text": [
            "INFO:httpx:HTTP Request: POST https://api.openai.com/v1/chat/completions \"HTTP/1.1 200 OK\"\n"
          ]
        },
        {
          "name": "stdout",
          "output_type": "stream",
          "text": [
            "  📋 Extracted Project: D1 Motorway Bratislava – Senec, Expansion to 6 Lanes, Section 1 km 0.000 – 3.638 (13.600 – 17.238 D1)\n",
            "  🔍 Checking for project matches...\n"
          ]
        },
        {
          "name": "stderr",
          "output_type": "stream",
          "text": [
            "INFO:httpx:HTTP Request: POST https://api.openai.com/v1/chat/completions \"HTTP/1.1 200 OK\"\n"
          ]
        },
        {
          "name": "stdout",
          "output_type": "stream",
          "text": [
            "    🤖 LLM Analysis:\n",
            "      - Match: False\n",
            "      - Confidence: high\n",
            "      - Reasoning: The new project concerns the expansion of the D1 motorway between Bratislava and Senec to six lanes, specifically Section 1 (km 0.000 – 3.638). Among the existing projects, only one references the D1 motorway: 'Extension of the D1 Motorway Bratislava - Triblavina.' However, Triblavina is a different section/interchange further northeast from Senec, and there is no mention of the Bratislava–Senec segment or a six-lane expansion in the existing project names. No other existing project references the D1 corridor in the Bratislava–Senec area. Therefore, there is no match.\n",
            "    🆕 Created new project: D1 Motorway Bratislava – Senec, Expansion to 6 Lanes, Section 1 km 0.000 – 3.638 (13.600 – 17.238 D1)\n",
            "    📊 Decision: No match found - creating new project\n",
            "    📈 Current Status: 10 consolidated projects\n",
            "------------------------------------------------------------\n",
            "\n",
            "📄 Processing Document 17/103: Príloha č. 7 Žilina, Brodno - KNM.pdf\n",
            "Content length: 5883 characters\n"
          ]
        },
        {
          "name": "stderr",
          "output_type": "stream",
          "text": [
            "INFO:httpx:HTTP Request: POST https://api.openai.com/v1/chat/completions \"HTTP/1.1 200 OK\"\n"
          ]
        },
        {
          "name": "stdout",
          "output_type": "stream",
          "text": [
            "  📋 Extracted Project: Motorway D3 Žilina, Brodno - Kysucké Nové Mesto\n",
            "  🔍 Checking for project matches...\n"
          ]
        },
        {
          "name": "stderr",
          "output_type": "stream",
          "text": [
            "INFO:httpx:HTTP Request: POST https://api.openai.com/v1/chat/completions \"HTTP/1.1 200 OK\"\n"
          ]
        },
        {
          "name": "stdout",
          "output_type": "stream",
          "text": [
            "    🤖 LLM Analysis:\n",
            "      - Match: True\n",
            "      - Confidence: high\n",
            "      - Reasoning: The new project and the existing project both concern the D3 motorway section from Žilina (Brodno) to Kysucké Nové Mesto. The new document is an update to the feasibility study for this section, prepared before contract signing, and covers technical parameters, investment costs, and recommendations from relevant ministries. The existing project explicitly refers to the feasibility study for the same section and stage. The geographic locations, project scope, and phase (feasibility/update before procurement) all align, indicating these documents are part of the same project initiative.\n",
            "    ✅ Added to existing project: Feasibility Study for the Construction of the D3 Motorway Žilina (Brodno) – Čadca, Stage I: Žilina (Brodno) – Kysucké Nové Mesto\n",
            "    📊 Decision: LLM match (confidence: high)\n",
            "    📈 Current Status: 10 consolidated projects\n",
            "------------------------------------------------------------\n",
            "\n",
            "📄 Processing Document 18/103: VOU_20230719.pdf\n",
            "Content length: 19043 characters\n"
          ]
        },
        {
          "name": "stderr",
          "output_type": "stream",
          "text": [
            "INFO:httpx:HTTP Request: POST https://api.openai.com/v1/chat/completions \"HTTP/1.1 200 OK\"\n"
          ]
        },
        {
          "name": "stdout",
          "output_type": "stream",
          "text": [
            "  📋 Extracted Project: Eastern Slovak Oncology Institute – Construction of a New Surgical and Outpatient Pavilion\n",
            "  🔍 Checking for project matches...\n"
          ]
        },
        {
          "name": "stderr",
          "output_type": "stream",
          "text": [
            "INFO:httpx:HTTP Request: POST https://api.openai.com/v1/chat/completions \"HTTP/1.1 200 OK\"\n"
          ]
        },
        {
          "name": "stdout",
          "output_type": "stream",
          "text": [
            "    🤖 LLM Analysis:\n",
            "      - Match: False\n",
            "      - Confidence: high\n",
            "      - Reasoning: The new project concerns the construction of a new surgical and outpatient pavilion at the Eastern Slovak Oncology Institute (VOÚ), focused on healthcare infrastructure in eastern Slovakia. None of the existing projects reference oncology, the VOÚ, healthcare facility construction, or related investment in the Košice region. The existing projects are primarily related to transportation infrastructure (motorways, corridors), administrative premises, or unrelated buildings (e.g., dormitory, canteen). There is no overlap in project name, content, scope, institution, or location. Therefore, the new project does not match any existing project.\n",
            "    🆕 Created new project: Eastern Slovak Oncology Institute – Construction of a New Surgical and Outpatient Pavilion\n",
            "    📊 Decision: No match found - creating new project\n",
            "    📈 Current Status: 11 consolidated projects\n",
            "------------------------------------------------------------\n",
            "\n",
            "📄 Processing Document 19/103: C_1_5_8_GEOTECHNICKE_CHARAKTERISTIKY_ZEMIN_A_HORNIN.pdf\n",
            "Content length: 6298 characters\n"
          ]
        },
        {
          "name": "stderr",
          "output_type": "stream",
          "text": [
            "INFO:httpx:HTTP Request: POST https://api.openai.com/v1/chat/completions \"HTTP/1.1 200 OK\"\n"
          ]
        },
        {
          "name": "stdout",
          "output_type": "stream",
          "text": [
            "  📋 Extracted Project: D3 Motorway Žilina (Brodno) – Kysucké Nové Mesto\n",
            "  🔍 Checking for project matches...\n"
          ]
        },
        {
          "name": "stderr",
          "output_type": "stream",
          "text": [
            "INFO:httpx:HTTP Request: POST https://api.openai.com/v1/chat/completions \"HTTP/1.1 200 OK\"\n"
          ]
        },
        {
          "name": "stdout",
          "output_type": "stream",
          "text": [
            "    🤖 LLM Analysis:\n",
            "      - Match: True\n",
            "      - Confidence: high\n",
            "      - Reasoning: The new project concerns the D3 Motorway section between Žilina (Brodno) and Kysucké Nové Mesto, which exactly matches the geographic scope and section described in the existing project 'Feasibility Study for the Construction of the D3 Motorway Žilina (Brodno) – Čadca, Stage I: Žilina (Brodno) – Kysucké Nové Mesto.' The new document is a supplementary engineering-geological and hydrogeological survey, which is a typical follow-up or supporting document for a feasibility study or subsequent project phases. Both projects refer to the same motorway section and likely involve the same government stakeholders. The difference in document type (feasibility study vs. survey report) reflects different project phases or supporting studies within the same overall project.\n",
            "    ✅ Added to existing project: Feasibility Study for the Construction of the D3 Motorway Žilina (Brodno) – Čadca, Stage I: Žilina (Brodno) – Kysucké Nové Mesto\n",
            "    📊 Decision: LLM match (confidence: high)\n",
            "    📈 Current Status: 11 consolidated projects\n",
            "------------------------------------------------------------\n",
            "\n",
            "📄 Processing Document 20/103: .DS_Store\n",
            "Content length: 0 characters\n"
          ]
        },
        {
          "name": "stderr",
          "output_type": "stream",
          "text": [
            "INFO:httpx:HTTP Request: POST https://api.openai.com/v1/chat/completions \"HTTP/1.1 200 OK\"\n"
          ]
        },
        {
          "name": "stdout",
          "output_type": "stream",
          "text": [
            "  📋 Extracted Project: None\n",
            "  🔍 Checking for project matches...\n",
            "    🤖 LLM Analysis:\n",
            "      - Match: False\n",
            "      - Confidence: low\n",
            "      - Reasoning: No project name or existing projects\n",
            "    🆕 Created new project: None\n",
            "    📊 Decision: No match found - creating new project\n",
            "    📈 Current Status: 12 consolidated projects\n",
            "------------------------------------------------------------\n",
            "\n",
            "📄 Processing Document 21/103: 1.11.3 Intenzity dopravy.pdf\n",
            "Content length: 0 characters\n"
          ]
        },
        {
          "name": "stderr",
          "output_type": "stream",
          "text": [
            "INFO:httpx:HTTP Request: POST https://api.openai.com/v1/chat/completions \"HTTP/1.1 200 OK\"\n"
          ]
        },
        {
          "name": "stdout",
          "output_type": "stream",
          "text": [
            "  📋 Extracted Project: Traffic Intensities\n",
            "  🔍 Checking for project matches...\n"
          ]
        },
        {
          "name": "stderr",
          "output_type": "stream",
          "text": [
            "INFO:httpx:HTTP Request: POST https://api.openai.com/v1/chat/completions \"HTTP/1.1 200 OK\"\n"
          ]
        },
        {
          "name": "stdout",
          "output_type": "stream",
          "text": [
            "    🤖 LLM Analysis:\n",
            "      - Match: False\n",
            "      - Confidence: high\n",
            "      - Reasoning: The new project 'Traffic Intensities' is a general analysis of traffic flows and patterns, supporting transport planning and infrastructure development. The existing projects are either specific infrastructure projects (e.g., motorway extensions, feasibility studies for particular road sections), building reconstructions, or health sector projects. None of the existing projects are described as general traffic analysis or data collection initiatives. There is no indication that 'Traffic Intensities' is a phase, update, or evaluation of any of the listed projects. The scope and content do not overlap directly with any existing project.\n",
            "    🆕 Created new project: Traffic Intensities\n",
            "    📊 Decision: No match found - creating new project\n",
            "    📈 Current Status: 13 consolidated projects\n",
            "------------------------------------------------------------\n",
            "\n",
            "📄 Processing Document 22/103: C_1_3_Emisna_studia.pdf\n",
            "Content length: 49857 characters\n"
          ]
        },
        {
          "name": "stderr",
          "output_type": "stream",
          "text": [
            "INFO:httpx:HTTP Request: POST https://api.openai.com/v1/chat/completions \"HTTP/1.1 200 OK\"\n"
          ]
        },
        {
          "name": "stdout",
          "output_type": "stream",
          "text": [
            "  📋 Extracted Project: Highway D3 Žilina (Brodno) – Čadca, Stage I – Žilina – Kysucké Nové Mesto\n",
            "  🔍 Checking for project matches...\n"
          ]
        },
        {
          "name": "stderr",
          "output_type": "stream",
          "text": [
            "INFO:httpx:HTTP Request: POST https://api.openai.com/v1/chat/completions \"HTTP/1.1 200 OK\"\n"
          ]
        },
        {
          "name": "stdout",
          "output_type": "stream",
          "text": [
            "    🤖 LLM Analysis:\n",
            "      - Match: True\n",
            "      - Confidence: high\n",
            "      - Reasoning: The new project and the existing project both concern the D3 highway section from Žilina (Brodno) to Čadca, specifically Stage I between Žilina (Brodno) and Kysucké Nové Mesto. The new document is an emission dispersion study, which is a typical component of the environmental impact assessment process for large infrastructure projects like highways. The existing project is a feasibility study for the same section and stage. Both projects share the same geographic scope, infrastructure type, and likely involve the same government institutions. The difference in document type (feasibility study vs. emission study) reflects different aspects or phases of the same overall project. Therefore, the new project document should be grouped under the existing project.\n",
            "    ✅ Added to existing project: Feasibility Study for the Construction of the D3 Motorway Žilina (Brodno) – Čadca, Stage I: Žilina (Brodno) – Kysucké Nové Mesto\n",
            "    📊 Decision: LLM match (confidence: high)\n",
            "    📈 Current Status: 13 consolidated projects\n",
            "------------------------------------------------------------\n",
            "\n",
            "📄 Processing Document 23/103: aktualizacia_fnsp-bb.pdf\n",
            "Content length: 4951 characters\n"
          ]
        },
        {
          "name": "stderr",
          "output_type": "stream",
          "text": [
            "INFO:httpx:HTTP Request: POST https://api.openai.com/v1/chat/completions \"HTTP/1.1 200 OK\"\n"
          ]
        },
        {
          "name": "stdout",
          "output_type": "stream",
          "text": [
            "  📋 Extracted Project: Update: Development Concept of the F. D. Roosevelt Faculty Hospital with Polyclinic Banská Bystrica\n",
            "  🔍 Checking for project matches...\n"
          ]
        },
        {
          "name": "stderr",
          "output_type": "stream",
          "text": [
            "INFO:httpx:HTTP Request: POST https://api.openai.com/v1/chat/completions \"HTTP/1.1 200 OK\"\n"
          ]
        },
        {
          "name": "stdout",
          "output_type": "stream",
          "text": [
            "    🤖 LLM Analysis:\n",
            "      - Match: False\n",
            "      - Confidence: high\n",
            "      - Reasoning: None of the existing projects reference the F. D. Roosevelt Faculty Hospital with Polyclinic in Banská Bystrica, nor do they involve hospital construction or reconstruction in Banská Bystrica. The only other healthcare-related project is the 'Eastern Slovak Oncology Institute – Construction of a New Surgical and Outpatient Pavilion,' which is a different institution in a different region (Eastern Slovakia, not Banská Bystrica). No existing project matches the name, location, institution, or scope of the new project.\n",
            "    🆕 Created new project: Update: Development Concept of the F. D. Roosevelt Faculty Hospital with Polyclinic Banská Bystrica\n",
            "    📊 Decision: No match found - creating new project\n",
            "    📈 Current Status: 14 consolidated projects\n",
            "------------------------------------------------------------\n",
            "\n",
            "📄 Processing Document 24/103: 2.4_Ortofotomapa_km_11,500-16,772_II.III.IV._usek.pdf\n",
            "Content length: 0 characters\n"
          ]
        },
        {
          "name": "stderr",
          "output_type": "stream",
          "text": [
            "INFO:httpx:HTTP Request: POST https://api.openai.com/v1/chat/completions \"HTTP/1.1 200 OK\"\n"
          ]
        },
        {
          "name": "stdout",
          "output_type": "stream",
          "text": [
            "  📋 Extracted Project: Orthophotomap km 11,500-16,772, Sections II, III, IV\n",
            "  🔍 Checking for project matches...\n"
          ]
        },
        {
          "name": "stderr",
          "output_type": "stream",
          "text": [
            "INFO:httpx:HTTP Request: POST https://api.openai.com/v1/chat/completions \"HTTP/1.1 200 OK\"\n"
          ]
        },
        {
          "name": "stdout",
          "output_type": "stream",
          "text": [
            "    🤖 LLM Analysis:\n",
            "      - Match: True\n",
            "      - Confidence: high\n",
            "      - Reasoning: The new project and the existing project both refer to orthophotomap (aerial imagery) documentation for sequential kilometer segments (0.000-11.500 and 11.500-16.772) and both mention Section II. This strongly suggests they are parts of the same overarching infrastructure project, likely related to the same transport corridor, with the new project covering the next segment and additional sections (II, III, IV). The naming convention, content, and scope are highly consistent, indicating these are sequential phases or deliverables within the same project.\n",
            "    📝 Updated canonical name: 'Orthophotomap km 0.000-11.500, Section II' → 'Orthophotomap km 11,500-16,772, Sections II, III, IV'\n",
            "    ✅ Added to existing project: Orthophotomap km 0.000-11.500, Section II\n",
            "    📊 Decision: LLM match (confidence: high)\n",
            "    📈 Current Status: 14 consolidated projects\n",
            "------------------------------------------------------------\n",
            "\n",
            "📄 Processing Document 25/103: Príloha č. 2 - Časový harmonogram.pdf\n",
            "Content length: 1290 characters\n"
          ]
        },
        {
          "name": "stderr",
          "output_type": "stream",
          "text": [
            "INFO:httpx:HTTP Request: POST https://api.openai.com/v1/chat/completions \"HTTP/1.1 200 OK\"\n"
          ]
        },
        {
          "name": "stdout",
          "output_type": "stream",
          "text": [
            "  📋 Extracted Project: Time Schedule\n",
            "  🔍 Checking for project matches...\n"
          ]
        },
        {
          "name": "stderr",
          "output_type": "stream",
          "text": [
            "INFO:httpx:HTTP Request: POST https://api.openai.com/v1/chat/completions \"HTTP/1.1 200 OK\"\n"
          ]
        },
        {
          "name": "stdout",
          "output_type": "stream",
          "text": [
            "    🤖 LLM Analysis:\n",
            "      - Match: True\n",
            "      - Confidence: high\n",
            "      - Reasoning: The new project concerns the relocation and office space optimization for major Slovak health sector institutions (VŠZP, NCZI, MZ SR), including timelines and space requirements. The existing project 'Optimization of Spatial Arrangements in the Health Sector' is a canonical, broad-scope project likely encompassing such activities. The overlap in sector (health), institutions, and the focus on spatial/office arrangements strongly indicate these documents are part of the same initiative, possibly as different phases or supporting documents (e.g., schedules, analyses, implementation plans).\n",
            "    ✅ Added to existing project: Optimization of Spatial Arrangements in the Health Sector\n",
            "    📊 Decision: LLM match (confidence: high)\n",
            "    📈 Current Status: 14 consolidated projects\n",
            "------------------------------------------------------------\n",
            "\n",
            "📄 Processing Document 26/103: Analėza hodnoty za peniaze projektu D4R7.pdf\n",
            "Content length: 140296 characters\n"
          ]
        },
        {
          "name": "stderr",
          "output_type": "stream",
          "text": [
            "INFO:httpx:HTTP Request: POST https://api.openai.com/v1/chat/completions \"HTTP/1.1 200 OK\"\n"
          ]
        },
        {
          "name": "stdout",
          "output_type": "stream",
          "text": [
            "  📋 Extracted Project: Value for Money Analysis of the D4/R7 PPP Project\n",
            "  🔍 Checking for project matches...\n"
          ]
        },
        {
          "name": "stderr",
          "output_type": "stream",
          "text": [
            "INFO:httpx:HTTP Request: POST https://api.openai.com/v1/chat/completions \"HTTP/1.1 200 OK\"\n"
          ]
        },
        {
          "name": "stdout",
          "output_type": "stream",
          "text": [
            "    🤖 LLM Analysis:\n",
            "      - Match: False\n",
            "      - Confidence: high\n",
            "      - Reasoning: The new project concerns a Value for Money analysis of the D4/R7 PPP project (D4 motorway Jarovce – Rača and R7 expressway Bratislava Prievoz – Holice). None of the existing projects reference the D4 or R7 corridors, PPP models, or the relevant geographic locations. Existing projects focus on other motorways (D1, D3, R1), health sector, or unrelated infrastructure. There is no overlap in project name, content, or scope.\n",
            "    🆕 Created new project: Value for Money Analysis of the D4/R7 PPP Project\n",
            "    📊 Decision: No match found - creating new project\n",
            "    📈 Current Status: 15 consolidated projects\n",
            "------------------------------------------------------------\n",
            "\n",
            "📄 Processing Document 27/103: C_1_5_2_1_SITUACIA_PRIESKUMNYCH_DIEL.pdf\n",
            "Content length: 438 characters\n"
          ]
        },
        {
          "name": "stderr",
          "output_type": "stream",
          "text": [
            "INFO:httpx:HTTP Request: POST https://api.openai.com/v1/chat/completions \"HTTP/1.1 200 OK\"\n"
          ]
        },
        {
          "name": "stdout",
          "output_type": "stream",
          "text": [
            "  📋 Extracted Project: Overview of the Route Section D3 - Žilina (Brodno) - Kysucké Nové Mesto\n",
            "  🔍 Checking for project matches...\n"
          ]
        },
        {
          "name": "stderr",
          "output_type": "stream",
          "text": [
            "INFO:httpx:HTTP Request: POST https://api.openai.com/v1/chat/completions \"HTTP/1.1 200 OK\"\n"
          ]
        },
        {
          "name": "stdout",
          "output_type": "stream",
          "text": [
            "    🤖 LLM Analysis:\n",
            "      - Match: True\n",
            "      - Confidence: high\n",
            "      - Reasoning: The new project and the existing project both focus on the D3 motorway section between Žilina (Brodno) and Kysucké Nové Mesto. The new project provides an overview and technical details of this section, while the existing project is a feasibility study for the same segment (Stage I). The geographic location, project scope, and phase (planning/analysis) all align. The difference in naming reflects a focus on different aspects (overview vs. feasibility study), but both clearly pertain to the same infrastructure project and phase.\n",
            "    ✅ Added to existing project: Feasibility Study for the Construction of the D3 Motorway Žilina (Brodno) – Čadca, Stage I: Žilina (Brodno) – Kysucké Nové Mesto\n",
            "    📊 Decision: LLM match (confidence: high)\n",
            "    📈 Current Status: 15 consolidated projects\n",
            "------------------------------------------------------------\n",
            "\n",
            "📄 Processing Document 28/103: C_1_6_Vypocty_vedenia_tras.pdf\n",
            "Content length: 19524 characters\n"
          ]
        },
        {
          "name": "stderr",
          "output_type": "stream",
          "text": [
            "INFO:httpx:HTTP Request: POST https://api.openai.com/v1/chat/completions \"HTTP/1.1 200 OK\"\n"
          ]
        },
        {
          "name": "stdout",
          "output_type": "stream",
          "text": [
            "  📋 Extracted Project: D3 Motorway Žilina (Brodno) - Čadca\n",
            "  🔍 Checking for project matches...\n"
          ]
        },
        {
          "name": "stderr",
          "output_type": "stream",
          "text": [
            "INFO:httpx:HTTP Request: POST https://api.openai.com/v1/chat/completions \"HTTP/1.1 200 OK\"\n"
          ]
        },
        {
          "name": "stdout",
          "output_type": "stream",
          "text": [
            "    🤖 LLM Analysis:\n",
            "      - Match: True\n",
            "      - Confidence: medium\n",
            "      - Reasoning: The new project and the existing project both concern the D3 motorway section between Žilina (Brodno) and Čadca in the Žilina region. The existing project specifically mentions 'Stage I: Žilina (Brodno) – Kysucké Nové Mesto', which is a subsection of the full Žilina (Brodno) – Čadca route. The new project appears to cover the entire section from Žilina (Brodno) to Čadca, possibly including or building upon the previously studied Stage I. Both projects involve technical documentation and feasibility/planning studies for the same motorway corridor. However, since the new project may encompass a broader scope or a later phase, the match is not certain but is likely, hence the medium confidence.\n",
            "    ✅ Added to existing project: Feasibility Study for the Construction of the D3 Motorway Žilina (Brodno) – Čadca, Stage I: Žilina (Brodno) – Kysucké Nové Mesto\n",
            "    📊 Decision: LLM match (confidence: medium)\n",
            "    📈 Current Status: 15 consolidated projects\n",
            "------------------------------------------------------------\n",
            "\n",
            "📄 Processing Document 29/103: B_1_7_Situacia_ortofoto_suhr_graf_vyst.pdf\n",
            "Content length: 4843 characters\n"
          ]
        },
        {
          "name": "stderr",
          "output_type": "stream",
          "text": [
            "INFO:httpx:HTTP Request: POST https://api.openai.com/v1/chat/completions \"HTTP/1.1 200 OK\"\n"
          ]
        },
        {
          "name": "stdout",
          "output_type": "stream",
          "text": [
            "  📋 Extracted Project: D3 Motorway Žilina (Brodno) – Čadca\n",
            "  🔍 Checking for project matches...\n"
          ]
        },
        {
          "name": "stderr",
          "output_type": "stream",
          "text": [
            "INFO:httpx:HTTP Request: POST https://api.openai.com/v1/chat/completions \"HTTP/1.1 200 OK\"\n"
          ]
        },
        {
          "name": "stdout",
          "output_type": "stream",
          "text": [
            "    🤖 LLM Analysis:\n",
            "      - Match: True\n",
            "      - Confidence: high\n",
            "      - Reasoning: The new project and the existing project both concern the D3 motorway section between Žilina (Brodno) and Čadca in the Žilina region. The existing project specifically references Stage I (Žilina (Brodno) – Kysucké Nové Mesto), which is a subsection of the full Žilina (Brodno) – Čadca route. The new project appears to be a broader feasibility study for the entire section, potentially encompassing multiple stages. Both projects involve similar technical, environmental, and planning considerations. The overlap in geographic location, infrastructure type, and project scope strongly indicate they are part of the same overall motorway initiative, possibly at different phases or levels of detail.\n",
            "    ✅ Added to existing project: Feasibility Study for the Construction of the D3 Motorway Žilina (Brodno) – Čadca, Stage I: Žilina (Brodno) – Kysucké Nové Mesto\n",
            "    📊 Decision: LLM match (confidence: high)\n",
            "    📈 Current Status: 15 consolidated projects\n",
            "------------------------------------------------------------\n",
            "\n",
            "📄 Processing Document 30/103: C_1_9_Vyhodnotenie_rizik_klimatickych_zmien.pdf\n",
            "Content length: 162671 characters\n"
          ]
        },
        {
          "name": "stderr",
          "output_type": "stream",
          "text": [
            "INFO:httpx:HTTP Request: POST https://api.openai.com/v1/chat/completions \"HTTP/1.1 200 OK\"\n"
          ]
        },
        {
          "name": "stdout",
          "output_type": "stream",
          "text": [
            "  📋 Extracted Project: D3 Motorway Žilina (Brodno) – Čadca, Stage I: Žilina (Brodno) – Kysucké Nové Mesto – Climate Change Risk Assessment\n",
            "  🔍 Checking for project matches...\n"
          ]
        },
        {
          "name": "stderr",
          "output_type": "stream",
          "text": [
            "INFO:httpx:HTTP Request: POST https://api.openai.com/v1/chat/completions \"HTTP/1.1 200 OK\"\n"
          ]
        },
        {
          "name": "stdout",
          "output_type": "stream",
          "text": [
            "    🤖 LLM Analysis:\n",
            "      - Match: True\n",
            "      - Confidence: high\n",
            "      - Reasoning: The new project and the existing project both refer to the D3 motorway section from Žilina (Brodno) to Kysucké Nové Mesto, Stage I. The new document is a climate change risk assessment for this section, while the existing project is a feasibility study for its construction. Both documents concern the same infrastructure project, likely commissioned by the same government institutions, and cover the same geographic area and project phase. The climate risk assessment is a specialized study that would typically be included as part of the broader feasibility and planning process for such a motorway project.\n",
            "    ✅ Added to existing project: Feasibility Study for the Construction of the D3 Motorway Žilina (Brodno) – Čadca, Stage I: Žilina (Brodno) – Kysucké Nové Mesto\n",
            "    📊 Decision: LLM match (confidence: high)\n",
            "    📈 Current Status: 15 consolidated projects\n",
            "------------------------------------------------------------\n",
            "\n",
            "📄 Processing Document 31/103: 01_Studia_uskutocnitelnosti_koncepcia_rozvoja_VOU_v_Kosiciach.pdf\n",
            "Content length: 169784 characters\n"
          ]
        },
        {
          "name": "stderr",
          "output_type": "stream",
          "text": [
            "INFO:httpx:HTTP Request: POST https://api.openai.com/v1/chat/completions \"HTTP/1.1 200 OK\"\n"
          ]
        },
        {
          "name": "stdout",
          "output_type": "stream",
          "text": [
            "  📋 Extracted Project: Feasibility Study: Development Concept of the Eastern Slovak Oncology Institute in Košice\n",
            "  🔍 Checking for project matches...\n"
          ]
        },
        {
          "name": "stderr",
          "output_type": "stream",
          "text": [
            "INFO:httpx:HTTP Request: POST https://api.openai.com/v1/chat/completions \"HTTP/1.1 200 OK\"\n"
          ]
        },
        {
          "name": "stdout",
          "output_type": "stream",
          "text": [
            "    🤖 LLM Analysis:\n",
            "      - Match: True\n",
            "      - Confidence: high\n",
            "      - Reasoning: The new project is a feasibility study for the development concept of the Eastern Slovak Oncology Institute (VOÚ) in Košice, focusing on the need for modernization and specifically recommending the construction of a new pavilion to improve oncology care. The existing project 'Eastern Slovak Oncology Institute – Construction of a New Surgical and Outpatient Pavilion' directly references the same institution, location, and the construction of a new pavilion. The feasibility study is a typical preparatory phase for such construction projects, indicating both documents are part of the same overall initiative to expand and modernize the VOÚ in Košice.\n",
            "    ✅ Added to existing project: Eastern Slovak Oncology Institute – Construction of a New Surgical and Outpatient Pavilion\n",
            "    📊 Decision: LLM match (confidence: high)\n",
            "    📈 Current Status: 15 consolidated projects\n",
            "------------------------------------------------------------\n",
            "\n",
            "📄 Processing Document 32/103: Formulár na aktualizáciu štúdie uskutočniteľnosti pred vyhlásením verejného obstarávania.pdf\n",
            "Content length: 7324 characters\n"
          ]
        },
        {
          "name": "stderr",
          "output_type": "stream",
          "text": [
            "INFO:httpx:HTTP Request: POST https://api.openai.com/v1/chat/completions \"HTTP/1.1 200 OK\"\n"
          ]
        },
        {
          "name": "stdout",
          "output_type": "stream",
          "text": [
            "  📋 Extracted Project: Procurement of interoperable multi-system electric locomotives and trainsets for long-distance transport\n",
            "  🔍 Checking for project matches...\n"
          ]
        },
        {
          "name": "stderr",
          "output_type": "stream",
          "text": [
            "INFO:httpx:HTTP Request: POST https://api.openai.com/v1/chat/completions \"HTTP/1.1 200 OK\"\n"
          ]
        },
        {
          "name": "stdout",
          "output_type": "stream",
          "text": [
            "    🤖 LLM Analysis:\n",
            "      - Match: False\n",
            "      - Confidence: high\n",
            "      - Reasoning: The new project concerns the procurement (via lease) of interoperable multi-system electric locomotives and trainsets for long-distance rail transport by Železničná spoločnosť Slovensko, a.s. (ZSSK). None of the existing projects reference rolling stock procurement, ZSSK, or related railway vehicle modernization. The existing projects focus on highways, hospital infrastructure, administrative buildings, and oncology pavilions, with no overlap in content, scope, or responsible institution. There is no indication that any of the existing projects are updates, phases, or evaluations of a rolling stock procurement project.\n",
            "    🆕 Created new project: Procurement of interoperable multi-system electric locomotives and trainsets for long-distance transport\n",
            "    📊 Decision: No match found - creating new project\n",
            "    📈 Current Status: 16 consolidated projects\n",
            "------------------------------------------------------------\n",
            "\n",
            "📄 Processing Document 33/103: Hodnotenie_UHP_NS-SR.pdf\n",
            "Content length: 27832 characters\n"
          ]
        },
        {
          "name": "stderr",
          "output_type": "stream",
          "text": [
            "INFO:httpx:HTTP Request: POST https://api.openai.com/v1/chat/completions \"HTTP/1.1 200 OK\"\n"
          ]
        },
        {
          "name": "stdout",
          "output_type": "stream",
          "text": [
            "  📋 Extracted Project: Value for Money Assessment of the Supreme Court of the Slovak Republic Project\n",
            "  🔍 Checking for project matches...\n"
          ]
        },
        {
          "name": "stderr",
          "output_type": "stream",
          "text": [
            "INFO:httpx:HTTP Request: POST https://api.openai.com/v1/chat/completions \"HTTP/1.1 200 OK\"\n"
          ]
        },
        {
          "name": "stdout",
          "output_type": "stream",
          "text": [
            "    🤖 LLM Analysis:\n",
            "      - Match: False\n",
            "      - Confidence: high\n",
            "      - Reasoning: The new project concerns the value for money assessment and planned comprehensive reconstruction of the Supreme Court building at Župné námestie, Bratislava, led by the Ministry of Finance. None of the existing projects reference the Supreme Court, judicial buildings, or related infrastructure in Bratislava. Existing projects focus on highways, hospitals, dormitories, oncology institutes, and railway procurement, with no overlap in institution, location, or project scope. No existing project appears to be an earlier or related phase, evaluation, or update of the Supreme Court reconstruction.\n",
            "    🆕 Created new project: Value for Money Assessment of the Supreme Court of the Slovak Republic Project\n",
            "    📊 Decision: No match found - creating new project\n",
            "    📈 Current Status: 17 consolidated projects\n",
            "------------------------------------------------------------\n",
            "\n",
            "📄 Processing Document 34/103: C_1_5_10_VYSLEDKY_LABORATORNYCH_SKUSOK_VOD.pdf\n",
            "Content length: 2840 characters\n"
          ]
        },
        {
          "name": "stderr",
          "output_type": "stream",
          "text": [
            "INFO:httpx:HTTP Request: POST https://api.openai.com/v1/chat/completions \"HTTP/1.1 200 OK\"\n"
          ]
        },
        {
          "name": "stdout",
          "output_type": "stream",
          "text": [
            "  📋 Extracted Project: Motorway D3 Žilina (Brodno) – Čadca – Stage I\n",
            "  🔍 Checking for project matches...\n"
          ]
        },
        {
          "name": "stderr",
          "output_type": "stream",
          "text": [
            "INFO:httpx:HTTP Request: POST https://api.openai.com/v1/chat/completions \"HTTP/1.1 200 OK\"\n"
          ]
        },
        {
          "name": "stdout",
          "output_type": "stream",
          "text": [
            "    🤖 LLM Analysis:\n",
            "      - Match: True\n",
            "      - Confidence: high\n",
            "      - Reasoning: The new project and the existing project both concern the D3 motorway section from Žilina (Brodno) to Čadca, Stage I. The new project focuses on laboratory tests and geotechnical data as part of the feasibility study for this section, which aligns with the scope of the existing project. The slight difference in naming (the existing project specifies 'Žilina (Brodno) – Kysucké Nové Mesto' as Stage I, while the new project says 'Žilina (Brodno) – Čadca – Stage I') is likely due to alternative naming conventions or sub-section focus, but both clearly refer to the same motorway construction initiative in the same geographic area and phase. Therefore, they are considered the same project.\n",
            "    ✅ Added to existing project: Feasibility Study for the Construction of the D3 Motorway Žilina (Brodno) – Čadca, Stage I: Žilina (Brodno) – Kysucké Nové Mesto\n",
            "    📊 Decision: LLM match (confidence: high)\n",
            "    📈 Current Status: 17 consolidated projects\n",
            "------------------------------------------------------------\n",
            "\n",
            "📄 Processing Document 35/103: 2.2_Ortofotomapa_km_12,500-23,500_I._usek.pdf\n",
            "Content length: 0 characters\n"
          ]
        },
        {
          "name": "stderr",
          "output_type": "stream",
          "text": [
            "INFO:httpx:HTTP Request: POST https://api.openai.com/v1/chat/completions \"HTTP/1.1 200 OK\"\n"
          ]
        },
        {
          "name": "stdout",
          "output_type": "stream",
          "text": [
            "  📋 Extracted Project: Orthophotomap km 12,500-23,500, Section I\n",
            "  🔍 Checking for project matches...\n"
          ]
        },
        {
          "name": "stderr",
          "output_type": "stream",
          "text": [
            "INFO:httpx:HTTP Request: POST https://api.openai.com/v1/chat/completions \"HTTP/1.1 200 OK\"\n"
          ]
        },
        {
          "name": "stdout",
          "output_type": "stream",
          "text": [
            "    🤖 LLM Analysis:\n",
            "      - Match: True\n",
            "      - Confidence: high\n",
            "      - Reasoning: The new project and the existing project both involve orthophotomap imagery for specific kilometer sections of a transport infrastructure project. The existing project covers km 11,500-16,772 (Sections II, III, IV), while the new project covers km 12,500-23,500 (Section I). The overlap in kilometer markers (12,500-16,772) and the identical type of work (orthophotomap/geospatial data for infrastructure planning) strongly indicate they are part of the same overarching project, likely divided into sections or phases. The naming convention and technical scope are highly consistent.\n",
            "    ✅ Added to existing project: Orthophotomap km 11,500-16,772, Sections II, III, IV\n",
            "    📊 Decision: LLM match (confidence: high)\n",
            "    📈 Current Status: 17 consolidated projects\n",
            "------------------------------------------------------------\n",
            "\n",
            "📄 Processing Document 36/103: C_1_10_3_Cena_verejnej_prace.pdf\n",
            "Content length: 18637 characters\n"
          ]
        },
        {
          "name": "stderr",
          "output_type": "stream",
          "text": [
            "INFO:httpx:HTTP Request: POST https://api.openai.com/v1/chat/completions \"HTTP/1.1 200 OK\"\n"
          ]
        },
        {
          "name": "stdout",
          "output_type": "stream",
          "text": [
            "  📋 Extracted Project: Motorway D3 Žilina (Brodno) – Čadca, Stage I: Žilina (Brodno) – Kysucké Nové Mesto\n",
            "  🔍 Checking for project matches...\n"
          ]
        },
        {
          "name": "stderr",
          "output_type": "stream",
          "text": [
            "INFO:httpx:HTTP Request: POST https://api.openai.com/v1/chat/completions \"HTTP/1.1 200 OK\"\n"
          ]
        },
        {
          "name": "stdout",
          "output_type": "stream",
          "text": [
            "    🤖 LLM Analysis:\n",
            "      - Match: True\n",
            "      - Confidence: high\n",
            "      - Reasoning: The new project and the existing project share nearly identical names, both referencing the D3 motorway between Žilina (Brodno) and Kysucké Nové Mesto, specifically Stage I. The content described in the new project (feasibility study, cost breakdown, socio-economic evaluation) matches the typical scope of a feasibility study as indicated in the existing project's canonical name. The geographic location and project phase are identical. There is no indication of a different institution or a different phase. Therefore, it is highly likely these documents belong to the same project.\n",
            "    ✅ Added to existing project: Feasibility Study for the Construction of the D3 Motorway Žilina (Brodno) – Čadca, Stage I: Žilina (Brodno) – Kysucké Nové Mesto\n",
            "    📊 Decision: LLM match (confidence: high)\n",
            "    📈 Current Status: 17 consolidated projects\n",
            "------------------------------------------------------------\n",
            "\n",
            "📄 Processing Document 37/103: C_1_7_Seizmicky_prieskum.pdf\n",
            "Content length: 28112 characters\n"
          ]
        },
        {
          "name": "stderr",
          "output_type": "stream",
          "text": [
            "INFO:httpx:HTTP Request: POST https://api.openai.com/v1/chat/completions \"HTTP/1.1 200 OK\"\n"
          ]
        },
        {
          "name": "stdout",
          "output_type": "stream",
          "text": [
            "  📋 Extracted Project: D3 Motorway Žilina (Brodno) – Čadca\n",
            "  🔍 Checking for project matches...\n"
          ]
        },
        {
          "name": "stderr",
          "output_type": "stream",
          "text": [
            "INFO:httpx:HTTP Request: POST https://api.openai.com/v1/chat/completions \"HTTP/1.1 200 OK\"\n"
          ]
        },
        {
          "name": "stdout",
          "output_type": "stream",
          "text": [
            "    🤖 LLM Analysis:\n",
            "      - Match: True\n",
            "      - Confidence: high\n",
            "      - Reasoning: The new project concerns a seismic survey report prepared as part of the feasibility study for the D3 motorway section between Žilina (Brodno) and Čadca. The existing project with the name 'Feasibility Study for the Construction of the D3 Motorway Žilina (Brodno) – Čadca, Stage I: Žilina (Brodno) – Kysucké Nové Mesto' covers the same motorway corridor and geographic area. The new document appears to be a technical annex or supporting study within the broader feasibility study, likely corresponding to the same overall project but focusing on a specific aspect (seismic risk). The difference in naming is due to the new document referencing the entire section (Žilina (Brodno) – Čadca), while the existing project specifies Stage I (Žilina (Brodno) – Kysucké Nové Mesto), which is a subsection of the full route. Given the overlap in location, scope, and project phase (feasibility study), these documents are part of the same project initiative.\n",
            "    ✅ Added to existing project: Feasibility Study for the Construction of the D3 Motorway Žilina (Brodno) – Čadca, Stage I: Žilina (Brodno) – Kysucké Nové Mesto\n",
            "    📊 Decision: LLM match (confidence: high)\n",
            "    📈 Current Status: 17 consolidated projects\n",
            "------------------------------------------------------------\n",
            "\n",
            "📄 Processing Document 38/103: B_1_8_Tabulkova_schema_mostov_a_tunelov.pdf\n",
            "Content length: 6282 characters\n"
          ]
        },
        {
          "name": "stderr",
          "output_type": "stream",
          "text": [
            "INFO:httpx:HTTP Request: POST https://api.openai.com/v1/chat/completions \"HTTP/1.1 200 OK\"\n"
          ]
        },
        {
          "name": "stdout",
          "output_type": "stream",
          "text": [
            "  📋 Extracted Project: D3 Motorway Žilina (Brodno) - Čadca\n",
            "  🔍 Checking for project matches...\n"
          ]
        },
        {
          "name": "stderr",
          "output_type": "stream",
          "text": [
            "INFO:httpx:HTTP Request: POST https://api.openai.com/v1/chat/completions \"HTTP/1.1 200 OK\"\n"
          ]
        },
        {
          "name": "stdout",
          "output_type": "stream",
          "text": [
            "    🤖 LLM Analysis:\n",
            "      - Match: True\n",
            "      - Confidence: high\n",
            "      - Reasoning: The new project and the existing project both concern the D3 Motorway section between Žilina (Brodno) and Čadca in the Žilina region. The existing project specifically mentions Stage I: Žilina (Brodno) – Kysucké Nové Mesto, which is a subsection of the broader Žilina (Brodno) – Čadca route. The new project appears to cover the entire section or a broader feasibility study, but both are clearly part of the same overall motorway initiative. The technical focus, geographic scope, and project naming conventions strongly indicate they are phases or components of the same infrastructure project.\n",
            "    ✅ Added to existing project: Feasibility Study for the Construction of the D3 Motorway Žilina (Brodno) – Čadca, Stage I: Žilina (Brodno) – Kysucké Nové Mesto\n",
            "    📊 Decision: LLM match (confidence: high)\n",
            "    📈 Current Status: 17 consolidated projects\n",
            "------------------------------------------------------------\n",
            "\n",
            "📄 Processing Document 39/103: SU-dialkova-doprava_final.pdf\n",
            "Content length: 83765 characters\n"
          ]
        },
        {
          "name": "stderr",
          "output_type": "stream",
          "text": [
            "INFO:httpx:HTTP Request: POST https://api.openai.com/v1/chat/completions \"HTTP/1.1 200 OK\"\n"
          ]
        },
        {
          "name": "stdout",
          "output_type": "stream",
          "text": [
            "  📋 Extracted Project: Procurement of Interoperable Multi-system Electric Locomotives and Trainsets for Long-distance Transport\n",
            "  🔍 Checking for project matches...\n",
            "    🔍 Found 1 fuzzy matches:\n",
            "      - Procurement of interoperable multi-system electric locomotives and trainsets for long-distance transport (similarity: 1.00)\n"
          ]
        },
        {
          "name": "stderr",
          "output_type": "stream",
          "text": [
            "INFO:httpx:HTTP Request: POST https://api.openai.com/v1/chat/completions \"HTTP/1.1 200 OK\"\n"
          ]
        },
        {
          "name": "stdout",
          "output_type": "stream",
          "text": [
            "    🤖 LLM Analysis:\n",
            "      - Match: True\n",
            "      - Confidence: high\n",
            "      - Reasoning: The new project name is nearly identical to an existing project ('Procurement of interoperable multi-system electric locomotives and trainsets for long-distance transport'). The content matches exactly: both concern the procurement of interoperable multi-system electric locomotives and trainsets for long-distance passenger rail, prepared for Železničná spoločnosť Slovensko, a.s. (ZSSK). There are no indications of different phases, locations, or institutions. The minor difference in capitalization and phrasing does not indicate a separate project. Therefore, these are the same project.\n",
            "    ✅ Added to existing project: Procurement of interoperable multi-system electric locomotives and trainsets for long-distance transport\n",
            "    📊 Decision: LLM match (confidence: high)\n",
            "    📈 Current Status: 17 consolidated projects\n",
            "------------------------------------------------------------\n",
            "\n",
            "📄 Processing Document 40/103: C_1_4_1_D_D_model.pdf\n",
            "Content length: 73341 characters\n"
          ]
        },
        {
          "name": "stderr",
          "output_type": "stream",
          "text": [
            "INFO:httpx:HTTP Request: POST https://api.openai.com/v1/chat/completions \"HTTP/1.1 200 OK\"\n"
          ]
        },
        {
          "name": "stdout",
          "output_type": "stream",
          "text": [
            "  📋 Extracted Project: Transport Model in the D3 Motorway Corridor\n",
            "  🔍 Checking for project matches...\n"
          ]
        },
        {
          "name": "stderr",
          "output_type": "stream",
          "text": [
            "INFO:httpx:HTTP Request: POST https://api.openai.com/v1/chat/completions \"HTTP/1.1 200 OK\"\n"
          ]
        },
        {
          "name": "stdout",
          "output_type": "stream",
          "text": [
            "    🤖 LLM Analysis:\n",
            "      - Match: True\n",
            "      - Confidence: high\n",
            "      - Reasoning: The new project and the existing project both focus on the D3 motorway corridor in northern Slovakia, specifically the section Žilina (Brodno) – Čadca. The new project is a transport model and feasibility study for this corridor, which aligns with the scope of the existing project, even though the existing project's name specifies 'Stage I: Žilina (Brodno) – Kysucké Nové Mesto.' The new project covers the broader corridor and includes scenario analysis for various motorway variants, which likely encompasses the same section and purpose as the existing feasibility study. Both projects serve as analytical and decision-making bases for the D3 motorway's construction and operation. The overlap in geographic location, project type (feasibility/transport modeling), and purpose strongly indicate they are part of the same overall initiative, possibly as different phases or updates.\n",
            "    ✅ Added to existing project: Feasibility Study for the Construction of the D3 Motorway Žilina (Brodno) – Čadca, Stage I: Žilina (Brodno) – Kysucké Nové Mesto\n",
            "    📊 Decision: LLM match (confidence: high)\n",
            "    📈 Current Status: 17 consolidated projects\n",
            "------------------------------------------------------------\n",
            "\n",
            "📄 Processing Document 41/103: Príloha č. 1 - Finančná analýza.xlsx\n",
            "Content length: 468240 characters\n"
          ]
        },
        {
          "name": "stderr",
          "output_type": "stream",
          "text": [
            "INFO:httpx:HTTP Request: POST https://api.openai.com/v1/chat/completions \"HTTP/1.1 200 OK\"\n"
          ]
        },
        {
          "name": "stdout",
          "output_type": "stream",
          "text": [
            "  📋 Extracted Project: Financial Analysis of Relocation and Operational Costs for Selected Slovak Health Institutions\n",
            "  🔍 Checking for project matches...\n"
          ]
        },
        {
          "name": "stderr",
          "output_type": "stream",
          "text": [
            "INFO:httpx:HTTP Request: POST https://api.openai.com/v1/chat/completions \"HTTP/1.1 200 OK\"\n"
          ]
        },
        {
          "name": "stdout",
          "output_type": "stream",
          "text": [
            "    🤖 LLM Analysis:\n",
            "      - Match: True\n",
            "      - Confidence: high\n",
            "      - Reasoning: The new project analyzes the financial and operational implications of relocating and optimizing premises for several Slovak health sector institutions, including the Ministry of Health and related agencies. This aligns closely with the existing project 'Optimization of Spatial Arrangements in the Health Sector,' which likely covers similar analyses of space usage, relocation, and cost optimization for health sector entities. The overlap in sector (health), institutions involved, and the focus on spatial/operational optimization strongly indicate these are documents from the same overarching project, possibly representing different phases or detailed analyses within it.\n",
            "    📝 Updated canonical name: 'Optimization of Spatial Arrangements in the Health Sector' → 'Financial Analysis of Relocation and Operational Costs for Selected Slovak Health Institutions'\n",
            "    ✅ Added to existing project: Optimization of Spatial Arrangements in the Health Sector\n",
            "    📊 Decision: LLM match (confidence: high)\n",
            "    📈 Current Status: 17 consolidated projects\n",
            "------------------------------------------------------------\n",
            "\n",
            "📄 Processing Document 42/103: 02_Kapacitny_model_detailne_tabulky.xlsx\n",
            "Content length: 245027 characters\n"
          ]
        },
        {
          "name": "stderr",
          "output_type": "stream",
          "text": [
            "INFO:httpx:HTTP Request: POST https://api.openai.com/v1/chat/completions \"HTTP/1.1 200 OK\"\n"
          ]
        },
        {
          "name": "stdout",
          "output_type": "stream",
          "text": [
            "  📋 Extracted Project: Capacity Model – Detailed Tables\n",
            "  🔍 Checking for project matches...\n"
          ]
        },
        {
          "name": "stderr",
          "output_type": "stream",
          "text": [
            "INFO:httpx:HTTP Request: POST https://api.openai.com/v1/chat/completions \"HTTP/1.1 200 OK\"\n"
          ]
        },
        {
          "name": "stdout",
          "output_type": "stream",
          "text": [
            "    🤖 LLM Analysis:\n",
            "      - Match: False\n",
            "      - Confidence: medium\n",
            "      - Reasoning: The new project, 'Capacity Model – Detailed Tables', focuses on quantitative modeling and projections for healthcare service capacity in the Košice Self-Governing Region (KSK), specifically for outpatient visits and hospital bed needs. Among the existing projects, the closest thematic matches are 'Eastern Slovak Oncology Institute – Construction of a New Surgical and Outpatient Pavilion' and 'Financial Analysis of Relocation and Operational Costs for Selected Slovak Health Institutions.' However, the Oncology Institute project is specific to a single facility and construction, while the financial analysis project is broader and focused on costs rather than capacity modeling or regional infrastructure planning. No existing project explicitly covers regional healthcare capacity modeling or infrastructure planning for KSK. Therefore, there is no clear match.\n",
            "    🆕 Created new project: Capacity Model – Detailed Tables\n",
            "    📊 Decision: No match found - creating new project\n",
            "    📈 Current Status: 18 consolidated projects\n",
            "------------------------------------------------------------\n",
            "\n",
            "📄 Processing Document 43/103: hodnotenie-zssk-prenajom-rusnov_aktualizacia.pdf\n",
            "Content length: 7069 characters\n"
          ]
        },
        {
          "name": "stderr",
          "output_type": "stream",
          "text": [
            "INFO:httpx:HTTP Request: POST https://api.openai.com/v1/chat/completions \"HTTP/1.1 200 OK\"\n"
          ]
        },
        {
          "name": "stdout",
          "output_type": "stream",
          "text": [
            "  📋 Extracted Project: Lease of Electric Locomotives for Long-Distance Transport\n",
            "  🔍 Checking for project matches...\n"
          ]
        },
        {
          "name": "stderr",
          "output_type": "stream",
          "text": [
            "INFO:httpx:HTTP Request: POST https://api.openai.com/v1/chat/completions \"HTTP/1.1 200 OK\"\n"
          ]
        },
        {
          "name": "stdout",
          "output_type": "stream",
          "text": [
            "    🤖 LLM Analysis:\n",
            "      - Match: True\n",
            "      - Confidence: high\n",
            "      - Reasoning: The new project and the existing project both concern the acquisition of electric locomotives for long-distance rail transport, submitted by Železničná spoločnosť Slovensko (ZSSK). The new project is an updated economic evaluation of leasing 15 (with an option for 15 more) electric locomotives, while the existing project refers to the procurement of interoperable multi-system electric locomotives and trainsets for long-distance transport. Both projects share the same scope (long-distance rail transport, electric locomotives), likely involve the same government actors, and address the same need (replacement of aging locomotives and compliance with international standards). The difference in naming reflects a focus on leasing versus general procurement, but the content and objectives align, indicating these are phases or evaluations of the same overarching project.\n",
            "    ✅ Added to existing project: Procurement of interoperable multi-system electric locomotives and trainsets for long-distance transport\n",
            "    📊 Decision: LLM match (confidence: high)\n",
            "    📈 Current Status: 18 consolidated projects\n",
            "------------------------------------------------------------\n",
            "\n",
            "📄 Processing Document 44/103: C_1_5_0_ZAVERECNA_SPRAVA_I_ETAPY.pdf\n",
            "Content length: 88281 characters\n"
          ]
        },
        {
          "name": "stderr",
          "output_type": "stream",
          "text": [
            "INFO:httpx:HTTP Request: POST https://api.openai.com/v1/chat/completions \"HTTP/1.1 200 OK\"\n"
          ]
        },
        {
          "name": "stdout",
          "output_type": "stream",
          "text": [
            "  📋 Extracted Project: Motorway D3 Žilina (Brodno) - Kysucké Nové Mesto\n",
            "  🔍 Checking for project matches...\n"
          ]
        },
        {
          "name": "stderr",
          "output_type": "stream",
          "text": [
            "INFO:httpx:HTTP Request: POST https://api.openai.com/v1/chat/completions \"HTTP/1.1 200 OK\"\n"
          ]
        },
        {
          "name": "stdout",
          "output_type": "stream",
          "text": [
            "    🤖 LLM Analysis:\n",
            "      - Match: True\n",
            "      - Confidence: high\n",
            "      - Reasoning: The new project and the existing project both concern the D3 motorway section between Žilina (Brodno) and Kysucké Nové Mesto in northern Slovakia. The new project is a final report of an engineering-geological feasibility study for this section, which aligns with the scope of the existing project named 'Feasibility Study for the Construction of the D3 Motorway Žilina (Brodno) – Čadca, Stage I: Žilina (Brodno) – Kysucké Nové Mesto.' The geographic location, project phase (feasibility study), and content (geological and engineering assessments for motorway construction) all match. The difference in naming is due to the new project focusing specifically on the Žilina (Brodno) – Kysucké Nové Mesto segment, which is explicitly identified as Stage I in the existing project.\n",
            "    ✅ Added to existing project: Feasibility Study for the Construction of the D3 Motorway Žilina (Brodno) – Čadca, Stage I: Žilina (Brodno) – Kysucké Nové Mesto\n",
            "    📊 Decision: LLM match (confidence: high)\n",
            "    📈 Current Status: 18 consolidated projects\n",
            "------------------------------------------------------------\n",
            "\n",
            "📄 Processing Document 45/103: C_1_2_Hlukova_studia.pdf\n",
            "Content length: 34495 characters\n"
          ]
        },
        {
          "name": "stderr",
          "output_type": "stream",
          "text": [
            "INFO:httpx:HTTP Request: POST https://api.openai.com/v1/chat/completions \"HTTP/1.1 200 OK\"\n"
          ]
        },
        {
          "name": "stdout",
          "output_type": "stream",
          "text": [
            "  📋 Extracted Project: D3 Žilina (Brodno) – Kysucké Nové Mesto, including the separate construction of the KNM feeder road\n",
            "  🔍 Checking for project matches...\n"
          ]
        },
        {
          "name": "stderr",
          "output_type": "stream",
          "text": [
            "INFO:httpx:HTTP Request: POST https://api.openai.com/v1/chat/completions \"HTTP/1.1 200 OK\"\n"
          ]
        },
        {
          "name": "stdout",
          "output_type": "stream",
          "text": [
            "    🤖 LLM Analysis:\n",
            "      - Match: True\n",
            "      - Confidence: high\n",
            "      - Reasoning: The new project focuses on the D3 motorway section from Žilina (Brodno) to Kysucké Nové Mesto, which exactly matches the geographic scope and section described in the existing project 'Feasibility Study for the Construction of the D3 Motorway Žilina (Brodno) – Čadca, Stage I: Žilina (Brodno) – Kysucké Nové Mesto.' The new document is a noise study prepared as part of the feasibility study for this section, indicating it is a sub-document or component of the broader feasibility study project. The mention of the KNM feeder road is consistent with detailed studies often included in such feasibility studies. Therefore, these documents belong to the same overarching project.\n",
            "    ✅ Added to existing project: Feasibility Study for the Construction of the D3 Motorway Žilina (Brodno) – Čadca, Stage I: Žilina (Brodno) – Kysucké Nové Mesto\n",
            "    📊 Decision: LLM match (confidence: high)\n",
            "    📈 Current Status: 18 consolidated projects\n",
            "------------------------------------------------------------\n",
            "\n",
            "📄 Processing Document 46/103: Súčasť prílohy č. 4 - Pôdorysy budovy na ulici Limbová 2.pdf\n",
            "Content length: 7 characters\n"
          ]
        },
        {
          "name": "stderr",
          "output_type": "stream",
          "text": [
            "INFO:httpx:HTTP Request: POST https://api.openai.com/v1/chat/completions \"HTTP/1.1 200 OK\"\n"
          ]
        },
        {
          "name": "stdout",
          "output_type": "stream",
          "text": [
            "  📋 Extracted Project: Floor Plans of the Building at Limbová 2\n",
            "  🔍 Checking for project matches...\n"
          ]
        },
        {
          "name": "stderr",
          "output_type": "stream",
          "text": [
            "INFO:httpx:HTTP Request: POST https://api.openai.com/v1/chat/completions \"HTTP/1.1 200 OK\"\n"
          ]
        },
        {
          "name": "stdout",
          "output_type": "stream",
          "text": [
            "    🤖 LLM Analysis:\n",
            "      - Match: True\n",
            "      - Confidence: high\n",
            "      - Reasoning: Both the new project and the existing project reference architectural floor plans for the building at Limbová 2. The new project covers general floor plans as part of an annex, while the existing project specifically mentions the canteen and basement. The overlap in location, document type (floor plans), and likely institutional context strongly indicate these are part of the same broader project concerning the building at Limbová 2, possibly as different annexes or sections.\n",
            "    ✅ Added to existing project: Floor Plan of the Canteen and Basement of the Building at Limbová 2\n",
            "    📊 Decision: LLM match (confidence: high)\n",
            "    📈 Current Status: 18 consolidated projects\n",
            "------------------------------------------------------------\n",
            "\n",
            "📄 Processing Document 47/103: Hodnotenie_GSM-R_Varin-KE-CnT_20230301.pdf\n",
            "Content length: 3137 characters\n"
          ]
        },
        {
          "name": "stderr",
          "output_type": "stream",
          "text": [
            "INFO:httpx:HTTP Request: POST https://api.openai.com/v1/chat/completions \"HTTP/1.1 200 OK\"\n"
          ]
        },
        {
          "name": "stdout",
          "output_type": "stream",
          "text": [
            "  📋 Extracted Project: Implementation of GSM-R on the Varín – Košice – Čierna nad Tisou Railway Line (update)\n",
            "  🔍 Checking for project matches...\n"
          ]
        },
        {
          "name": "stderr",
          "output_type": "stream",
          "text": [
            "INFO:httpx:HTTP Request: POST https://api.openai.com/v1/chat/completions \"HTTP/1.1 200 OK\"\n"
          ]
        },
        {
          "name": "stdout",
          "output_type": "stream",
          "text": [
            "    🤖 LLM Analysis:\n",
            "      - Match: False\n",
            "      - Confidence: high\n",
            "      - Reasoning: None of the existing projects reference the implementation of GSM-R mobile communication technology or specifically mention the Varín – Košice – Čierna nad Tisou railway line. The existing projects focus on different infrastructure (motorways, hospitals, dormitories, oncology institute, administrative premises, procurement of locomotives, etc.) and do not overlap in geographic scope, technology, or subject matter with the new project. No project relates to railway communication systems or modernization of this specific railway corridor.\n",
            "    🆕 Created new project: Implementation of GSM-R on the Varín – Košice – Čierna nad Tisou Railway Line (update)\n",
            "    📊 Decision: No match found - creating new project\n",
            "    📈 Current Status: 19 consolidated projects\n",
            "------------------------------------------------------------\n",
            "\n",
            "📄 Processing Document 48/103: hodnotenie_prenajom-priestorov-msvvam.pdf\n",
            "Content length: 27234 characters\n"
          ]
        },
        {
          "name": "stderr",
          "output_type": "stream",
          "text": [
            "INFO:httpx:HTTP Request: POST https://api.openai.com/v1/chat/completions \"HTTP/1.1 200 OK\"\n"
          ]
        },
        {
          "name": "stdout",
          "output_type": "stream",
          "text": [
            "  📋 Extracted Project: Rental of Premises for the Ministry of Education, Research, Development and Youth of the Slovak Republic\n",
            "  🔍 Checking for project matches...\n"
          ]
        },
        {
          "name": "stderr",
          "output_type": "stream",
          "text": [
            "INFO:httpx:HTTP Request: POST https://api.openai.com/v1/chat/completions \"HTTP/1.1 200 OK\"\n"
          ]
        },
        {
          "name": "stdout",
          "output_type": "stream",
          "text": [
            "    🤖 LLM Analysis:\n",
            "      - Match: True\n",
            "      - Confidence: medium\n",
            "      - Reasoning: The new project concerns the economic evaluation and feasibility of relocating the Ministry of Education into rented premises (Spectrum Tower), consolidating multiple workplaces. Among the existing projects, 'Annex No. 3 - Detailed Information on Analyzed Administrative Premises' is the only one that plausibly relates to administrative premises, and its generic name suggests it could be a supporting or detailed document within the same broader project of evaluating and selecting administrative spaces for government use. Both projects likely involve analysis of office space options for government institutions in Bratislava. However, due to the lack of a detailed summary for 'Annex No. 3', the match cannot be confirmed with high confidence, but the overlap in subject matter and terminology makes a medium-confidence match appropriate.\n",
            "    📝 Updated canonical name: 'Annex No. 3 - Detailed Information on Analyzed Administrative Premises' → 'Rental of Premises for the Ministry of Education, Research, Development and Youth of the Slovak Republic'\n",
            "    ✅ Added to existing project: Annex No. 3 - Detailed Information on Analyzed Administrative Premises\n",
            "    📊 Decision: LLM match (confidence: medium)\n",
            "    📈 Current Status: 19 consolidated projects\n",
            "------------------------------------------------------------\n",
            "\n",
            "📄 Processing Document 49/103: hodnotenie_hviezda_aktualizacia_pred_podpisom.pdf\n",
            "Content length: 4669 characters\n"
          ]
        },
        {
          "name": "stderr",
          "output_type": "stream",
          "text": [
            "INFO:httpx:HTTP Request: POST https://api.openai.com/v1/chat/completions \"HTTP/1.1 200 OK\"\n"
          ]
        },
        {
          "name": "stdout",
          "output_type": "stream",
          "text": [
            "  📋 Extracted Project: Reconstruction of the Hviezda Dormitory – Update before Contract Signing\n",
            "  🔍 Checking for project matches...\n"
          ]
        },
        {
          "name": "stderr",
          "output_type": "stream",
          "text": [
            "INFO:httpx:HTTP Request: POST https://api.openai.com/v1/chat/completions \"HTTP/1.1 200 OK\"\n"
          ]
        },
        {
          "name": "stdout",
          "output_type": "stream",
          "text": [
            "    🤖 LLM Analysis:\n",
            "      - Match: True\n",
            "      - Confidence: high\n",
            "      - Reasoning: The new project and the existing project both concern the reconstruction of the Hviezda Dormitory (also known as Kukurica). The new project is an updated economic evaluation before contract signing, specifically focusing on the second phase (Stage II) of the reconstruction, which matches the phase indicated in the existing project name. Both projects involve converting the building for use by the Ministry of Defence, are located at the same site, and are co-financed by the Recovery and Resilience Plan and the state budget. The new document is an update or sub-document within the same overarching project as 'Reconstruction of the Hviezda Dormitory – Stage II.'\n",
            "    ✅ Added to existing project: Reconstruction of the Hviezda Dormitory – Stage II\n",
            "    📊 Decision: LLM match (confidence: high)\n",
            "    📈 Current Status: 19 consolidated projects\n",
            "------------------------------------------------------------\n",
            "\n",
            "📄 Processing Document 50/103: B_1_5_Charakteristicke_priecne_rezy.pdf\n",
            "Content length: 1750 characters\n"
          ]
        },
        {
          "name": "stderr",
          "output_type": "stream",
          "text": [
            "INFO:httpx:HTTP Request: POST https://api.openai.com/v1/chat/completions \"HTTP/1.1 200 OK\"\n"
          ]
        },
        {
          "name": "stdout",
          "output_type": "stream",
          "text": [
            "  📋 Extracted Project: Motorway D3 Žilina (Brodno) - Čadca\n",
            "  🔍 Checking for project matches...\n"
          ]
        },
        {
          "name": "stderr",
          "output_type": "stream",
          "text": [
            "INFO:httpx:HTTP Request: POST https://api.openai.com/v1/chat/completions \"HTTP/1.1 200 OK\"\n"
          ]
        },
        {
          "name": "stdout",
          "output_type": "stream",
          "text": [
            "    🤖 LLM Analysis:\n",
            "      - Match: True\n",
            "      - Confidence: high\n",
            "      - Reasoning: The new project and the existing project both concern the D3 motorway between Žilina (Brodno) and Čadca in the Žilina region. The new project is a feasibility study with technical details for this section, matching the scope and content of the existing project. The existing project specifies 'Stage I: Žilina (Brodno) – Kysucké Nové Mesto', which is a subsection of the full Žilina (Brodno) – Čadca route, suggesting both documents are part of the same overall motorway initiative, possibly covering different phases or updates. Both involve the National Motorway Company and reference similar technical documentation. The overlap in geographic location, project scope, and institutional involvement strongly indicate these are documents from the same project, possibly at different stages.\n",
            "    ✅ Added to existing project: Feasibility Study for the Construction of the D3 Motorway Žilina (Brodno) – Čadca, Stage I: Žilina (Brodno) – Kysucké Nové Mesto\n",
            "    📊 Decision: LLM match (confidence: high)\n",
            "    📈 Current Status: 19 consolidated projects\n",
            "------------------------------------------------------------\n",
            "\n",
            "📄 Processing Document 51/103: C_1_5_5_POZDLZNE_PROFILY_PREVZATE_Z_ARCHIVNYCH_PODKLADOV.pdf\n",
            "Content length: 34619 characters\n"
          ]
        },
        {
          "name": "stderr",
          "output_type": "stream",
          "text": [
            "INFO:httpx:HTTP Request: POST https://api.openai.com/v1/chat/completions \"HTTP/1.1 200 OK\"\n"
          ]
        },
        {
          "name": "stdout",
          "output_type": "stream",
          "text": [
            "  📋 Extracted Project: Motorway D3 Žilina (Brodno) - Čadca: Longitudinal Profiles Taken from Archival Sources\n",
            "  🔍 Checking for project matches...\n"
          ]
        },
        {
          "name": "stderr",
          "output_type": "stream",
          "text": [
            "INFO:httpx:HTTP Request: POST https://api.openai.com/v1/chat/completions \"HTTP/1.1 200 OK\"\n"
          ]
        },
        {
          "name": "stdout",
          "output_type": "stream",
          "text": [
            "    🤖 LLM Analysis:\n",
            "      - Match: True\n",
            "      - Confidence: high\n",
            "      - Reasoning: The new project and the existing project both focus on the D3 motorway section between Žilina (Brodno) and Čadca. The new project is a feasibility study compiling technical and geotechnical data for this section, which aligns with the scope of the existing project. The existing project's name specifies 'Stage I: Žilina (Brodno) – Kysucké Nové Mesto', which is a subsection of the broader Žilina (Brodno) – Čadca route. Given the overlap in geographic location, project type (feasibility study), and technical focus, it is highly likely these documents belong to the same overarching project, possibly as different phases or technical components.\n",
            "    ✅ Added to existing project: Feasibility Study for the Construction of the D3 Motorway Žilina (Brodno) – Čadca, Stage I: Žilina (Brodno) – Kysucké Nové Mesto\n",
            "    📊 Decision: LLM match (confidence: high)\n",
            "    📈 Current Status: 19 consolidated projects\n",
            "------------------------------------------------------------\n",
            "\n",
            "📄 Processing Document 52/103: C_1_5_3_UCELOVA_MAPA_INZINIERSKOGEOLOGICKEJ_RAJONIZACIE.pdf\n",
            "Content length: 4702 characters\n"
          ]
        },
        {
          "name": "stderr",
          "output_type": "stream",
          "text": [
            "INFO:httpx:HTTP Request: POST https://api.openai.com/v1/chat/completions \"HTTP/1.1 200 OK\"\n"
          ]
        },
        {
          "name": "stdout",
          "output_type": "stream",
          "text": [
            "  📋 Extracted Project: Purpose Map of Engineering-Geological Zoning\n",
            "  🔍 Checking for project matches...\n"
          ]
        },
        {
          "name": "stderr",
          "output_type": "stream",
          "text": [
            "INFO:httpx:HTTP Request: POST https://api.openai.com/v1/chat/completions \"HTTP/1.1 200 OK\"\n"
          ]
        },
        {
          "name": "stdout",
          "output_type": "stream",
          "text": [
            "    🤖 LLM Analysis:\n",
            "      - Match: False\n",
            "      - Confidence: high\n",
            "      - Reasoning: The new project, 'Purpose Map of Engineering-Geological Zoning,' is a technical document focused on geological mapping and zoning for land use and construction planning. None of the existing projects have names or implied scopes related to geological mapping, zoning, or engineering-geological surveys. The existing projects are primarily infrastructure construction (motorways, hospitals, dormitories), financial analyses, procurement, or traffic studies, with no indication of geological mapping as a component. There is no evidence of overlap in project content, scope, or likely responsible institutions.\n",
            "    🆕 Created new project: Purpose Map of Engineering-Geological Zoning\n",
            "    📊 Decision: No match found - creating new project\n",
            "    📈 Current Status: 20 consolidated projects\n",
            "------------------------------------------------------------\n",
            "\n",
            "📄 Processing Document 53/103: 665d6b9889bf2401837114.pdf\n",
            "Content length: 9185 characters\n"
          ]
        },
        {
          "name": "stderr",
          "output_type": "stream",
          "text": [
            "INFO:httpx:HTTP Request: POST https://api.openai.com/v1/chat/completions \"HTTP/1.1 200 OK\"\n"
          ]
        },
        {
          "name": "stdout",
          "output_type": "stream",
          "text": [
            "  📋 Extracted Project: Hospital of the Future Martin – St. Martin University Hospital\n",
            "  🔍 Checking for project matches...\n"
          ]
        },
        {
          "name": "stderr",
          "output_type": "stream",
          "text": [
            "INFO:httpx:HTTP Request: POST https://api.openai.com/v1/chat/completions \"HTTP/1.1 200 OK\"\n"
          ]
        },
        {
          "name": "stdout",
          "output_type": "stream",
          "text": [
            "    🤖 LLM Analysis:\n",
            "      - Match: False\n",
            "      - Confidence: high\n",
            "      - Reasoning: None of the existing projects reference the construction or modernization of a university hospital in Martin, Slovakia, nor do they mention 'Hospital of the Future', 'St. Martin University Hospital', or any related healthcare facility in Martin. The only existing healthcare-related projects are for the Eastern Slovak Oncology Institute and the F. D. Roosevelt Faculty Hospital in Banská Bystrica, both of which are in different locations and have different scopes. No project in the list matches the geographic location, institution, or specific content of the new project.\n",
            "    🆕 Created new project: Hospital of the Future Martin – St. Martin University Hospital\n",
            "    📊 Decision: No match found - creating new project\n",
            "    📈 Current Status: 21 consolidated projects\n",
            "------------------------------------------------------------\n",
            "\n",
            "📄 Processing Document 54/103: Hodnotenie_NDS_R2-Krivan-Tornala_20220727.pdf\n",
            "Content length: 8464 characters\n"
          ]
        },
        {
          "name": "stderr",
          "output_type": "stream",
          "text": [
            "INFO:httpx:HTTP Request: POST https://api.openai.com/v1/chat/completions \"HTTP/1.1 200 OK\"\n"
          ]
        },
        {
          "name": "stdout",
          "output_type": "stream",
          "text": [
            "  📋 Extracted Project: Expressway R2 Kriváň – Tornaľa\n",
            "  🔍 Checking for project matches...\n"
          ]
        },
        {
          "name": "stderr",
          "output_type": "stream",
          "text": [
            "INFO:httpx:HTTP Request: POST https://api.openai.com/v1/chat/completions \"HTTP/1.1 200 OK\"\n"
          ]
        },
        {
          "name": "stdout",
          "output_type": "stream",
          "text": [
            "    🤖 LLM Analysis:\n",
            "      - Match: False\n",
            "      - Confidence: high\n",
            "      - Reasoning: The new project concerns the Expressway R2 section Kriváň – Tornaľa, focusing on an economic evaluation and feasibility assessment for this specific road infrastructure. None of the existing projects reference the R2 expressway, the Kriváň – Tornaľa section, or any related feasibility or value-for-money studies for this corridor. The existing projects related to road infrastructure focus on different highways (D1, D3, D4/R7, R1) or unrelated geographic locations. There is no overlap in project name, content, scope, or geographic area. Therefore, the new project does not match any existing project.\n",
            "    🆕 Created new project: Expressway R2 Kriváň – Tornaľa\n",
            "    📊 Decision: No match found - creating new project\n",
            "    📈 Current Status: 22 consolidated projects\n",
            "------------------------------------------------------------\n",
            "\n",
            "📄 Processing Document 55/103: Štúdia uskutočniteľnosti zjednote nia priestorov MZSR a VsZP.pdf\n",
            "Content length: 36001 characters\n"
          ]
        },
        {
          "name": "stderr",
          "output_type": "stream",
          "text": [
            "INFO:httpx:HTTP Request: POST https://api.openai.com/v1/chat/completions \"HTTP/1.1 200 OK\"\n"
          ]
        },
        {
          "name": "stdout",
          "output_type": "stream",
          "text": [
            "  📋 Extracted Project: Optimization of Spatial Arrangements for the Ministry of Health of the Slovak Republic, General Health Insurance Company, National Health Information Center, and Emergency Medical Service Operations Center in Bratislava\n",
            "  🔍 Checking for project matches...\n"
          ]
        },
        {
          "name": "stderr",
          "output_type": "stream",
          "text": [
            "INFO:httpx:HTTP Request: POST https://api.openai.com/v1/chat/completions \"HTTP/1.1 200 OK\"\n"
          ]
        },
        {
          "name": "stdout",
          "output_type": "stream",
          "text": [
            "    🤖 LLM Analysis:\n",
            "      - Match: True\n",
            "      - Confidence: high\n",
            "      - Reasoning: The new project and the existing project both focus on the optimization, relocation, and operational costs of office spaces for Slovak health institutions, specifically mentioning the Ministry of Health, General Health Insurance Company, National Health Information Center, and Emergency Medical Service Operations Center in Bratislava. The new project is a feasibility study analyzing spatial arrangements and proposing consolidation/relocation options, while the existing project is a financial analysis of relocation and operational costs for selected Slovak health institutions. Both projects involve the same institutions, similar scope (relocation/optimization of office spaces), and the same geographic location (Bratislava). The difference in names reflects different aspects or phases (feasibility vs. financial analysis), but they are clearly part of the same overarching initiative.\n",
            "    📝 Updated canonical name: 'Financial Analysis of Relocation and Operational Costs for Selected Slovak Health Institutions' → 'Optimization of Spatial Arrangements for the Ministry of Health of the Slovak Republic, General Health Insurance Company, National Health Information Center, and Emergency Medical Service Operations Center in Bratislava'\n",
            "    ✅ Added to existing project: Financial Analysis of Relocation and Operational Costs for Selected Slovak Health Institutions\n",
            "    📊 Decision: LLM match (confidence: high)\n",
            "    📈 Current Status: 22 consolidated projects\n",
            "------------------------------------------------------------\n",
            "\n",
            "📄 Processing Document 56/103: C_1_5_1_PREHLADNA_SITUACIA.pdf\n",
            "Content length: 863 characters\n"
          ]
        },
        {
          "name": "stderr",
          "output_type": "stream",
          "text": [
            "INFO:httpx:HTTP Request: POST https://api.openai.com/v1/chat/completions \"HTTP/1.1 200 OK\"\n"
          ]
        },
        {
          "name": "stdout",
          "output_type": "stream",
          "text": [
            "  📋 Extracted Project: Motorway D3 Žilina (Brodno) - Čadca\n",
            "  🔍 Checking for project matches...\n"
          ]
        },
        {
          "name": "stderr",
          "output_type": "stream",
          "text": [
            "INFO:httpx:HTTP Request: POST https://api.openai.com/v1/chat/completions \"HTTP/1.1 200 OK\"\n"
          ]
        },
        {
          "name": "stdout",
          "output_type": "stream",
          "text": [
            "    🤖 LLM Analysis:\n",
            "      - Match: True\n",
            "      - Confidence: medium\n",
            "      - Reasoning: The new project and the existing project both concern the D3 motorway section between Žilina (Brodno) and Čadca in the Žilina region. The existing project specifically refers to 'Stage I: Žilina (Brodno) – Kysucké Nové Mesto', which is a subsection of the broader Žilina (Brodno) – Čadca route. The new project appears to cover the entire section from Žilina (Brodno) to Čadca, potentially including multiple stages. Both are feasibility studies supporting planning and decision-making for the same motorway corridor. There is a strong overlap in geographic location, scope, and likely institutional involvement. However, since the existing project is explicitly labeled as 'Stage I', there is a possibility that the new project is broader or includes additional phases. Therefore, the confidence is medium.\n",
            "    ✅ Added to existing project: Feasibility Study for the Construction of the D3 Motorway Žilina (Brodno) – Čadca, Stage I: Žilina (Brodno) – Kysucké Nové Mesto\n",
            "    📊 Decision: LLM match (confidence: medium)\n",
            "    📈 Current Status: 22 consolidated projects\n",
            "------------------------------------------------------------\n",
            "\n",
            "📄 Processing Document 57/103: Aktualiz cia çt£die realizovate–nosti technol¢gia Viçåov‚.pdf\n",
            "Content length: 22691 characters\n"
          ]
        },
        {
          "name": "stderr",
          "output_type": "stream",
          "text": [
            "INFO:httpx:HTTP Request: POST https://api.openai.com/v1/chat/completions \"HTTP/1.1 200 OK\"\n"
          ]
        },
        {
          "name": "stdout",
          "output_type": "stream",
          "text": [
            "  📋 Extracted Project: Update of the Feasibility Study: Completion of the D1 Section Lietavská Lúčka – Dubná Skala (Technology Part)\n",
            "  🔍 Checking for project matches...\n"
          ]
        },
        {
          "name": "stderr",
          "output_type": "stream",
          "text": [
            "INFO:httpx:HTTP Request: POST https://api.openai.com/v1/chat/completions \"HTTP/1.1 200 OK\"\n"
          ]
        },
        {
          "name": "stdout",
          "output_type": "stream",
          "text": [
            "    🤖 LLM Analysis:\n",
            "      - Match: False\n",
            "      - Confidence: high\n",
            "      - Reasoning: The new project concerns an update to the feasibility study for the D1 motorway section Lietavská Lúčka – Dubná Skala, focusing on the technology part and tunnel systems. None of the existing projects specifically reference this section of the D1 motorway. The closest matches in the list are projects related to other D1 sections (e.g., Bratislava-Triblavina, Bratislava-Senec, Bidovce–State Border SK/UA), but these are geographically and contextually distinct from Lietavská Lúčka – Dubná Skala. No existing project summary or name suggests it covers the same scope, location, or phase as the new project.\n",
            "    🆕 Created new project: Update of the Feasibility Study: Completion of the D1 Section Lietavská Lúčka – Dubná Skala (Technology Part)\n",
            "    📊 Decision: No match found - creating new project\n",
            "    📈 Current Status: 23 consolidated projects\n",
            "------------------------------------------------------------\n",
            "\n",
            "📄 Processing Document 58/103: B_1_4_Vzorovy_priecny_rez_D3.pdf\n",
            "Content length: 1972 characters\n"
          ]
        },
        {
          "name": "stderr",
          "output_type": "stream",
          "text": [
            "INFO:httpx:HTTP Request: POST https://api.openai.com/v1/chat/completions \"HTTP/1.1 200 OK\"\n"
          ]
        },
        {
          "name": "stdout",
          "output_type": "stream",
          "text": [
            "  📋 Extracted Project: Motorway D3 Žilina (Brodno) - Čadca\n",
            "  🔍 Checking for project matches...\n"
          ]
        },
        {
          "name": "stderr",
          "output_type": "stream",
          "text": [
            "INFO:httpx:HTTP Request: POST https://api.openai.com/v1/chat/completions \"HTTP/1.1 200 OK\"\n"
          ]
        },
        {
          "name": "stdout",
          "output_type": "stream",
          "text": [
            "    🤖 LLM Analysis:\n",
            "      - Match: True\n",
            "      - Confidence: high\n",
            "      - Reasoning: The new project and the existing project both concern the D3 motorway section between Žilina (Brodno) and Čadca in the Žilina region. The existing project specifically mentions Stage I: Žilina (Brodno) – Kysucké Nové Mesto, which is a subsection of the full Žilina (Brodno) – Čadca route. The new project appears to be a broader feasibility study for the entire section, possibly encompassing multiple stages. The overlap in geographic location, infrastructure type, and project scope (feasibility study for motorway construction) strongly indicate these are phases or components of the same overall project.\n",
            "    ✅ Added to existing project: Feasibility Study for the Construction of the D3 Motorway Žilina (Brodno) – Čadca, Stage I: Žilina (Brodno) – Kysucké Nové Mesto\n",
            "    📊 Decision: LLM match (confidence: high)\n",
            "    📈 Current Status: 23 consolidated projects\n",
            "------------------------------------------------------------\n",
            "\n",
            "📄 Processing Document 59/103: E_1_1b_Zhrnutie_v_anglickom_jazyku.pdf\n",
            "Content length: 28296 characters\n"
          ]
        },
        {
          "name": "stderr",
          "output_type": "stream",
          "text": [
            "INFO:httpx:HTTP Request: POST https://api.openai.com/v1/chat/completions \"HTTP/1.1 200 OK\"\n"
          ]
        },
        {
          "name": "stdout",
          "output_type": "stream",
          "text": [
            "  📋 Extracted Project: Motorway D3 Žilina (Brodno) – Čadca, Stage I: Žilina (Brodno) – Kysucké Nové Mesto\n",
            "  🔍 Checking for project matches...\n"
          ]
        },
        {
          "name": "stderr",
          "output_type": "stream",
          "text": [
            "INFO:httpx:HTTP Request: POST https://api.openai.com/v1/chat/completions \"HTTP/1.1 200 OK\"\n"
          ]
        },
        {
          "name": "stdout",
          "output_type": "stream",
          "text": [
            "    🤖 LLM Analysis:\n",
            "      - Match: True\n",
            "      - Confidence: high\n",
            "      - Reasoning: The new project name and the existing project name are nearly identical, both referring to the D3 motorway between Žilina (Brodno) and Kysucké Nové Mesto (Stage I). The summary of the new project describes a feasibility study for this exact section, matching the scope, geographic location, and project phase of the existing project. There is no indication of a different phase, update, or unrelated initiative. Therefore, these documents clearly belong to the same project.\n",
            "    ✅ Added to existing project: Feasibility Study for the Construction of the D3 Motorway Žilina (Brodno) – Čadca, Stage I: Žilina (Brodno) – Kysucké Nové Mesto\n",
            "    📊 Decision: LLM match (confidence: high)\n",
            "    📈 Current Status: 23 consolidated projects\n",
            "------------------------------------------------------------\n",
            "\n",
            "📄 Processing Document 60/103: Soci lno ekonomick‚ uŸinky projektu PPP D4_R7.pdf\n",
            "Content length: 280269 characters\n"
          ]
        },
        {
          "name": "stderr",
          "output_type": "stream",
          "text": [
            "INFO:httpx:HTTP Request: POST https://api.openai.com/v1/chat/completions \"HTTP/1.1 200 OK\"\n"
          ]
        },
        {
          "name": "stdout",
          "output_type": "stream",
          "text": [
            "  📋 Extracted Project: Socio-economic Impacts of the PPP D4/R7 Project\n",
            "  🔍 Checking for project matches...\n"
          ]
        },
        {
          "name": "stderr",
          "output_type": "stream",
          "text": [
            "INFO:httpx:HTTP Request: POST https://api.openai.com/v1/chat/completions \"HTTP/1.1 200 OK\"\n"
          ]
        },
        {
          "name": "stdout",
          "output_type": "stream",
          "text": [
            "    🤖 LLM Analysis:\n",
            "      - Match: True\n",
            "      - Confidence: high\n",
            "      - Reasoning: The new project and the existing project both focus on the D4/R7 PPP project, specifically the D4 motorway (Jarovce – Rača) and the R7 expressway (Bratislava Prievoz – Holice) in Slovakia. Both involve economic evaluation methodologies (such as cost-benefit analysis and life cycle cost analysis) and assess the socio-economic impacts and value for money of the same infrastructure initiative. The new project appears to be a detailed or updated socio-economic assessment, but it clearly pertains to the same underlying government project as the existing 'Value for Money Analysis of the D4/R7 PPP Project'.\n",
            "    ✅ Added to existing project: Value for Money Analysis of the D4/R7 PPP Project\n",
            "    📊 Decision: LLM match (confidence: high)\n",
            "    📈 Current Status: 23 consolidated projects\n",
            "------------------------------------------------------------\n",
            "\n",
            "📄 Processing Document 61/103: 2.1_Ortofotomapa_km_0,000-12,500_I._usek.pdf\n",
            "Content length: 0 characters\n"
          ]
        },
        {
          "name": "stderr",
          "output_type": "stream",
          "text": [
            "INFO:httpx:HTTP Request: POST https://api.openai.com/v1/chat/completions \"HTTP/1.1 200 OK\"\n"
          ]
        },
        {
          "name": "stdout",
          "output_type": "stream",
          "text": [
            "  📋 Extracted Project: Orthophotomap km 0.000-12.500, Section I\n",
            "  🔍 Checking for project matches...\n"
          ]
        },
        {
          "name": "stderr",
          "output_type": "stream",
          "text": [
            "INFO:httpx:HTTP Request: POST https://api.openai.com/v1/chat/completions \"HTTP/1.1 200 OK\"\n"
          ]
        },
        {
          "name": "stdout",
          "output_type": "stream",
          "text": [
            "    🤖 LLM Analysis:\n",
            "      - Match: True\n",
            "      - Confidence: high\n",
            "      - Reasoning: The new project and the existing project both involve the creation of orthophotomaps for specific kilometer ranges and sections of a transport corridor. The new project covers km 0.000-12.500, Section I, while the existing project covers km 11,500-16,772, Sections II, III, IV. The overlap in kilometer markers (11,500-12,500) and the sequential sectioning strongly suggest these are parts of the same larger transport infrastructure project, likely divided into phases or sections for mapping and documentation purposes. The content, scope, and naming conventions are highly consistent, indicating they are documents from the same overarching project.\n",
            "    ✅ Added to existing project: Orthophotomap km 11,500-16,772, Sections II, III, IV\n",
            "    📊 Decision: LLM match (confidence: high)\n",
            "    📈 Current Status: 23 consolidated projects\n",
            "------------------------------------------------------------\n",
            "\n",
            "📄 Processing Document 62/103: Zhrnutie D1 Bratislava-Triblavina.docx\n",
            "Content length: 21734 characters\n"
          ]
        },
        {
          "name": "stderr",
          "output_type": "stream",
          "text": [
            "INFO:httpx:HTTP Request: POST https://api.openai.com/v1/chat/completions \"HTTP/1.1 200 OK\"\n"
          ]
        },
        {
          "name": "stdout",
          "output_type": "stream",
          "text": [
            "  📋 Extracted Project: D1 Motorway Bratislava-Triblavina Expansion\n",
            "  🔍 Checking for project matches...\n"
          ]
        },
        {
          "name": "stderr",
          "output_type": "stream",
          "text": [
            "INFO:httpx:HTTP Request: POST https://api.openai.com/v1/chat/completions \"HTTP/1.1 200 OK\"\n"
          ]
        },
        {
          "name": "stdout",
          "output_type": "stream",
          "text": [
            "    🤖 LLM Analysis:\n",
            "      - Match: True\n",
            "      - Confidence: high\n",
            "      - Reasoning: The new project ('D1 Motorway Bratislava-Triblavina Expansion') and the existing project ('Extension of the D1 Motorway Bratislava - Triblavina') refer to the same motorway section (Bratislava-Triblavina) and both involve expansion/extension works. The new project summary describes widening, new interchanges, and coordination with D4, which aligns with the typical scope of an 'extension' project. The geographic location, infrastructure type, and project scope all match. The slight difference in naming ('Expansion' vs. 'Extension') is a common translation or terminology variation, but the core project is the same.\n",
            "    ✅ Added to existing project: Extension of the D1 Motorway Bratislava - Triblavina\n",
            "    📊 Decision: LLM match (confidence: high)\n",
            "    📈 Current Status: 23 consolidated projects\n",
            "------------------------------------------------------------\n",
            "\n",
            "📄 Processing Document 63/103: C_1_5_4_UČELOVA_HG_MAPA.pdf\n",
            "Content length: 1485 characters\n"
          ]
        },
        {
          "name": "stderr",
          "output_type": "stream",
          "text": [
            "INFO:httpx:HTTP Request: POST https://api.openai.com/v1/chat/completions \"HTTP/1.1 200 OK\"\n"
          ]
        },
        {
          "name": "stdout",
          "output_type": "stream",
          "text": [
            "  📋 Extracted Project: Purpose-Built Hydrogeological Map\n",
            "  🔍 Checking for project matches...\n"
          ]
        },
        {
          "name": "stderr",
          "output_type": "stream",
          "text": [
            "INFO:httpx:HTTP Request: POST https://api.openai.com/v1/chat/completions \"HTTP/1.1 200 OK\"\n"
          ]
        },
        {
          "name": "stdout",
          "output_type": "stream",
          "text": [
            "    🤖 LLM Analysis:\n",
            "      - Match: True\n",
            "      - Confidence: medium\n",
            "      - Reasoning: The new project, 'Purpose-Built Hydrogeological Map', and the existing project, 'Purpose Map of Engineering-Geological Zoning', both involve the creation of specialized maps related to the geological and hydrogeological characteristics of the Slovak Republic. While the names are not identical, both projects focus on mapping and zoning based on subsurface characteristics (engineering-geological vs. hydrogeological). The scope overlaps significantly, as both would require similar data sources, methodologies, and likely involve the same government institutions (e.g., geological survey authorities). However, there is some uncertainty because the existing project’s summary is missing, so the match is not certain. The confidence is medium due to the strong thematic and functional overlap, but not high due to lack of detailed summary for the existing project.\n",
            "    ✅ Added to existing project: Purpose Map of Engineering-Geological Zoning\n",
            "    📊 Decision: LLM match (confidence: medium)\n",
            "    📈 Current Status: 23 consolidated projects\n",
            "------------------------------------------------------------\n",
            "\n",
            "📄 Processing Document 64/103: Priloha_CBA_D3 privadzac_Final.xlsx\n",
            "Content length: 18325652 characters\n"
          ]
        },
        {
          "name": "stderr",
          "output_type": "stream",
          "text": [
            "INFO:httpx:HTTP Request: POST https://api.openai.com/v1/chat/completions \"HTTP/1.1 200 OK\"\n"
          ]
        },
        {
          "name": "stdout",
          "output_type": "stream",
          "text": [
            "  📋 Extracted Project: CBA D3 Feeder - Annex\n",
            "  🔍 Checking for project matches...\n"
          ]
        },
        {
          "name": "stderr",
          "output_type": "stream",
          "text": [
            "INFO:httpx:HTTP Request: POST https://api.openai.com/v1/chat/completions \"HTTP/1.1 200 OK\"\n"
          ]
        },
        {
          "name": "stdout",
          "output_type": "stream",
          "text": [
            "    🤖 LLM Analysis:\n",
            "      - Match: True\n",
            "      - Confidence: high\n",
            "      - Reasoning: The new project ('CBA D3 Feeder - Annex') is an annex to a cost-benefit analysis (CBA) for a 'D3 feeder road project.' The only existing project referencing 'D3' is the 'Feasibility Study for the Construction of the D3 Motorway Žilina (Brodno) – Čadca, Stage I: Žilina (Brodno) – Kysucké Nové Mesto.' The content of the new project (economic assumptions, CBA methodology) is consistent with supporting documentation for a feasibility study of a major road infrastructure project. The naming ('D3 Feeder') suggests a direct connection to the D3 motorway project, likely as a supporting or related infrastructure. Therefore, it is highly likely that the new document is part of the same overall D3 motorway project, possibly as a technical annex or supporting analysis.\n",
            "    ✅ Added to existing project: Feasibility Study for the Construction of the D3 Motorway Žilina (Brodno) – Čadca, Stage I: Žilina (Brodno) – Kysucké Nové Mesto\n",
            "    📊 Decision: LLM match (confidence: high)\n",
            "    📈 Current Status: 23 consolidated projects\n",
            "------------------------------------------------------------\n",
            "\n",
            "📄 Processing Document 65/103: priloha_cba_stand_tab_vozidla-dialkova-doprava_final.xlsx\n",
            "Content length: 1547412 characters\n"
          ]
        },
        {
          "name": "stderr",
          "output_type": "stream",
          "text": [
            "INFO:httpx:HTTP Request: POST https://api.openai.com/v1/chat/completions \"HTTP/1.1 200 OK\"\n"
          ]
        },
        {
          "name": "stdout",
          "output_type": "stream",
          "text": [
            "  📋 Extracted Project: Standard Table of Vehicles - Long-distance Transport\n",
            "  🔍 Checking for project matches...\n"
          ]
        },
        {
          "name": "stderr",
          "output_type": "stream",
          "text": [
            "INFO:httpx:HTTP Request: POST https://api.openai.com/v1/chat/completions \"HTTP/1.1 200 OK\"\n"
          ]
        },
        {
          "name": "stdout",
          "output_type": "stream",
          "text": [
            "    🤖 LLM Analysis:\n",
            "      - Match: False\n",
            "      - Confidence: high\n",
            "      - Reasoning: The new project, 'Standard Table of Vehicles - Long-distance Transport,' is a methodological or reference document providing macroeconomic parameters and financial assumptions for use in cost-benefit analyses of transport projects. It is not a specific infrastructure project, feasibility study, or procurement, but rather a supporting document for standardized evaluation across multiple transport projects. None of the existing projects are methodological standards or reference tables; they are all specific infrastructure projects, studies, or procurements. There is no overlap in project name, content, or scope.\n",
            "    🆕 Created new project: Standard Table of Vehicles - Long-distance Transport\n",
            "    📊 Decision: No match found - creating new project\n",
            "    📈 Current Status: 24 consolidated projects\n",
            "------------------------------------------------------------\n",
            "\n",
            "📄 Processing Document 66/103: Pr¡loha Ÿ. 7 Aktualiz cia pred podpisom ZoD.pdf\n",
            "Content length: 3764 characters\n"
          ]
        },
        {
          "name": "stderr",
          "output_type": "stream",
          "text": [
            "INFO:httpx:HTTP Request: POST https://api.openai.com/v1/chat/completions \"HTTP/1.1 200 OK\"\n"
          ]
        },
        {
          "name": "stdout",
          "output_type": "stream",
          "text": [
            "  📋 Extracted Project: Technological Equipment of the Višňové Tunnel Including the Information System of the D1 Motorway Lietavská Lúčka – Višňové – Dubná Skala (according to FIDIC contract conditions – 'Yellow Book')\n",
            "  🔍 Checking for project matches...\n"
          ]
        },
        {
          "name": "stderr",
          "output_type": "stream",
          "text": [
            "INFO:httpx:HTTP Request: POST https://api.openai.com/v1/chat/completions \"HTTP/1.1 200 OK\"\n"
          ]
        },
        {
          "name": "stdout",
          "output_type": "stream",
          "text": [
            "    🤖 LLM Analysis:\n",
            "      - Match: True\n",
            "      - Confidence: high\n",
            "      - Reasoning: The new project focuses on the technological equipment and information system for the Višňové Tunnel and the D1 motorway section Lietavská Lúčka – Višňové – Dubná Skala. The existing project 'Update of the Feasibility Study: Completion of the D1 Section Lietavská Lúčka – Dubná Skala (Technology Part)' covers the same geographic section and specifically mentions the technology part, which aligns with the new project's focus on technological equipment and systems. Both are feasibility study updates prior to contract signing, and the summaries indicate similar content and timing. The Višňové Tunnel is a key feature of this D1 section, further confirming the match.\n",
            "    📝 Updated canonical name: 'Update of the Feasibility Study: Completion of the D1 Section Lietavská Lúčka – Dubná Skala (Technology Part)' → 'Technological Equipment of the Višňové Tunnel Including the Information System of the D1 Motorway Lietavská Lúčka – Višňové – Dubná Skala (according to FIDIC contract conditions – 'Yellow Book')'\n",
            "    ✅ Added to existing project: Update of the Feasibility Study: Completion of the D1 Section Lietavská Lúčka – Dubná Skala (Technology Part)\n",
            "    📊 Decision: LLM match (confidence: high)\n",
            "    📈 Current Status: 24 consolidated projects\n",
            "------------------------------------------------------------\n",
            "\n",
            "📄 Processing Document 67/103: B_1_1_Prehladna_situacia.pdf\n",
            "Content length: 2853 characters\n"
          ]
        },
        {
          "name": "stderr",
          "output_type": "stream",
          "text": [
            "INFO:httpx:HTTP Request: POST https://api.openai.com/v1/chat/completions \"HTTP/1.1 200 OK\"\n"
          ]
        },
        {
          "name": "stdout",
          "output_type": "stream",
          "text": [
            "  📋 Extracted Project: D3 Motorway Žilina (Brodno) - Čadca\n",
            "  🔍 Checking for project matches...\n"
          ]
        },
        {
          "name": "stderr",
          "output_type": "stream",
          "text": [
            "INFO:httpx:HTTP Request: POST https://api.openai.com/v1/chat/completions \"HTTP/1.1 200 OK\"\n"
          ]
        },
        {
          "name": "stdout",
          "output_type": "stream",
          "text": [
            "    🤖 LLM Analysis:\n",
            "      - Match: True\n",
            "      - Confidence: high\n",
            "      - Reasoning: The new project and the existing project both concern the D3 motorway section between Žilina (Brodno) and Čadca in the Žilina region. The new project describes an overview and technical solution for the entire section from Žilina (Brodno) to Čadca, referencing previous technical documentation and studies, which aligns with the existing project's focus on a feasibility study for the same corridor, specifically Stage I (Žilina (Brodno) – Kysucké Nové Mesto). The overlap in geographic location, project scope, and references to project stages strongly indicate these documents are part of the same overall motorway initiative, possibly representing different phases or updates. The naming difference is due to the new project being broader or more recent, but both are clearly linked to the D3 Žilina (Brodno) – Čadca corridor.\n",
            "    ✅ Added to existing project: Feasibility Study for the Construction of the D3 Motorway Žilina (Brodno) – Čadca, Stage I: Žilina (Brodno) – Kysucké Nové Mesto\n",
            "    📊 Decision: LLM match (confidence: high)\n",
            "    📈 Current Status: 24 consolidated projects\n",
            "------------------------------------------------------------\n",
            "\n",
            "📄 Processing Document 68/103: Príloha_CBA_Stand_Tab_Cesty_E1_Final_uprava4_ZH.xlsx\n",
            "Content length: 1063024 characters\n"
          ]
        },
        {
          "name": "stderr",
          "output_type": "stream",
          "text": [
            "INFO:httpx:HTTP Request: POST https://api.openai.com/v1/chat/completions \"HTTP/1.1 200 OK\"\n"
          ]
        },
        {
          "name": "stdout",
          "output_type": "stream",
          "text": [
            "  📋 Extracted Project: CBA Standard Table - Roads\n",
            "  🔍 Checking for project matches...\n"
          ]
        },
        {
          "name": "stderr",
          "output_type": "stream",
          "text": [
            "INFO:httpx:HTTP Request: POST https://api.openai.com/v1/chat/completions \"HTTP/1.1 200 OK\"\n"
          ]
        },
        {
          "name": "stdout",
          "output_type": "stream",
          "text": [
            "    🤖 LLM Analysis:\n",
            "      - Match: False\n",
            "      - Confidence: high\n",
            "      - Reasoning: The new project, 'CBA Standard Table - Roads', is a methodological or reference document providing standardized parameters for cost-benefit analysis of road infrastructure projects in Slovakia. It is not a specific infrastructure project, feasibility study, or value-for-money assessment of a particular road, motorway, or transport corridor. None of the existing projects are methodological standards or general reference tables; they are all specific to particular infrastructure projects, locations, or institutions. The only somewhat similar title is 'Standard Table of Vehicles - Long-distance Transport', but that appears to be a standard table for vehicles, not for roads or CBA methodology. Therefore, there is no match.\n",
            "    🆕 Created new project: CBA Standard Table - Roads\n",
            "    📊 Decision: No match found - creating new project\n",
            "    📈 Current Status: 25 consolidated projects\n",
            "------------------------------------------------------------\n",
            "\n",
            "📄 Processing Document 69/103: B_1_3_Pozdlzny_profil_D3.pdf\n",
            "Content length: 9163 characters\n"
          ]
        },
        {
          "ename": "KeyboardInterrupt",
          "evalue": "",
          "output_type": "error",
          "traceback": [
            "\u001b[0;31m---------------------------------------------------------------------------\u001b[0m",
            "\u001b[0;31mKeyboardInterrupt\u001b[0m                         Traceback (most recent call last)",
            "Cell \u001b[0;32mIn[2], line 19\u001b[0m\n\u001b[1;32m     16\u001b[0m \u001b[38;5;28mprint\u001b[39m(\u001b[38;5;124mf\u001b[39m\u001b[38;5;124m\"\u001b[39m\u001b[38;5;124mContent length: \u001b[39m\u001b[38;5;132;01m{\u001b[39;00m\u001b[38;5;28mlen\u001b[39m(content)\u001b[38;5;132;01m}\u001b[39;00m\u001b[38;5;124m characters\u001b[39m\u001b[38;5;124m\"\u001b[39m)\n\u001b[1;32m     18\u001b[0m \u001b[38;5;66;03m# Extract metadata using LLM\u001b[39;00m\n\u001b[0;32m---> 19\u001b[0m metadata \u001b[38;5;241m=\u001b[39m \u001b[43mextract_metadata_with_llm\u001b[49m\u001b[43m(\u001b[49m\u001b[43mcontent\u001b[49m\u001b[43m,\u001b[49m\u001b[43m \u001b[49m\u001b[43mfilename\u001b[49m\u001b[43m)\u001b[49m\n\u001b[1;32m     20\u001b[0m metadata[\u001b[38;5;124m\"\u001b[39m\u001b[38;5;124mfilename\u001b[39m\u001b[38;5;124m\"\u001b[39m] \u001b[38;5;241m=\u001b[39m filename\n\u001b[1;32m     21\u001b[0m metadata[\u001b[38;5;124m\"\u001b[39m\u001b[38;5;124mcontent_length\u001b[39m\u001b[38;5;124m\"\u001b[39m] \u001b[38;5;241m=\u001b[39m \u001b[38;5;28mlen\u001b[39m(content)\n",
            "Cell \u001b[0;32mIn[1], line 45\u001b[0m, in \u001b[0;36mextract_metadata_with_llm\u001b[0;34m(document_content, filename)\u001b[0m\n\u001b[1;32m     21\u001b[0m prompt \u001b[38;5;241m=\u001b[39m \u001b[38;5;124mf\u001b[39m\u001b[38;5;124m\"\"\"\u001b[39m\n\u001b[1;32m     22\u001b[0m \u001b[38;5;124mYou are analyzing a Slovak government document. Please extract the following information and return it as a JSON object in English:\u001b[39m\n\u001b[1;32m     23\u001b[0m \u001b[38;5;124m\u001b[39m\n\u001b[0;32m   (...)\u001b[0m\n\u001b[1;32m     41\u001b[0m \u001b[38;5;124m- Return only valid JSON, no additional text\u001b[39m\n\u001b[1;32m     42\u001b[0m \u001b[38;5;124m\u001b[39m\u001b[38;5;124m\"\"\"\u001b[39m\n\u001b[1;32m     44\u001b[0m \u001b[38;5;28;01mtry\u001b[39;00m:\n\u001b[0;32m---> 45\u001b[0m     response \u001b[38;5;241m=\u001b[39m \u001b[43mclient\u001b[49m\u001b[38;5;241;43m.\u001b[39;49m\u001b[43mchat\u001b[49m\u001b[38;5;241;43m.\u001b[39;49m\u001b[43mcompletions\u001b[49m\u001b[38;5;241;43m.\u001b[39;49m\u001b[43mcreate\u001b[49m\u001b[43m(\u001b[49m\n\u001b[1;32m     46\u001b[0m \u001b[43m        \u001b[49m\u001b[43mmodel\u001b[49m\u001b[38;5;241;43m=\u001b[39;49m\u001b[38;5;124;43m\"\u001b[39;49m\u001b[38;5;124;43mgpt-4.1\u001b[39;49m\u001b[38;5;124;43m\"\u001b[39;49m\u001b[43m,\u001b[49m\n\u001b[1;32m     47\u001b[0m \u001b[43m        \u001b[49m\u001b[43mmessages\u001b[49m\u001b[38;5;241;43m=\u001b[39;49m\u001b[43m[\u001b[49m\n\u001b[1;32m     48\u001b[0m \u001b[43m            \u001b[49m\u001b[43m{\u001b[49m\u001b[38;5;124;43m\"\u001b[39;49m\u001b[38;5;124;43mrole\u001b[39;49m\u001b[38;5;124;43m\"\u001b[39;49m\u001b[43m:\u001b[49m\u001b[43m \u001b[49m\u001b[38;5;124;43m\"\u001b[39;49m\u001b[38;5;124;43msystem\u001b[39;49m\u001b[38;5;124;43m\"\u001b[39;49m\u001b[43m,\u001b[49m\u001b[43m \u001b[49m\u001b[38;5;124;43m\"\u001b[39;49m\u001b[38;5;124;43mcontent\u001b[39;49m\u001b[38;5;124;43m\"\u001b[39;49m\u001b[43m:\u001b[49m\u001b[43m \u001b[49m\u001b[38;5;124;43m\"\u001b[39;49m\u001b[38;5;124;43mYou are an expert document analyst specializing in Slovak government documents. Extract metadata accurately and return only valid JSON.\u001b[39;49m\u001b[38;5;124;43m\"\u001b[39;49m\u001b[43m}\u001b[49m\u001b[43m,\u001b[49m\n\u001b[1;32m     49\u001b[0m \u001b[43m            \u001b[49m\u001b[43m{\u001b[49m\u001b[38;5;124;43m\"\u001b[39;49m\u001b[38;5;124;43mrole\u001b[39;49m\u001b[38;5;124;43m\"\u001b[39;49m\u001b[43m:\u001b[49m\u001b[43m \u001b[49m\u001b[38;5;124;43m\"\u001b[39;49m\u001b[38;5;124;43muser\u001b[39;49m\u001b[38;5;124;43m\"\u001b[39;49m\u001b[43m,\u001b[49m\u001b[43m \u001b[49m\u001b[38;5;124;43m\"\u001b[39;49m\u001b[38;5;124;43mcontent\u001b[39;49m\u001b[38;5;124;43m\"\u001b[39;49m\u001b[43m:\u001b[49m\u001b[43m \u001b[49m\u001b[43mprompt\u001b[49m\u001b[43m}\u001b[49m\n\u001b[1;32m     50\u001b[0m \u001b[43m        \u001b[49m\u001b[43m]\u001b[49m\u001b[43m,\u001b[49m\n\u001b[1;32m     51\u001b[0m \u001b[43m        \u001b[49m\u001b[43mtemperature\u001b[49m\u001b[38;5;241;43m=\u001b[39;49m\u001b[38;5;241;43m0.1\u001b[39;49m\u001b[43m,\u001b[49m\n\u001b[1;32m     52\u001b[0m \u001b[43m        \u001b[49m\u001b[43mmax_tokens\u001b[49m\u001b[38;5;241;43m=\u001b[39;49m\u001b[38;5;241;43m1000\u001b[39;49m\n\u001b[1;32m     53\u001b[0m \u001b[43m    \u001b[49m\u001b[43m)\u001b[49m\n\u001b[1;32m     55\u001b[0m     content \u001b[38;5;241m=\u001b[39m response\u001b[38;5;241m.\u001b[39mchoices[\u001b[38;5;241m0\u001b[39m]\u001b[38;5;241m.\u001b[39mmessage\u001b[38;5;241m.\u001b[39mcontent\u001b[38;5;241m.\u001b[39mstrip()\n\u001b[1;32m     57\u001b[0m     \u001b[38;5;28;01mtry\u001b[39;00m:\n",
            "File \u001b[0;32m~/Desktop/World Bank/Code/slovakia_CaseStudy/wb_venv/lib/python3.9/site-packages/openai/_utils/_utils.py:286\u001b[0m, in \u001b[0;36mrequired_args.<locals>.inner.<locals>.wrapper\u001b[0;34m(*args, **kwargs)\u001b[0m\n\u001b[1;32m    284\u001b[0m             msg \u001b[38;5;241m=\u001b[39m \u001b[38;5;124mf\u001b[39m\u001b[38;5;124m\"\u001b[39m\u001b[38;5;124mMissing required argument: \u001b[39m\u001b[38;5;132;01m{\u001b[39;00mquote(missing[\u001b[38;5;241m0\u001b[39m])\u001b[38;5;132;01m}\u001b[39;00m\u001b[38;5;124m\"\u001b[39m\n\u001b[1;32m    285\u001b[0m     \u001b[38;5;28;01mraise\u001b[39;00m \u001b[38;5;167;01mTypeError\u001b[39;00m(msg)\n\u001b[0;32m--> 286\u001b[0m \u001b[38;5;28;01mreturn\u001b[39;00m \u001b[43mfunc\u001b[49m\u001b[43m(\u001b[49m\u001b[38;5;241;43m*\u001b[39;49m\u001b[43margs\u001b[49m\u001b[43m,\u001b[49m\u001b[43m \u001b[49m\u001b[38;5;241;43m*\u001b[39;49m\u001b[38;5;241;43m*\u001b[39;49m\u001b[43mkwargs\u001b[49m\u001b[43m)\u001b[49m\n",
            "File \u001b[0;32m~/Desktop/World Bank/Code/slovakia_CaseStudy/wb_venv/lib/python3.9/site-packages/openai/resources/chat/completions/completions.py:1147\u001b[0m, in \u001b[0;36mCompletions.create\u001b[0;34m(self, messages, model, audio, frequency_penalty, function_call, functions, logit_bias, logprobs, max_completion_tokens, max_tokens, metadata, modalities, n, parallel_tool_calls, prediction, presence_penalty, prompt_cache_key, reasoning_effort, response_format, safety_identifier, seed, service_tier, stop, store, stream, stream_options, temperature, tool_choice, tools, top_logprobs, top_p, user, verbosity, web_search_options, extra_headers, extra_query, extra_body, timeout)\u001b[0m\n\u001b[1;32m   1101\u001b[0m \u001b[38;5;129m@required_args\u001b[39m([\u001b[38;5;124m\"\u001b[39m\u001b[38;5;124mmessages\u001b[39m\u001b[38;5;124m\"\u001b[39m, \u001b[38;5;124m\"\u001b[39m\u001b[38;5;124mmodel\u001b[39m\u001b[38;5;124m\"\u001b[39m], [\u001b[38;5;124m\"\u001b[39m\u001b[38;5;124mmessages\u001b[39m\u001b[38;5;124m\"\u001b[39m, \u001b[38;5;124m\"\u001b[39m\u001b[38;5;124mmodel\u001b[39m\u001b[38;5;124m\"\u001b[39m, \u001b[38;5;124m\"\u001b[39m\u001b[38;5;124mstream\u001b[39m\u001b[38;5;124m\"\u001b[39m])\n\u001b[1;32m   1102\u001b[0m \u001b[38;5;28;01mdef\u001b[39;00m\u001b[38;5;250m \u001b[39m\u001b[38;5;21mcreate\u001b[39m(\n\u001b[1;32m   1103\u001b[0m     \u001b[38;5;28mself\u001b[39m,\n\u001b[0;32m   (...)\u001b[0m\n\u001b[1;32m   1144\u001b[0m     timeout: \u001b[38;5;28mfloat\u001b[39m \u001b[38;5;241m|\u001b[39m httpx\u001b[38;5;241m.\u001b[39mTimeout \u001b[38;5;241m|\u001b[39m \u001b[38;5;28;01mNone\u001b[39;00m \u001b[38;5;241m|\u001b[39m NotGiven \u001b[38;5;241m=\u001b[39m not_given,\n\u001b[1;32m   1145\u001b[0m ) \u001b[38;5;241m-\u001b[39m\u001b[38;5;241m>\u001b[39m ChatCompletion \u001b[38;5;241m|\u001b[39m Stream[ChatCompletionChunk]:\n\u001b[1;32m   1146\u001b[0m     validate_response_format(response_format)\n\u001b[0;32m-> 1147\u001b[0m     \u001b[38;5;28;01mreturn\u001b[39;00m \u001b[38;5;28;43mself\u001b[39;49m\u001b[38;5;241;43m.\u001b[39;49m\u001b[43m_post\u001b[49m\u001b[43m(\u001b[49m\n\u001b[1;32m   1148\u001b[0m \u001b[43m        \u001b[49m\u001b[38;5;124;43m\"\u001b[39;49m\u001b[38;5;124;43m/chat/completions\u001b[39;49m\u001b[38;5;124;43m\"\u001b[39;49m\u001b[43m,\u001b[49m\n\u001b[1;32m   1149\u001b[0m \u001b[43m        \u001b[49m\u001b[43mbody\u001b[49m\u001b[38;5;241;43m=\u001b[39;49m\u001b[43mmaybe_transform\u001b[49m\u001b[43m(\u001b[49m\n\u001b[1;32m   1150\u001b[0m \u001b[43m            \u001b[49m\u001b[43m{\u001b[49m\n\u001b[1;32m   1151\u001b[0m \u001b[43m                \u001b[49m\u001b[38;5;124;43m\"\u001b[39;49m\u001b[38;5;124;43mmessages\u001b[39;49m\u001b[38;5;124;43m\"\u001b[39;49m\u001b[43m:\u001b[49m\u001b[43m \u001b[49m\u001b[43mmessages\u001b[49m\u001b[43m,\u001b[49m\n\u001b[1;32m   1152\u001b[0m \u001b[43m                \u001b[49m\u001b[38;5;124;43m\"\u001b[39;49m\u001b[38;5;124;43mmodel\u001b[39;49m\u001b[38;5;124;43m\"\u001b[39;49m\u001b[43m:\u001b[49m\u001b[43m \u001b[49m\u001b[43mmodel\u001b[49m\u001b[43m,\u001b[49m\n\u001b[1;32m   1153\u001b[0m \u001b[43m                \u001b[49m\u001b[38;5;124;43m\"\u001b[39;49m\u001b[38;5;124;43maudio\u001b[39;49m\u001b[38;5;124;43m\"\u001b[39;49m\u001b[43m:\u001b[49m\u001b[43m \u001b[49m\u001b[43maudio\u001b[49m\u001b[43m,\u001b[49m\n\u001b[1;32m   1154\u001b[0m \u001b[43m                \u001b[49m\u001b[38;5;124;43m\"\u001b[39;49m\u001b[38;5;124;43mfrequency_penalty\u001b[39;49m\u001b[38;5;124;43m\"\u001b[39;49m\u001b[43m:\u001b[49m\u001b[43m \u001b[49m\u001b[43mfrequency_penalty\u001b[49m\u001b[43m,\u001b[49m\n\u001b[1;32m   1155\u001b[0m \u001b[43m                \u001b[49m\u001b[38;5;124;43m\"\u001b[39;49m\u001b[38;5;124;43mfunction_call\u001b[39;49m\u001b[38;5;124;43m\"\u001b[39;49m\u001b[43m:\u001b[49m\u001b[43m \u001b[49m\u001b[43mfunction_call\u001b[49m\u001b[43m,\u001b[49m\n\u001b[1;32m   1156\u001b[0m \u001b[43m                \u001b[49m\u001b[38;5;124;43m\"\u001b[39;49m\u001b[38;5;124;43mfunctions\u001b[39;49m\u001b[38;5;124;43m\"\u001b[39;49m\u001b[43m:\u001b[49m\u001b[43m \u001b[49m\u001b[43mfunctions\u001b[49m\u001b[43m,\u001b[49m\n\u001b[1;32m   1157\u001b[0m \u001b[43m                \u001b[49m\u001b[38;5;124;43m\"\u001b[39;49m\u001b[38;5;124;43mlogit_bias\u001b[39;49m\u001b[38;5;124;43m\"\u001b[39;49m\u001b[43m:\u001b[49m\u001b[43m \u001b[49m\u001b[43mlogit_bias\u001b[49m\u001b[43m,\u001b[49m\n\u001b[1;32m   1158\u001b[0m \u001b[43m                \u001b[49m\u001b[38;5;124;43m\"\u001b[39;49m\u001b[38;5;124;43mlogprobs\u001b[39;49m\u001b[38;5;124;43m\"\u001b[39;49m\u001b[43m:\u001b[49m\u001b[43m \u001b[49m\u001b[43mlogprobs\u001b[49m\u001b[43m,\u001b[49m\n\u001b[1;32m   1159\u001b[0m \u001b[43m                \u001b[49m\u001b[38;5;124;43m\"\u001b[39;49m\u001b[38;5;124;43mmax_completion_tokens\u001b[39;49m\u001b[38;5;124;43m\"\u001b[39;49m\u001b[43m:\u001b[49m\u001b[43m \u001b[49m\u001b[43mmax_completion_tokens\u001b[49m\u001b[43m,\u001b[49m\n\u001b[1;32m   1160\u001b[0m \u001b[43m                \u001b[49m\u001b[38;5;124;43m\"\u001b[39;49m\u001b[38;5;124;43mmax_tokens\u001b[39;49m\u001b[38;5;124;43m\"\u001b[39;49m\u001b[43m:\u001b[49m\u001b[43m \u001b[49m\u001b[43mmax_tokens\u001b[49m\u001b[43m,\u001b[49m\n\u001b[1;32m   1161\u001b[0m \u001b[43m                \u001b[49m\u001b[38;5;124;43m\"\u001b[39;49m\u001b[38;5;124;43mmetadata\u001b[39;49m\u001b[38;5;124;43m\"\u001b[39;49m\u001b[43m:\u001b[49m\u001b[43m \u001b[49m\u001b[43mmetadata\u001b[49m\u001b[43m,\u001b[49m\n\u001b[1;32m   1162\u001b[0m \u001b[43m                \u001b[49m\u001b[38;5;124;43m\"\u001b[39;49m\u001b[38;5;124;43mmodalities\u001b[39;49m\u001b[38;5;124;43m\"\u001b[39;49m\u001b[43m:\u001b[49m\u001b[43m \u001b[49m\u001b[43mmodalities\u001b[49m\u001b[43m,\u001b[49m\n\u001b[1;32m   1163\u001b[0m \u001b[43m                \u001b[49m\u001b[38;5;124;43m\"\u001b[39;49m\u001b[38;5;124;43mn\u001b[39;49m\u001b[38;5;124;43m\"\u001b[39;49m\u001b[43m:\u001b[49m\u001b[43m \u001b[49m\u001b[43mn\u001b[49m\u001b[43m,\u001b[49m\n\u001b[1;32m   1164\u001b[0m \u001b[43m                \u001b[49m\u001b[38;5;124;43m\"\u001b[39;49m\u001b[38;5;124;43mparallel_tool_calls\u001b[39;49m\u001b[38;5;124;43m\"\u001b[39;49m\u001b[43m:\u001b[49m\u001b[43m \u001b[49m\u001b[43mparallel_tool_calls\u001b[49m\u001b[43m,\u001b[49m\n\u001b[1;32m   1165\u001b[0m \u001b[43m                \u001b[49m\u001b[38;5;124;43m\"\u001b[39;49m\u001b[38;5;124;43mprediction\u001b[39;49m\u001b[38;5;124;43m\"\u001b[39;49m\u001b[43m:\u001b[49m\u001b[43m \u001b[49m\u001b[43mprediction\u001b[49m\u001b[43m,\u001b[49m\n\u001b[1;32m   1166\u001b[0m \u001b[43m                \u001b[49m\u001b[38;5;124;43m\"\u001b[39;49m\u001b[38;5;124;43mpresence_penalty\u001b[39;49m\u001b[38;5;124;43m\"\u001b[39;49m\u001b[43m:\u001b[49m\u001b[43m \u001b[49m\u001b[43mpresence_penalty\u001b[49m\u001b[43m,\u001b[49m\n\u001b[1;32m   1167\u001b[0m \u001b[43m                \u001b[49m\u001b[38;5;124;43m\"\u001b[39;49m\u001b[38;5;124;43mprompt_cache_key\u001b[39;49m\u001b[38;5;124;43m\"\u001b[39;49m\u001b[43m:\u001b[49m\u001b[43m \u001b[49m\u001b[43mprompt_cache_key\u001b[49m\u001b[43m,\u001b[49m\n\u001b[1;32m   1168\u001b[0m \u001b[43m                \u001b[49m\u001b[38;5;124;43m\"\u001b[39;49m\u001b[38;5;124;43mreasoning_effort\u001b[39;49m\u001b[38;5;124;43m\"\u001b[39;49m\u001b[43m:\u001b[49m\u001b[43m \u001b[49m\u001b[43mreasoning_effort\u001b[49m\u001b[43m,\u001b[49m\n\u001b[1;32m   1169\u001b[0m \u001b[43m                \u001b[49m\u001b[38;5;124;43m\"\u001b[39;49m\u001b[38;5;124;43mresponse_format\u001b[39;49m\u001b[38;5;124;43m\"\u001b[39;49m\u001b[43m:\u001b[49m\u001b[43m \u001b[49m\u001b[43mresponse_format\u001b[49m\u001b[43m,\u001b[49m\n\u001b[1;32m   1170\u001b[0m \u001b[43m                \u001b[49m\u001b[38;5;124;43m\"\u001b[39;49m\u001b[38;5;124;43msafety_identifier\u001b[39;49m\u001b[38;5;124;43m\"\u001b[39;49m\u001b[43m:\u001b[49m\u001b[43m \u001b[49m\u001b[43msafety_identifier\u001b[49m\u001b[43m,\u001b[49m\n\u001b[1;32m   1171\u001b[0m \u001b[43m                \u001b[49m\u001b[38;5;124;43m\"\u001b[39;49m\u001b[38;5;124;43mseed\u001b[39;49m\u001b[38;5;124;43m\"\u001b[39;49m\u001b[43m:\u001b[49m\u001b[43m \u001b[49m\u001b[43mseed\u001b[49m\u001b[43m,\u001b[49m\n\u001b[1;32m   1172\u001b[0m \u001b[43m                \u001b[49m\u001b[38;5;124;43m\"\u001b[39;49m\u001b[38;5;124;43mservice_tier\u001b[39;49m\u001b[38;5;124;43m\"\u001b[39;49m\u001b[43m:\u001b[49m\u001b[43m \u001b[49m\u001b[43mservice_tier\u001b[49m\u001b[43m,\u001b[49m\n\u001b[1;32m   1173\u001b[0m \u001b[43m                \u001b[49m\u001b[38;5;124;43m\"\u001b[39;49m\u001b[38;5;124;43mstop\u001b[39;49m\u001b[38;5;124;43m\"\u001b[39;49m\u001b[43m:\u001b[49m\u001b[43m \u001b[49m\u001b[43mstop\u001b[49m\u001b[43m,\u001b[49m\n\u001b[1;32m   1174\u001b[0m \u001b[43m                \u001b[49m\u001b[38;5;124;43m\"\u001b[39;49m\u001b[38;5;124;43mstore\u001b[39;49m\u001b[38;5;124;43m\"\u001b[39;49m\u001b[43m:\u001b[49m\u001b[43m \u001b[49m\u001b[43mstore\u001b[49m\u001b[43m,\u001b[49m\n\u001b[1;32m   1175\u001b[0m \u001b[43m                \u001b[49m\u001b[38;5;124;43m\"\u001b[39;49m\u001b[38;5;124;43mstream\u001b[39;49m\u001b[38;5;124;43m\"\u001b[39;49m\u001b[43m:\u001b[49m\u001b[43m \u001b[49m\u001b[43mstream\u001b[49m\u001b[43m,\u001b[49m\n\u001b[1;32m   1176\u001b[0m \u001b[43m                \u001b[49m\u001b[38;5;124;43m\"\u001b[39;49m\u001b[38;5;124;43mstream_options\u001b[39;49m\u001b[38;5;124;43m\"\u001b[39;49m\u001b[43m:\u001b[49m\u001b[43m \u001b[49m\u001b[43mstream_options\u001b[49m\u001b[43m,\u001b[49m\n\u001b[1;32m   1177\u001b[0m \u001b[43m                \u001b[49m\u001b[38;5;124;43m\"\u001b[39;49m\u001b[38;5;124;43mtemperature\u001b[39;49m\u001b[38;5;124;43m\"\u001b[39;49m\u001b[43m:\u001b[49m\u001b[43m \u001b[49m\u001b[43mtemperature\u001b[49m\u001b[43m,\u001b[49m\n\u001b[1;32m   1178\u001b[0m \u001b[43m                \u001b[49m\u001b[38;5;124;43m\"\u001b[39;49m\u001b[38;5;124;43mtool_choice\u001b[39;49m\u001b[38;5;124;43m\"\u001b[39;49m\u001b[43m:\u001b[49m\u001b[43m \u001b[49m\u001b[43mtool_choice\u001b[49m\u001b[43m,\u001b[49m\n\u001b[1;32m   1179\u001b[0m \u001b[43m                \u001b[49m\u001b[38;5;124;43m\"\u001b[39;49m\u001b[38;5;124;43mtools\u001b[39;49m\u001b[38;5;124;43m\"\u001b[39;49m\u001b[43m:\u001b[49m\u001b[43m \u001b[49m\u001b[43mtools\u001b[49m\u001b[43m,\u001b[49m\n\u001b[1;32m   1180\u001b[0m \u001b[43m                \u001b[49m\u001b[38;5;124;43m\"\u001b[39;49m\u001b[38;5;124;43mtop_logprobs\u001b[39;49m\u001b[38;5;124;43m\"\u001b[39;49m\u001b[43m:\u001b[49m\u001b[43m \u001b[49m\u001b[43mtop_logprobs\u001b[49m\u001b[43m,\u001b[49m\n\u001b[1;32m   1181\u001b[0m \u001b[43m                \u001b[49m\u001b[38;5;124;43m\"\u001b[39;49m\u001b[38;5;124;43mtop_p\u001b[39;49m\u001b[38;5;124;43m\"\u001b[39;49m\u001b[43m:\u001b[49m\u001b[43m \u001b[49m\u001b[43mtop_p\u001b[49m\u001b[43m,\u001b[49m\n\u001b[1;32m   1182\u001b[0m \u001b[43m                \u001b[49m\u001b[38;5;124;43m\"\u001b[39;49m\u001b[38;5;124;43muser\u001b[39;49m\u001b[38;5;124;43m\"\u001b[39;49m\u001b[43m:\u001b[49m\u001b[43m \u001b[49m\u001b[43muser\u001b[49m\u001b[43m,\u001b[49m\n\u001b[1;32m   1183\u001b[0m \u001b[43m                \u001b[49m\u001b[38;5;124;43m\"\u001b[39;49m\u001b[38;5;124;43mverbosity\u001b[39;49m\u001b[38;5;124;43m\"\u001b[39;49m\u001b[43m:\u001b[49m\u001b[43m \u001b[49m\u001b[43mverbosity\u001b[49m\u001b[43m,\u001b[49m\n\u001b[1;32m   1184\u001b[0m \u001b[43m                \u001b[49m\u001b[38;5;124;43m\"\u001b[39;49m\u001b[38;5;124;43mweb_search_options\u001b[39;49m\u001b[38;5;124;43m\"\u001b[39;49m\u001b[43m:\u001b[49m\u001b[43m \u001b[49m\u001b[43mweb_search_options\u001b[49m\u001b[43m,\u001b[49m\n\u001b[1;32m   1185\u001b[0m \u001b[43m            \u001b[49m\u001b[43m}\u001b[49m\u001b[43m,\u001b[49m\n\u001b[1;32m   1186\u001b[0m \u001b[43m            \u001b[49m\u001b[43mcompletion_create_params\u001b[49m\u001b[38;5;241;43m.\u001b[39;49m\u001b[43mCompletionCreateParamsStreaming\u001b[49m\n\u001b[1;32m   1187\u001b[0m \u001b[43m            \u001b[49m\u001b[38;5;28;43;01mif\u001b[39;49;00m\u001b[43m \u001b[49m\u001b[43mstream\u001b[49m\n\u001b[1;32m   1188\u001b[0m \u001b[43m            \u001b[49m\u001b[38;5;28;43;01melse\u001b[39;49;00m\u001b[43m \u001b[49m\u001b[43mcompletion_create_params\u001b[49m\u001b[38;5;241;43m.\u001b[39;49m\u001b[43mCompletionCreateParamsNonStreaming\u001b[49m\u001b[43m,\u001b[49m\n\u001b[1;32m   1189\u001b[0m \u001b[43m        \u001b[49m\u001b[43m)\u001b[49m\u001b[43m,\u001b[49m\n\u001b[1;32m   1190\u001b[0m \u001b[43m        \u001b[49m\u001b[43moptions\u001b[49m\u001b[38;5;241;43m=\u001b[39;49m\u001b[43mmake_request_options\u001b[49m\u001b[43m(\u001b[49m\n\u001b[1;32m   1191\u001b[0m \u001b[43m            \u001b[49m\u001b[43mextra_headers\u001b[49m\u001b[38;5;241;43m=\u001b[39;49m\u001b[43mextra_headers\u001b[49m\u001b[43m,\u001b[49m\u001b[43m \u001b[49m\u001b[43mextra_query\u001b[49m\u001b[38;5;241;43m=\u001b[39;49m\u001b[43mextra_query\u001b[49m\u001b[43m,\u001b[49m\u001b[43m \u001b[49m\u001b[43mextra_body\u001b[49m\u001b[38;5;241;43m=\u001b[39;49m\u001b[43mextra_body\u001b[49m\u001b[43m,\u001b[49m\u001b[43m \u001b[49m\u001b[43mtimeout\u001b[49m\u001b[38;5;241;43m=\u001b[39;49m\u001b[43mtimeout\u001b[49m\n\u001b[1;32m   1192\u001b[0m \u001b[43m        \u001b[49m\u001b[43m)\u001b[49m\u001b[43m,\u001b[49m\n\u001b[1;32m   1193\u001b[0m \u001b[43m        \u001b[49m\u001b[43mcast_to\u001b[49m\u001b[38;5;241;43m=\u001b[39;49m\u001b[43mChatCompletion\u001b[49m\u001b[43m,\u001b[49m\n\u001b[1;32m   1194\u001b[0m \u001b[43m        \u001b[49m\u001b[43mstream\u001b[49m\u001b[38;5;241;43m=\u001b[39;49m\u001b[43mstream\u001b[49m\u001b[43m \u001b[49m\u001b[38;5;129;43;01mor\u001b[39;49;00m\u001b[43m \u001b[49m\u001b[38;5;28;43;01mFalse\u001b[39;49;00m\u001b[43m,\u001b[49m\n\u001b[1;32m   1195\u001b[0m \u001b[43m        \u001b[49m\u001b[43mstream_cls\u001b[49m\u001b[38;5;241;43m=\u001b[39;49m\u001b[43mStream\u001b[49m\u001b[43m[\u001b[49m\u001b[43mChatCompletionChunk\u001b[49m\u001b[43m]\u001b[49m\u001b[43m,\u001b[49m\n\u001b[1;32m   1196\u001b[0m \u001b[43m    \u001b[49m\u001b[43m)\u001b[49m\n",
            "File \u001b[0;32m~/Desktop/World Bank/Code/slovakia_CaseStudy/wb_venv/lib/python3.9/site-packages/openai/_base_client.py:1259\u001b[0m, in \u001b[0;36mSyncAPIClient.post\u001b[0;34m(self, path, cast_to, body, options, files, stream, stream_cls)\u001b[0m\n\u001b[1;32m   1245\u001b[0m \u001b[38;5;28;01mdef\u001b[39;00m\u001b[38;5;250m \u001b[39m\u001b[38;5;21mpost\u001b[39m(\n\u001b[1;32m   1246\u001b[0m     \u001b[38;5;28mself\u001b[39m,\n\u001b[1;32m   1247\u001b[0m     path: \u001b[38;5;28mstr\u001b[39m,\n\u001b[0;32m   (...)\u001b[0m\n\u001b[1;32m   1254\u001b[0m     stream_cls: \u001b[38;5;28mtype\u001b[39m[_StreamT] \u001b[38;5;241m|\u001b[39m \u001b[38;5;28;01mNone\u001b[39;00m \u001b[38;5;241m=\u001b[39m \u001b[38;5;28;01mNone\u001b[39;00m,\n\u001b[1;32m   1255\u001b[0m ) \u001b[38;5;241m-\u001b[39m\u001b[38;5;241m>\u001b[39m ResponseT \u001b[38;5;241m|\u001b[39m _StreamT:\n\u001b[1;32m   1256\u001b[0m     opts \u001b[38;5;241m=\u001b[39m FinalRequestOptions\u001b[38;5;241m.\u001b[39mconstruct(\n\u001b[1;32m   1257\u001b[0m         method\u001b[38;5;241m=\u001b[39m\u001b[38;5;124m\"\u001b[39m\u001b[38;5;124mpost\u001b[39m\u001b[38;5;124m\"\u001b[39m, url\u001b[38;5;241m=\u001b[39mpath, json_data\u001b[38;5;241m=\u001b[39mbody, files\u001b[38;5;241m=\u001b[39mto_httpx_files(files), \u001b[38;5;241m*\u001b[39m\u001b[38;5;241m*\u001b[39moptions\n\u001b[1;32m   1258\u001b[0m     )\n\u001b[0;32m-> 1259\u001b[0m     \u001b[38;5;28;01mreturn\u001b[39;00m cast(ResponseT, \u001b[38;5;28;43mself\u001b[39;49m\u001b[38;5;241;43m.\u001b[39;49m\u001b[43mrequest\u001b[49m\u001b[43m(\u001b[49m\u001b[43mcast_to\u001b[49m\u001b[43m,\u001b[49m\u001b[43m \u001b[49m\u001b[43mopts\u001b[49m\u001b[43m,\u001b[49m\u001b[43m \u001b[49m\u001b[43mstream\u001b[49m\u001b[38;5;241;43m=\u001b[39;49m\u001b[43mstream\u001b[49m\u001b[43m,\u001b[49m\u001b[43m \u001b[49m\u001b[43mstream_cls\u001b[49m\u001b[38;5;241;43m=\u001b[39;49m\u001b[43mstream_cls\u001b[49m\u001b[43m)\u001b[49m)\n",
            "File \u001b[0;32m~/Desktop/World Bank/Code/slovakia_CaseStudy/wb_venv/lib/python3.9/site-packages/openai/_base_client.py:982\u001b[0m, in \u001b[0;36mSyncAPIClient.request\u001b[0;34m(self, cast_to, options, stream, stream_cls)\u001b[0m\n\u001b[1;32m    980\u001b[0m response \u001b[38;5;241m=\u001b[39m \u001b[38;5;28;01mNone\u001b[39;00m\n\u001b[1;32m    981\u001b[0m \u001b[38;5;28;01mtry\u001b[39;00m:\n\u001b[0;32m--> 982\u001b[0m     response \u001b[38;5;241m=\u001b[39m \u001b[38;5;28;43mself\u001b[39;49m\u001b[38;5;241;43m.\u001b[39;49m\u001b[43m_client\u001b[49m\u001b[38;5;241;43m.\u001b[39;49m\u001b[43msend\u001b[49m\u001b[43m(\u001b[49m\n\u001b[1;32m    983\u001b[0m \u001b[43m        \u001b[49m\u001b[43mrequest\u001b[49m\u001b[43m,\u001b[49m\n\u001b[1;32m    984\u001b[0m \u001b[43m        \u001b[49m\u001b[43mstream\u001b[49m\u001b[38;5;241;43m=\u001b[39;49m\u001b[43mstream\u001b[49m\u001b[43m \u001b[49m\u001b[38;5;129;43;01mor\u001b[39;49;00m\u001b[43m \u001b[49m\u001b[38;5;28;43mself\u001b[39;49m\u001b[38;5;241;43m.\u001b[39;49m\u001b[43m_should_stream_response_body\u001b[49m\u001b[43m(\u001b[49m\u001b[43mrequest\u001b[49m\u001b[38;5;241;43m=\u001b[39;49m\u001b[43mrequest\u001b[49m\u001b[43m)\u001b[49m\u001b[43m,\u001b[49m\n\u001b[1;32m    985\u001b[0m \u001b[43m        \u001b[49m\u001b[38;5;241;43m*\u001b[39;49m\u001b[38;5;241;43m*\u001b[39;49m\u001b[43mkwargs\u001b[49m\u001b[43m,\u001b[49m\n\u001b[1;32m    986\u001b[0m \u001b[43m    \u001b[49m\u001b[43m)\u001b[49m\n\u001b[1;32m    987\u001b[0m \u001b[38;5;28;01mexcept\u001b[39;00m httpx\u001b[38;5;241m.\u001b[39mTimeoutException \u001b[38;5;28;01mas\u001b[39;00m err:\n\u001b[1;32m    988\u001b[0m     log\u001b[38;5;241m.\u001b[39mdebug(\u001b[38;5;124m\"\u001b[39m\u001b[38;5;124mEncountered httpx.TimeoutException\u001b[39m\u001b[38;5;124m\"\u001b[39m, exc_info\u001b[38;5;241m=\u001b[39m\u001b[38;5;28;01mTrue\u001b[39;00m)\n",
            "File \u001b[0;32m~/Desktop/World Bank/Code/slovakia_CaseStudy/wb_venv/lib/python3.9/site-packages/httpx/_client.py:914\u001b[0m, in \u001b[0;36mClient.send\u001b[0;34m(self, request, stream, auth, follow_redirects)\u001b[0m\n\u001b[1;32m    910\u001b[0m \u001b[38;5;28mself\u001b[39m\u001b[38;5;241m.\u001b[39m_set_timeout(request)\n\u001b[1;32m    912\u001b[0m auth \u001b[38;5;241m=\u001b[39m \u001b[38;5;28mself\u001b[39m\u001b[38;5;241m.\u001b[39m_build_request_auth(request, auth)\n\u001b[0;32m--> 914\u001b[0m response \u001b[38;5;241m=\u001b[39m \u001b[38;5;28;43mself\u001b[39;49m\u001b[38;5;241;43m.\u001b[39;49m\u001b[43m_send_handling_auth\u001b[49m\u001b[43m(\u001b[49m\n\u001b[1;32m    915\u001b[0m \u001b[43m    \u001b[49m\u001b[43mrequest\u001b[49m\u001b[43m,\u001b[49m\n\u001b[1;32m    916\u001b[0m \u001b[43m    \u001b[49m\u001b[43mauth\u001b[49m\u001b[38;5;241;43m=\u001b[39;49m\u001b[43mauth\u001b[49m\u001b[43m,\u001b[49m\n\u001b[1;32m    917\u001b[0m \u001b[43m    \u001b[49m\u001b[43mfollow_redirects\u001b[49m\u001b[38;5;241;43m=\u001b[39;49m\u001b[43mfollow_redirects\u001b[49m\u001b[43m,\u001b[49m\n\u001b[1;32m    918\u001b[0m \u001b[43m    \u001b[49m\u001b[43mhistory\u001b[49m\u001b[38;5;241;43m=\u001b[39;49m\u001b[43m[\u001b[49m\u001b[43m]\u001b[49m\u001b[43m,\u001b[49m\n\u001b[1;32m    919\u001b[0m \u001b[43m\u001b[49m\u001b[43m)\u001b[49m\n\u001b[1;32m    920\u001b[0m \u001b[38;5;28;01mtry\u001b[39;00m:\n\u001b[1;32m    921\u001b[0m     \u001b[38;5;28;01mif\u001b[39;00m \u001b[38;5;129;01mnot\u001b[39;00m stream:\n",
            "File \u001b[0;32m~/Desktop/World Bank/Code/slovakia_CaseStudy/wb_venv/lib/python3.9/site-packages/httpx/_client.py:942\u001b[0m, in \u001b[0;36mClient._send_handling_auth\u001b[0;34m(self, request, auth, follow_redirects, history)\u001b[0m\n\u001b[1;32m    939\u001b[0m request \u001b[38;5;241m=\u001b[39m \u001b[38;5;28mnext\u001b[39m(auth_flow)\n\u001b[1;32m    941\u001b[0m \u001b[38;5;28;01mwhile\u001b[39;00m \u001b[38;5;28;01mTrue\u001b[39;00m:\n\u001b[0;32m--> 942\u001b[0m     response \u001b[38;5;241m=\u001b[39m \u001b[38;5;28;43mself\u001b[39;49m\u001b[38;5;241;43m.\u001b[39;49m\u001b[43m_send_handling_redirects\u001b[49m\u001b[43m(\u001b[49m\n\u001b[1;32m    943\u001b[0m \u001b[43m        \u001b[49m\u001b[43mrequest\u001b[49m\u001b[43m,\u001b[49m\n\u001b[1;32m    944\u001b[0m \u001b[43m        \u001b[49m\u001b[43mfollow_redirects\u001b[49m\u001b[38;5;241;43m=\u001b[39;49m\u001b[43mfollow_redirects\u001b[49m\u001b[43m,\u001b[49m\n\u001b[1;32m    945\u001b[0m \u001b[43m        \u001b[49m\u001b[43mhistory\u001b[49m\u001b[38;5;241;43m=\u001b[39;49m\u001b[43mhistory\u001b[49m\u001b[43m,\u001b[49m\n\u001b[1;32m    946\u001b[0m \u001b[43m    \u001b[49m\u001b[43m)\u001b[49m\n\u001b[1;32m    947\u001b[0m     \u001b[38;5;28;01mtry\u001b[39;00m:\n\u001b[1;32m    948\u001b[0m         \u001b[38;5;28;01mtry\u001b[39;00m:\n",
            "File \u001b[0;32m~/Desktop/World Bank/Code/slovakia_CaseStudy/wb_venv/lib/python3.9/site-packages/httpx/_client.py:979\u001b[0m, in \u001b[0;36mClient._send_handling_redirects\u001b[0;34m(self, request, follow_redirects, history)\u001b[0m\n\u001b[1;32m    976\u001b[0m \u001b[38;5;28;01mfor\u001b[39;00m hook \u001b[38;5;129;01min\u001b[39;00m \u001b[38;5;28mself\u001b[39m\u001b[38;5;241m.\u001b[39m_event_hooks[\u001b[38;5;124m\"\u001b[39m\u001b[38;5;124mrequest\u001b[39m\u001b[38;5;124m\"\u001b[39m]:\n\u001b[1;32m    977\u001b[0m     hook(request)\n\u001b[0;32m--> 979\u001b[0m response \u001b[38;5;241m=\u001b[39m \u001b[38;5;28;43mself\u001b[39;49m\u001b[38;5;241;43m.\u001b[39;49m\u001b[43m_send_single_request\u001b[49m\u001b[43m(\u001b[49m\u001b[43mrequest\u001b[49m\u001b[43m)\u001b[49m\n\u001b[1;32m    980\u001b[0m \u001b[38;5;28;01mtry\u001b[39;00m:\n\u001b[1;32m    981\u001b[0m     \u001b[38;5;28;01mfor\u001b[39;00m hook \u001b[38;5;129;01min\u001b[39;00m \u001b[38;5;28mself\u001b[39m\u001b[38;5;241m.\u001b[39m_event_hooks[\u001b[38;5;124m\"\u001b[39m\u001b[38;5;124mresponse\u001b[39m\u001b[38;5;124m\"\u001b[39m]:\n",
            "File \u001b[0;32m~/Desktop/World Bank/Code/slovakia_CaseStudy/wb_venv/lib/python3.9/site-packages/httpx/_client.py:1014\u001b[0m, in \u001b[0;36mClient._send_single_request\u001b[0;34m(self, request)\u001b[0m\n\u001b[1;32m   1009\u001b[0m     \u001b[38;5;28;01mraise\u001b[39;00m \u001b[38;5;167;01mRuntimeError\u001b[39;00m(\n\u001b[1;32m   1010\u001b[0m         \u001b[38;5;124m\"\u001b[39m\u001b[38;5;124mAttempted to send an async request with a sync Client instance.\u001b[39m\u001b[38;5;124m\"\u001b[39m\n\u001b[1;32m   1011\u001b[0m     )\n\u001b[1;32m   1013\u001b[0m \u001b[38;5;28;01mwith\u001b[39;00m request_context(request\u001b[38;5;241m=\u001b[39mrequest):\n\u001b[0;32m-> 1014\u001b[0m     response \u001b[38;5;241m=\u001b[39m \u001b[43mtransport\u001b[49m\u001b[38;5;241;43m.\u001b[39;49m\u001b[43mhandle_request\u001b[49m\u001b[43m(\u001b[49m\u001b[43mrequest\u001b[49m\u001b[43m)\u001b[49m\n\u001b[1;32m   1016\u001b[0m \u001b[38;5;28;01massert\u001b[39;00m \u001b[38;5;28misinstance\u001b[39m(response\u001b[38;5;241m.\u001b[39mstream, SyncByteStream)\n\u001b[1;32m   1018\u001b[0m response\u001b[38;5;241m.\u001b[39mrequest \u001b[38;5;241m=\u001b[39m request\n",
            "File \u001b[0;32m~/Desktop/World Bank/Code/slovakia_CaseStudy/wb_venv/lib/python3.9/site-packages/httpx/_transports/default.py:250\u001b[0m, in \u001b[0;36mHTTPTransport.handle_request\u001b[0;34m(self, request)\u001b[0m\n\u001b[1;32m    237\u001b[0m req \u001b[38;5;241m=\u001b[39m httpcore\u001b[38;5;241m.\u001b[39mRequest(\n\u001b[1;32m    238\u001b[0m     method\u001b[38;5;241m=\u001b[39mrequest\u001b[38;5;241m.\u001b[39mmethod,\n\u001b[1;32m    239\u001b[0m     url\u001b[38;5;241m=\u001b[39mhttpcore\u001b[38;5;241m.\u001b[39mURL(\n\u001b[0;32m   (...)\u001b[0m\n\u001b[1;32m    247\u001b[0m     extensions\u001b[38;5;241m=\u001b[39mrequest\u001b[38;5;241m.\u001b[39mextensions,\n\u001b[1;32m    248\u001b[0m )\n\u001b[1;32m    249\u001b[0m \u001b[38;5;28;01mwith\u001b[39;00m map_httpcore_exceptions():\n\u001b[0;32m--> 250\u001b[0m     resp \u001b[38;5;241m=\u001b[39m \u001b[38;5;28;43mself\u001b[39;49m\u001b[38;5;241;43m.\u001b[39;49m\u001b[43m_pool\u001b[49m\u001b[38;5;241;43m.\u001b[39;49m\u001b[43mhandle_request\u001b[49m\u001b[43m(\u001b[49m\u001b[43mreq\u001b[49m\u001b[43m)\u001b[49m\n\u001b[1;32m    252\u001b[0m \u001b[38;5;28;01massert\u001b[39;00m \u001b[38;5;28misinstance\u001b[39m(resp\u001b[38;5;241m.\u001b[39mstream, typing\u001b[38;5;241m.\u001b[39mIterable)\n\u001b[1;32m    254\u001b[0m \u001b[38;5;28;01mreturn\u001b[39;00m Response(\n\u001b[1;32m    255\u001b[0m     status_code\u001b[38;5;241m=\u001b[39mresp\u001b[38;5;241m.\u001b[39mstatus,\n\u001b[1;32m    256\u001b[0m     headers\u001b[38;5;241m=\u001b[39mresp\u001b[38;5;241m.\u001b[39mheaders,\n\u001b[1;32m    257\u001b[0m     stream\u001b[38;5;241m=\u001b[39mResponseStream(resp\u001b[38;5;241m.\u001b[39mstream),\n\u001b[1;32m    258\u001b[0m     extensions\u001b[38;5;241m=\u001b[39mresp\u001b[38;5;241m.\u001b[39mextensions,\n\u001b[1;32m    259\u001b[0m )\n",
            "File \u001b[0;32m~/Desktop/World Bank/Code/slovakia_CaseStudy/wb_venv/lib/python3.9/site-packages/httpcore/_sync/connection_pool.py:256\u001b[0m, in \u001b[0;36mConnectionPool.handle_request\u001b[0;34m(self, request)\u001b[0m\n\u001b[1;32m    253\u001b[0m         closing \u001b[38;5;241m=\u001b[39m \u001b[38;5;28mself\u001b[39m\u001b[38;5;241m.\u001b[39m_assign_requests_to_connections()\n\u001b[1;32m    255\u001b[0m     \u001b[38;5;28mself\u001b[39m\u001b[38;5;241m.\u001b[39m_close_connections(closing)\n\u001b[0;32m--> 256\u001b[0m     \u001b[38;5;28;01mraise\u001b[39;00m exc \u001b[38;5;28;01mfrom\u001b[39;00m\u001b[38;5;250m \u001b[39m\u001b[38;5;28;01mNone\u001b[39;00m\n\u001b[1;32m    258\u001b[0m \u001b[38;5;66;03m# Return the response. Note that in this case we still have to manage\u001b[39;00m\n\u001b[1;32m    259\u001b[0m \u001b[38;5;66;03m# the point at which the response is closed.\u001b[39;00m\n\u001b[1;32m    260\u001b[0m \u001b[38;5;28;01massert\u001b[39;00m \u001b[38;5;28misinstance\u001b[39m(response\u001b[38;5;241m.\u001b[39mstream, typing\u001b[38;5;241m.\u001b[39mIterable)\n",
            "File \u001b[0;32m~/Desktop/World Bank/Code/slovakia_CaseStudy/wb_venv/lib/python3.9/site-packages/httpcore/_sync/connection_pool.py:236\u001b[0m, in \u001b[0;36mConnectionPool.handle_request\u001b[0;34m(self, request)\u001b[0m\n\u001b[1;32m    232\u001b[0m connection \u001b[38;5;241m=\u001b[39m pool_request\u001b[38;5;241m.\u001b[39mwait_for_connection(timeout\u001b[38;5;241m=\u001b[39mtimeout)\n\u001b[1;32m    234\u001b[0m \u001b[38;5;28;01mtry\u001b[39;00m:\n\u001b[1;32m    235\u001b[0m     \u001b[38;5;66;03m# Send the request on the assigned connection.\u001b[39;00m\n\u001b[0;32m--> 236\u001b[0m     response \u001b[38;5;241m=\u001b[39m \u001b[43mconnection\u001b[49m\u001b[38;5;241;43m.\u001b[39;49m\u001b[43mhandle_request\u001b[49m\u001b[43m(\u001b[49m\n\u001b[1;32m    237\u001b[0m \u001b[43m        \u001b[49m\u001b[43mpool_request\u001b[49m\u001b[38;5;241;43m.\u001b[39;49m\u001b[43mrequest\u001b[49m\n\u001b[1;32m    238\u001b[0m \u001b[43m    \u001b[49m\u001b[43m)\u001b[49m\n\u001b[1;32m    239\u001b[0m \u001b[38;5;28;01mexcept\u001b[39;00m ConnectionNotAvailable:\n\u001b[1;32m    240\u001b[0m     \u001b[38;5;66;03m# In some cases a connection may initially be available to\u001b[39;00m\n\u001b[1;32m    241\u001b[0m     \u001b[38;5;66;03m# handle a request, but then become unavailable.\u001b[39;00m\n\u001b[1;32m    242\u001b[0m     \u001b[38;5;66;03m#\u001b[39;00m\n\u001b[1;32m    243\u001b[0m     \u001b[38;5;66;03m# In this case we clear the connection and try again.\u001b[39;00m\n\u001b[1;32m    244\u001b[0m     pool_request\u001b[38;5;241m.\u001b[39mclear_connection()\n",
            "File \u001b[0;32m~/Desktop/World Bank/Code/slovakia_CaseStudy/wb_venv/lib/python3.9/site-packages/httpcore/_sync/connection.py:103\u001b[0m, in \u001b[0;36mHTTPConnection.handle_request\u001b[0;34m(self, request)\u001b[0m\n\u001b[1;32m    100\u001b[0m     \u001b[38;5;28mself\u001b[39m\u001b[38;5;241m.\u001b[39m_connect_failed \u001b[38;5;241m=\u001b[39m \u001b[38;5;28;01mTrue\u001b[39;00m\n\u001b[1;32m    101\u001b[0m     \u001b[38;5;28;01mraise\u001b[39;00m exc\n\u001b[0;32m--> 103\u001b[0m \u001b[38;5;28;01mreturn\u001b[39;00m \u001b[38;5;28;43mself\u001b[39;49m\u001b[38;5;241;43m.\u001b[39;49m\u001b[43m_connection\u001b[49m\u001b[38;5;241;43m.\u001b[39;49m\u001b[43mhandle_request\u001b[49m\u001b[43m(\u001b[49m\u001b[43mrequest\u001b[49m\u001b[43m)\u001b[49m\n",
            "File \u001b[0;32m~/Desktop/World Bank/Code/slovakia_CaseStudy/wb_venv/lib/python3.9/site-packages/httpcore/_sync/http11.py:136\u001b[0m, in \u001b[0;36mHTTP11Connection.handle_request\u001b[0;34m(self, request)\u001b[0m\n\u001b[1;32m    134\u001b[0m     \u001b[38;5;28;01mwith\u001b[39;00m Trace(\u001b[38;5;124m\"\u001b[39m\u001b[38;5;124mresponse_closed\u001b[39m\u001b[38;5;124m\"\u001b[39m, logger, request) \u001b[38;5;28;01mas\u001b[39;00m trace:\n\u001b[1;32m    135\u001b[0m         \u001b[38;5;28mself\u001b[39m\u001b[38;5;241m.\u001b[39m_response_closed()\n\u001b[0;32m--> 136\u001b[0m \u001b[38;5;28;01mraise\u001b[39;00m exc\n",
            "File \u001b[0;32m~/Desktop/World Bank/Code/slovakia_CaseStudy/wb_venv/lib/python3.9/site-packages/httpcore/_sync/http11.py:106\u001b[0m, in \u001b[0;36mHTTP11Connection.handle_request\u001b[0;34m(self, request)\u001b[0m\n\u001b[1;32m     95\u001b[0m     \u001b[38;5;28;01mpass\u001b[39;00m\n\u001b[1;32m     97\u001b[0m \u001b[38;5;28;01mwith\u001b[39;00m Trace(\n\u001b[1;32m     98\u001b[0m     \u001b[38;5;124m\"\u001b[39m\u001b[38;5;124mreceive_response_headers\u001b[39m\u001b[38;5;124m\"\u001b[39m, logger, request, kwargs\n\u001b[1;32m     99\u001b[0m ) \u001b[38;5;28;01mas\u001b[39;00m trace:\n\u001b[1;32m    100\u001b[0m     (\n\u001b[1;32m    101\u001b[0m         http_version,\n\u001b[1;32m    102\u001b[0m         status,\n\u001b[1;32m    103\u001b[0m         reason_phrase,\n\u001b[1;32m    104\u001b[0m         headers,\n\u001b[1;32m    105\u001b[0m         trailing_data,\n\u001b[0;32m--> 106\u001b[0m     ) \u001b[38;5;241m=\u001b[39m \u001b[38;5;28;43mself\u001b[39;49m\u001b[38;5;241;43m.\u001b[39;49m\u001b[43m_receive_response_headers\u001b[49m\u001b[43m(\u001b[49m\u001b[38;5;241;43m*\u001b[39;49m\u001b[38;5;241;43m*\u001b[39;49m\u001b[43mkwargs\u001b[49m\u001b[43m)\u001b[49m\n\u001b[1;32m    107\u001b[0m     trace\u001b[38;5;241m.\u001b[39mreturn_value \u001b[38;5;241m=\u001b[39m (\n\u001b[1;32m    108\u001b[0m         http_version,\n\u001b[1;32m    109\u001b[0m         status,\n\u001b[1;32m    110\u001b[0m         reason_phrase,\n\u001b[1;32m    111\u001b[0m         headers,\n\u001b[1;32m    112\u001b[0m     )\n\u001b[1;32m    114\u001b[0m network_stream \u001b[38;5;241m=\u001b[39m \u001b[38;5;28mself\u001b[39m\u001b[38;5;241m.\u001b[39m_network_stream\n",
            "File \u001b[0;32m~/Desktop/World Bank/Code/slovakia_CaseStudy/wb_venv/lib/python3.9/site-packages/httpcore/_sync/http11.py:177\u001b[0m, in \u001b[0;36mHTTP11Connection._receive_response_headers\u001b[0;34m(self, request)\u001b[0m\n\u001b[1;32m    174\u001b[0m timeout \u001b[38;5;241m=\u001b[39m timeouts\u001b[38;5;241m.\u001b[39mget(\u001b[38;5;124m\"\u001b[39m\u001b[38;5;124mread\u001b[39m\u001b[38;5;124m\"\u001b[39m, \u001b[38;5;28;01mNone\u001b[39;00m)\n\u001b[1;32m    176\u001b[0m \u001b[38;5;28;01mwhile\u001b[39;00m \u001b[38;5;28;01mTrue\u001b[39;00m:\n\u001b[0;32m--> 177\u001b[0m     event \u001b[38;5;241m=\u001b[39m \u001b[38;5;28;43mself\u001b[39;49m\u001b[38;5;241;43m.\u001b[39;49m\u001b[43m_receive_event\u001b[49m\u001b[43m(\u001b[49m\u001b[43mtimeout\u001b[49m\u001b[38;5;241;43m=\u001b[39;49m\u001b[43mtimeout\u001b[49m\u001b[43m)\u001b[49m\n\u001b[1;32m    178\u001b[0m     \u001b[38;5;28;01mif\u001b[39;00m \u001b[38;5;28misinstance\u001b[39m(event, h11\u001b[38;5;241m.\u001b[39mResponse):\n\u001b[1;32m    179\u001b[0m         \u001b[38;5;28;01mbreak\u001b[39;00m\n",
            "File \u001b[0;32m~/Desktop/World Bank/Code/slovakia_CaseStudy/wb_venv/lib/python3.9/site-packages/httpcore/_sync/http11.py:217\u001b[0m, in \u001b[0;36mHTTP11Connection._receive_event\u001b[0;34m(self, timeout)\u001b[0m\n\u001b[1;32m    214\u001b[0m     event \u001b[38;5;241m=\u001b[39m \u001b[38;5;28mself\u001b[39m\u001b[38;5;241m.\u001b[39m_h11_state\u001b[38;5;241m.\u001b[39mnext_event()\n\u001b[1;32m    216\u001b[0m \u001b[38;5;28;01mif\u001b[39;00m event \u001b[38;5;129;01mis\u001b[39;00m h11\u001b[38;5;241m.\u001b[39mNEED_DATA:\n\u001b[0;32m--> 217\u001b[0m     data \u001b[38;5;241m=\u001b[39m \u001b[38;5;28;43mself\u001b[39;49m\u001b[38;5;241;43m.\u001b[39;49m\u001b[43m_network_stream\u001b[49m\u001b[38;5;241;43m.\u001b[39;49m\u001b[43mread\u001b[49m\u001b[43m(\u001b[49m\n\u001b[1;32m    218\u001b[0m \u001b[43m        \u001b[49m\u001b[38;5;28;43mself\u001b[39;49m\u001b[38;5;241;43m.\u001b[39;49m\u001b[43mREAD_NUM_BYTES\u001b[49m\u001b[43m,\u001b[49m\u001b[43m \u001b[49m\u001b[43mtimeout\u001b[49m\u001b[38;5;241;43m=\u001b[39;49m\u001b[43mtimeout\u001b[49m\n\u001b[1;32m    219\u001b[0m \u001b[43m    \u001b[49m\u001b[43m)\u001b[49m\n\u001b[1;32m    221\u001b[0m     \u001b[38;5;66;03m# If we feed this case through h11 we'll raise an exception like:\u001b[39;00m\n\u001b[1;32m    222\u001b[0m     \u001b[38;5;66;03m#\u001b[39;00m\n\u001b[1;32m    223\u001b[0m     \u001b[38;5;66;03m#     httpcore.RemoteProtocolError: can't handle event type\u001b[39;00m\n\u001b[0;32m   (...)\u001b[0m\n\u001b[1;32m    227\u001b[0m     \u001b[38;5;66;03m# perspective. Instead we handle this case distinctly and treat\u001b[39;00m\n\u001b[1;32m    228\u001b[0m     \u001b[38;5;66;03m# it as a ConnectError.\u001b[39;00m\n\u001b[1;32m    229\u001b[0m     \u001b[38;5;28;01mif\u001b[39;00m data \u001b[38;5;241m==\u001b[39m \u001b[38;5;124mb\u001b[39m\u001b[38;5;124m\"\u001b[39m\u001b[38;5;124m\"\u001b[39m \u001b[38;5;129;01mand\u001b[39;00m \u001b[38;5;28mself\u001b[39m\u001b[38;5;241m.\u001b[39m_h11_state\u001b[38;5;241m.\u001b[39mtheir_state \u001b[38;5;241m==\u001b[39m h11\u001b[38;5;241m.\u001b[39mSEND_RESPONSE:\n",
            "File \u001b[0;32m~/Desktop/World Bank/Code/slovakia_CaseStudy/wb_venv/lib/python3.9/site-packages/httpcore/_backends/sync.py:128\u001b[0m, in \u001b[0;36mSyncStream.read\u001b[0;34m(self, max_bytes, timeout)\u001b[0m\n\u001b[1;32m    126\u001b[0m \u001b[38;5;28;01mwith\u001b[39;00m map_exceptions(exc_map):\n\u001b[1;32m    127\u001b[0m     \u001b[38;5;28mself\u001b[39m\u001b[38;5;241m.\u001b[39m_sock\u001b[38;5;241m.\u001b[39msettimeout(timeout)\n\u001b[0;32m--> 128\u001b[0m     \u001b[38;5;28;01mreturn\u001b[39;00m \u001b[38;5;28;43mself\u001b[39;49m\u001b[38;5;241;43m.\u001b[39;49m\u001b[43m_sock\u001b[49m\u001b[38;5;241;43m.\u001b[39;49m\u001b[43mrecv\u001b[49m\u001b[43m(\u001b[49m\u001b[43mmax_bytes\u001b[49m\u001b[43m)\u001b[49m\n",
            "File \u001b[0;32m/Library/Developer/CommandLineTools/Library/Frameworks/Python3.framework/Versions/3.9/lib/python3.9/ssl.py:1226\u001b[0m, in \u001b[0;36mSSLSocket.recv\u001b[0;34m(self, buflen, flags)\u001b[0m\n\u001b[1;32m   1222\u001b[0m     \u001b[38;5;28;01mif\u001b[39;00m flags \u001b[38;5;241m!=\u001b[39m \u001b[38;5;241m0\u001b[39m:\n\u001b[1;32m   1223\u001b[0m         \u001b[38;5;28;01mraise\u001b[39;00m \u001b[38;5;167;01mValueError\u001b[39;00m(\n\u001b[1;32m   1224\u001b[0m             \u001b[38;5;124m\"\u001b[39m\u001b[38;5;124mnon-zero flags not allowed in calls to recv() on \u001b[39m\u001b[38;5;132;01m%s\u001b[39;00m\u001b[38;5;124m\"\u001b[39m \u001b[38;5;241m%\u001b[39m\n\u001b[1;32m   1225\u001b[0m             \u001b[38;5;28mself\u001b[39m\u001b[38;5;241m.\u001b[39m\u001b[38;5;18m__class__\u001b[39m)\n\u001b[0;32m-> 1226\u001b[0m     \u001b[38;5;28;01mreturn\u001b[39;00m \u001b[38;5;28;43mself\u001b[39;49m\u001b[38;5;241;43m.\u001b[39;49m\u001b[43mread\u001b[49m\u001b[43m(\u001b[49m\u001b[43mbuflen\u001b[49m\u001b[43m)\u001b[49m\n\u001b[1;32m   1227\u001b[0m \u001b[38;5;28;01melse\u001b[39;00m:\n\u001b[1;32m   1228\u001b[0m     \u001b[38;5;28;01mreturn\u001b[39;00m \u001b[38;5;28msuper\u001b[39m()\u001b[38;5;241m.\u001b[39mrecv(buflen, flags)\n",
            "File \u001b[0;32m/Library/Developer/CommandLineTools/Library/Frameworks/Python3.framework/Versions/3.9/lib/python3.9/ssl.py:1101\u001b[0m, in \u001b[0;36mSSLSocket.read\u001b[0;34m(self, len, buffer)\u001b[0m\n\u001b[1;32m   1099\u001b[0m         \u001b[38;5;28;01mreturn\u001b[39;00m \u001b[38;5;28mself\u001b[39m\u001b[38;5;241m.\u001b[39m_sslobj\u001b[38;5;241m.\u001b[39mread(\u001b[38;5;28mlen\u001b[39m, buffer)\n\u001b[1;32m   1100\u001b[0m     \u001b[38;5;28;01melse\u001b[39;00m:\n\u001b[0;32m-> 1101\u001b[0m         \u001b[38;5;28;01mreturn\u001b[39;00m \u001b[38;5;28;43mself\u001b[39;49m\u001b[38;5;241;43m.\u001b[39;49m\u001b[43m_sslobj\u001b[49m\u001b[38;5;241;43m.\u001b[39;49m\u001b[43mread\u001b[49m\u001b[43m(\u001b[49m\u001b[38;5;28;43mlen\u001b[39;49m\u001b[43m)\u001b[49m\n\u001b[1;32m   1102\u001b[0m \u001b[38;5;28;01mexcept\u001b[39;00m SSLError \u001b[38;5;28;01mas\u001b[39;00m x:\n\u001b[1;32m   1103\u001b[0m     \u001b[38;5;28;01mif\u001b[39;00m x\u001b[38;5;241m.\u001b[39margs[\u001b[38;5;241m0\u001b[39m] \u001b[38;5;241m==\u001b[39m SSL_ERROR_EOF \u001b[38;5;129;01mand\u001b[39;00m \u001b[38;5;28mself\u001b[39m\u001b[38;5;241m.\u001b[39msuppress_ragged_eofs:\n",
            "\u001b[0;31mKeyboardInterrupt\u001b[0m: "
          ]
        }
      ],
      "source": [
        "# REAL-TIME document processing with immediate project consolidation\n",
        "print(\"🚀 Starting REAL-TIME document processing with project consolidation...\")\n",
        "print(\"Using GPT-4.1 for analysis + immediate project matching\")\n",
        "print(\"Processing documents one by one with live consolidation\")\n",
        "print(\"=\" * 60)\n",
        "\n",
        "# Read all documents\n",
        "documents = read_all_documents(\"Data\")\n",
        "all_metadata = []\n",
        "canonical_projects = {}  # Running tally of consolidated projects\n",
        "\n",
        "print(f\"Processing {len(documents)} documents with real-time consolidation...\")\n",
        "\n",
        "for i, (filename, content) in enumerate(documents.items(), 1):\n",
        "    print(f\"\\n📄 Processing Document {i}/{len(documents)}: {filename}\")\n",
        "    print(f\"Content length: {len(content)} characters\")\n",
        "    \n",
        "    # Extract metadata using LLM\n",
        "    metadata = extract_metadata_with_llm(content, filename)\n",
        "    metadata[\"filename\"] = filename\n",
        "    metadata[\"content_length\"] = len(content)\n",
        "    \n",
        "    if 'error' in metadata:\n",
        "        print(f\"  ❌ Error: {metadata['error']}\")\n",
        "        all_metadata.append(metadata)\n",
        "        continue\n",
        "    \n",
        "    project_name = metadata.get('project_name', '')\n",
        "    summary = metadata.get('summary', '')\n",
        "    \n",
        "    print(f\"  📋 Extracted Project: {project_name}\")\n",
        "    \n",
        "    # REAL-TIME CONSOLIDATION: Check if this project matches existing ones\n",
        "    print(f\"  🔍 Checking for project matches...\")\n",
        "    \n",
        "    # Step 1: Fuzzy matching\n",
        "    fuzzy_matches = find_fuzzy_matches(project_name, canonical_projects, threshold=0.8)\n",
        "    \n",
        "    if fuzzy_matches:\n",
        "        print(f\"    🔍 Found {len(fuzzy_matches)} fuzzy matches:\")\n",
        "        for match in fuzzy_matches:\n",
        "            print(f\"      - {match['canonical_name']} (similarity: {match['similarity']:.2f})\")\n",
        "    \n",
        "    # Step 2: LLM matching (compare against ALL existing projects)\n",
        "    llm_result = ask_llm_for_project_matching(project_name, summary, canonical_projects)\n",
        "    \n",
        "    print(f\"    🤖 LLM Analysis:\")\n",
        "    print(f\"      - Match: {llm_result['is_match']}\")\n",
        "    print(f\"      - Confidence: {llm_result['confidence']}\")\n",
        "    print(f\"      - Reasoning: {llm_result['reasoning']}\")\n",
        "    \n",
        "    # Step 3: Decision logic\n",
        "    matched_project = None\n",
        "    decision_reason = \"\"\n",
        "    \n",
        "    if llm_result['is_match'] and llm_result['matched_project']:\n",
        "        # LLM found a match\n",
        "        matched_project = llm_result['matched_project']\n",
        "        decision_reason = f\"LLM match (confidence: {llm_result['confidence']})\"\n",
        "    elif fuzzy_matches and fuzzy_matches[0]['similarity'] >= 0.9:\n",
        "        # Very high fuzzy match\n",
        "        matched_project = fuzzy_matches[0]['canonical_name']\n",
        "        decision_reason = f\"High fuzzy match ({fuzzy_matches[0]['similarity']:.2f})\"\n",
        "    else:\n",
        "        # No clear match - create new project\n",
        "        matched_project = None\n",
        "        decision_reason = \"No match found - creating new project\"\n",
        "    \n",
        "    # Step 4: Update canonical projects\n",
        "    if matched_project:\n",
        "        # Add to existing project\n",
        "        canonical_projects[matched_project]['documents'].append({\n",
        "            'filename': filename,\n",
        "            'project_name': project_name,\n",
        "            'project_name_slovak': metadata.get('project_name_slovak', ''),\n",
        "            'document_type': metadata.get('document_type', ''),\n",
        "            'sector': metadata.get('sector', ''),\n",
        "            'summary': summary,\n",
        "            'content_length': metadata.get('content_length', 0)\n",
        "        })\n",
        "        \n",
        "        # Update canonical name if new name is better (longer, more descriptive)\n",
        "        if len(project_name) > len(matched_project) and 'update' not in project_name.lower():\n",
        "            old_name = matched_project\n",
        "            canonical_projects[project_name] = canonical_projects.pop(old_name)\n",
        "            canonical_projects[project_name]['canonical_name'] = project_name\n",
        "            print(f\"    📝 Updated canonical name: '{old_name}' → '{project_name}'\")\n",
        "        \n",
        "        print(f\"    ✅ Added to existing project: {matched_project}\")\n",
        "    else:\n",
        "        # Create new project\n",
        "        canonical_projects[project_name] = {\n",
        "            'canonical_name': project_name,\n",
        "            'project_name_slovak': metadata.get('project_name_slovak', ''),\n",
        "            'sector': metadata.get('sector', ''),\n",
        "            'documents': [{\n",
        "                'filename': filename,\n",
        "                'project_name': project_name,\n",
        "                'project_name_slovak': metadata.get('project_name_slovak', ''),\n",
        "                'document_type': metadata.get('document_type', ''),\n",
        "                'sector': metadata.get('sector', ''),\n",
        "                'summary': summary,\n",
        "                'content_length': metadata.get('content_length', 0)\n",
        "            }]\n",
        "        }\n",
        "        print(f\"    🆕 Created new project: {project_name}\")\n",
        "    \n",
        "    print(f\"    📊 Decision: {decision_reason}\")\n",
        "    \n",
        "    # Add to all_metadata for compatibility\n",
        "    all_metadata.append(metadata)\n",
        "    \n",
        "    # Show current consolidation status\n",
        "    print(f\"    📈 Current Status: {len(canonical_projects)} consolidated projects\")\n",
        "    print(\"-\" * 60)\n",
        "\n",
        "print(f\"\\n🎉 Real-time processing complete!\")\n",
        "print(f\"Total documents processed: {len(all_metadata)}\")\n",
        "print(f\"Total consolidated projects: {len(canonical_projects)}\")\n",
        "\n",
        "# Show summary\n",
        "successful_extractions = [m for m in all_metadata if 'error' not in m]\n",
        "failed_extractions = [m for m in all_metadata if 'error' in m]\n",
        "\n",
        "print(f\"\\n📊 Summary:\")\n",
        "print(f\"✅ Successful extractions: {len(successful_extractions)}\")\n",
        "print(f\"❌ Failed extractions: {len(failed_extractions)}\")\n",
        "print(f\"🔄 Documents consolidated: {len(all_metadata) - len(canonical_projects)}\")\n",
        "\n",
        "print(f\"\\n📋 Final Consolidated Projects:\")\n",
        "for i, (project_name, project_data) in enumerate(canonical_projects.items(), 1):\n",
        "    doc_count = len(project_data['documents'])\n",
        "    print(f\"  {i}. {project_name}\")\n",
        "    print(f\"     Documents: {doc_count}\")\n",
        "    print(f\"     Sector: {project_data.get('sector', 'N/A')}\")\n",
        "    if doc_count > 1:\n",
        "        print(f\"     Files: {', '.join([doc['filename'] for doc in project_data['documents']])}\")\n",
        "    print()\n"
      ]
    },
    {
      "cell_type": "code",
      "execution_count": 3,
      "metadata": {},
      "outputs": [
        {
          "name": "stdout",
          "output_type": "stream",
          "text": [
            "💾 Saving consolidated project results...\n",
            "✅ Data saved to consolidated_projects.xlsx\n",
            "✅ Data saved to original_metadata.xlsx\n",
            "✅ Consolidated projects backup saved to consolidated_projects.json\n",
            "\n",
            "🎉 Consolidated processing complete!\n",
            "📁 Files created:\n",
            "- consolidated_projects.xlsx (main output with project groupings)\n",
            "- original_metadata.xlsx (original document metadata)\n",
            "- consolidated_projects.json (backup)\n",
            "\n",
            "📊 Key Benefits:\n",
            "- Documents grouped by actual project relationships\n",
            "- Canonical project names automatically selected\n",
            "- Real-time consolidation with LLM + fuzzy matching\n",
            "- Clear visibility into which documents belong together\n"
          ]
        }
      ],
      "source": [
        "# Save consolidated results\n",
        "print(\"💾 Saving consolidated project results...\")\n",
        "\n",
        "try:\n",
        "    # Create a flattened list for Excel export\n",
        "    consolidated_metadata = []\n",
        "    \n",
        "    for project_name, project_data in canonical_projects.items():\n",
        "        for doc in project_data['documents']:\n",
        "            consolidated_metadata.append({\n",
        "                'canonical_project_name': project_name,\n",
        "                'canonical_project_name_slovak': project_data.get('project_name_slovak', ''),\n",
        "                'canonical_sector': project_data.get('sector', ''),\n",
        "                'filename': doc['filename'],\n",
        "                'original_project_name': doc['project_name'],\n",
        "                'original_project_name_slovak': doc.get('project_name_slovak', ''),\n",
        "                'document_type': doc.get('document_type', ''),\n",
        "                'sector': doc.get('sector', ''),\n",
        "                'summary': doc.get('summary', ''),\n",
        "                'content_length': doc.get('content_length', 0),\n",
        "                'documents_in_project': len(project_data['documents'])\n",
        "            })\n",
        "    \n",
        "    # Save consolidated results\n",
        "    save_to_excel(consolidated_metadata, \"consolidated_projects.xlsx\", \"Consolidated Projects\")\n",
        "    \n",
        "    # Save original metadata for comparison\n",
        "    save_to_excel(all_metadata, \"original_metadata.xlsx\", \"Original Metadata\")\n",
        "    \n",
        "    # Save to JSON as backup\n",
        "    with open(\"consolidated_projects.json\", 'w', encoding='utf-8') as f:\n",
        "        json.dump(canonical_projects, f, ensure_ascii=False, indent=2)\n",
        "    print(\"✅ Consolidated projects backup saved to consolidated_projects.json\")\n",
        "    \n",
        "except Exception as e:\n",
        "    print(f\"❌ Error saving consolidated files: {str(e)}\")\n",
        "\n",
        "print(\"\\n🎉 Consolidated processing complete!\")\n",
        "print(\"📁 Files created:\")\n",
        "print(\"- consolidated_projects.xlsx (main output with project groupings)\")\n",
        "print(\"- original_metadata.xlsx (original document metadata)\")\n",
        "print(\"- consolidated_projects.json (backup)\")\n",
        "print(\"\\n📊 Key Benefits:\")\n",
        "print(\"- Documents grouped by actual project relationships\")\n",
        "print(\"- Canonical project names automatically selected\")\n",
        "print(\"- Real-time consolidation with LLM + fuzzy matching\")\n",
        "print(\"- Clear visibility into which documents belong together\")\n"
      ]
    },
    {
      "cell_type": "code",
      "execution_count": 4,
      "metadata": {},
      "outputs": [
        {
          "name": "stdout",
          "output_type": "stream",
          "text": [
            "DataFrame shape: (68, 10)\n"
          ]
        },
        {
          "data": {
            "text/html": [
              "<div>\n",
              "<style scoped>\n",
              "    .dataframe tbody tr th:only-of-type {\n",
              "        vertical-align: middle;\n",
              "    }\n",
              "\n",
              "    .dataframe tbody tr th {\n",
              "        vertical-align: top;\n",
              "    }\n",
              "\n",
              "    .dataframe thead th {\n",
              "        text-align: right;\n",
              "    }\n",
              "</style>\n",
              "<table border=\"1\" class=\"dataframe\">\n",
              "  <thead>\n",
              "    <tr style=\"text-align: right;\">\n",
              "      <th></th>\n",
              "      <th>canonical_project_name</th>\n",
              "      <th>canonical_project_name_slovak</th>\n",
              "      <th>filename</th>\n",
              "      <th>original_project_name</th>\n",
              "      <th>original_project_name_slovak</th>\n",
              "      <th>document_type</th>\n",
              "      <th>sector</th>\n",
              "      <th>summary</th>\n",
              "      <th>content_length</th>\n",
              "      <th>documents_in_project</th>\n",
              "    </tr>\n",
              "  </thead>\n",
              "  <tbody>\n",
              "    <tr>\n",
              "      <th>0</th>\n",
              "      <td>Reconstruction of the Hviezda Dormitory – Stag...</td>\n",
              "      <td>Rekonštrukcia internátu Hviezda – Etapa II.</td>\n",
              "      <td>164039.pdf</td>\n",
              "      <td>Reconstruction of the Hviezda Dormitory – Stag...</td>\n",
              "      <td>Rekonštrukcia internátu Hviezda – Etapa II.</td>\n",
              "      <td>Feasibility Study Update Form (prior to contra...</td>\n",
              "      <td>Building</td>\n",
              "      <td>This document is an update form for the feasib...</td>\n",
              "      <td>11972</td>\n",
              "      <td>2</td>\n",
              "    </tr>\n",
              "    <tr>\n",
              "      <th>1</th>\n",
              "      <td>Reconstruction of the Hviezda Dormitory – Stag...</td>\n",
              "      <td>Rekonštrukcia internátu Hviezda – Etapa II.</td>\n",
              "      <td>hodnotenie_hviezda_aktualizacia_pred_podpisom.pdf</td>\n",
              "      <td>Reconstruction of the Hviezda Dormitory – Upda...</td>\n",
              "      <td>Aktualizácia pred podpisom zmluvy: Rekonštrukc...</td>\n",
              "      <td>Update of economic evaluation (cost-benefit an...</td>\n",
              "      <td>Building</td>\n",
              "      <td>This document is an updated economic evaluatio...</td>\n",
              "      <td>4669</td>\n",
              "      <td>2</td>\n",
              "    </tr>\n",
              "    <tr>\n",
              "      <th>2</th>\n",
              "      <td>Value for Money Assessment of the D1 Corridor ...</td>\n",
              "      <td>Hodnota za peniaze projektu Koridor D1 Bidovce...</td>\n",
              "      <td>hodnotenie_d1-bidovce-statna-hranica-sk_ua.pdf</td>\n",
              "      <td>Value for Money Assessment of the D1 Corridor ...</td>\n",
              "      <td>Hodnota za peniaze projektu Koridor D1 Bidovce...</td>\n",
              "      <td>Government evaluation of a feasibility study</td>\n",
              "      <td>Transport</td>\n",
              "      <td>This document is an evaluation by the Slovak M...</td>\n",
              "      <td>29963</td>\n",
              "      <td>1</td>\n",
              "    </tr>\n",
              "    <tr>\n",
              "      <th>3</th>\n",
              "      <td>Extension of the D1 Motorway Bratislava - Trib...</td>\n",
              "      <td>Rozšírenie diaľnice D1 Bratislava -Triblavina</td>\n",
              "      <td>Inform cia o zmluvnej cene Ba-Tri.pdf</td>\n",
              "      <td>Extension of the D1 Motorway Bratislava - Trib...</td>\n",
              "      <td>Rozšírenie diaľnice D1 Bratislava -Triblavina</td>\n",
              "      <td>Contract price information</td>\n",
              "      <td>Transport</td>\n",
              "      <td>This document provides information about the c...</td>\n",
              "      <td>685</td>\n",
              "      <td>2</td>\n",
              "    </tr>\n",
              "    <tr>\n",
              "      <th>4</th>\n",
              "      <td>Extension of the D1 Motorway Bratislava - Trib...</td>\n",
              "      <td>Rozšírenie diaľnice D1 Bratislava -Triblavina</td>\n",
              "      <td>Zhrnutie D1 Bratislava-Triblavina.docx</td>\n",
              "      <td>D1 Motorway Bratislava-Triblavina Expansion</td>\n",
              "      <td>Diaľnica D1 Bratislava-Triblavina</td>\n",
              "      <td>Project summary and technical overview</td>\n",
              "      <td>Transport</td>\n",
              "      <td>This document provides a summary of the planne...</td>\n",
              "      <td>21734</td>\n",
              "      <td>2</td>\n",
              "    </tr>\n",
              "  </tbody>\n",
              "</table>\n",
              "</div>"
            ],
            "text/plain": [
              "                              canonical_project_name  \\\n",
              "0  Reconstruction of the Hviezda Dormitory – Stag...   \n",
              "1  Reconstruction of the Hviezda Dormitory – Stag...   \n",
              "2  Value for Money Assessment of the D1 Corridor ...   \n",
              "3  Extension of the D1 Motorway Bratislava - Trib...   \n",
              "4  Extension of the D1 Motorway Bratislava - Trib...   \n",
              "\n",
              "                       canonical_project_name_slovak  \\\n",
              "0        Rekonštrukcia internátu Hviezda – Etapa II.   \n",
              "1        Rekonštrukcia internátu Hviezda – Etapa II.   \n",
              "2  Hodnota za peniaze projektu Koridor D1 Bidovce...   \n",
              "3      Rozšírenie diaľnice D1 Bratislava -Triblavina   \n",
              "4      Rozšírenie diaľnice D1 Bratislava -Triblavina   \n",
              "\n",
              "                                            filename  \\\n",
              "0                                         164039.pdf   \n",
              "1  hodnotenie_hviezda_aktualizacia_pred_podpisom.pdf   \n",
              "2     hodnotenie_d1-bidovce-statna-hranica-sk_ua.pdf   \n",
              "3              Inform cia o zmluvnej cene Ba-Tri.pdf   \n",
              "4             Zhrnutie D1 Bratislava-Triblavina.docx   \n",
              "\n",
              "                               original_project_name  \\\n",
              "0  Reconstruction of the Hviezda Dormitory – Stag...   \n",
              "1  Reconstruction of the Hviezda Dormitory – Upda...   \n",
              "2  Value for Money Assessment of the D1 Corridor ...   \n",
              "3  Extension of the D1 Motorway Bratislava - Trib...   \n",
              "4        D1 Motorway Bratislava-Triblavina Expansion   \n",
              "\n",
              "                        original_project_name_slovak  \\\n",
              "0        Rekonštrukcia internátu Hviezda – Etapa II.   \n",
              "1  Aktualizácia pred podpisom zmluvy: Rekonštrukc...   \n",
              "2  Hodnota za peniaze projektu Koridor D1 Bidovce...   \n",
              "3      Rozšírenie diaľnice D1 Bratislava -Triblavina   \n",
              "4                  Diaľnica D1 Bratislava-Triblavina   \n",
              "\n",
              "                                       document_type     sector  \\\n",
              "0  Feasibility Study Update Form (prior to contra...   Building   \n",
              "1  Update of economic evaluation (cost-benefit an...   Building   \n",
              "2       Government evaluation of a feasibility study  Transport   \n",
              "3                         Contract price information  Transport   \n",
              "4             Project summary and technical overview  Transport   \n",
              "\n",
              "                                             summary  content_length  \\\n",
              "0  This document is an update form for the feasib...           11972   \n",
              "1  This document is an updated economic evaluatio...            4669   \n",
              "2  This document is an evaluation by the Slovak M...           29963   \n",
              "3  This document provides information about the c...             685   \n",
              "4  This document provides a summary of the planne...           21734   \n",
              "\n",
              "   documents_in_project  \n",
              "0                     2  \n",
              "1                     2  \n",
              "2                     1  \n",
              "3                     2  \n",
              "4                     2  "
            ]
          },
          "execution_count": 4,
          "metadata": {},
          "output_type": "execute_result"
        }
      ],
      "source": [
        "# Flatten canonical_projects into a document-level DataFrame\n",
        "consolidated_data = []\n",
        "\n",
        "for project_name, project_data in canonical_projects.items():\n",
        "    for doc in project_data['documents']:\n",
        "        consolidated_data.append({\n",
        "            'canonical_project_name': project_name,\n",
        "            'canonical_project_name_slovak': project_data.get('project_name_slovak', ''),\n",
        "            'filename': doc['filename'],\n",
        "            'original_project_name': doc['project_name'],\n",
        "            'original_project_name_slovak': doc.get('project_name_slovak', ''),\n",
        "            'document_type': doc.get('document_type', ''),\n",
        "            'sector': doc.get('sector', ''),\n",
        "            'summary': doc.get('summary', ''),\n",
        "            'content_length': doc.get('content_length', 0),\n",
        "            'documents_in_project': len(project_data['documents'])\n",
        "        })\n",
        "\n",
        "# Create DataFrame\n",
        "df_consolidated = pd.DataFrame(consolidated_data)\n",
        "print(f\"DataFrame shape: {df_consolidated.shape}\")\n",
        "df_consolidated.head()"
      ]
    },
    {
      "cell_type": "code",
      "execution_count": null,
      "metadata": {},
      "outputs": [],
      "source": []
    }
  ],
  "metadata": {
    "kernelspec": {
      "display_name": "wb_venv",
      "language": "python",
      "name": "python3"
    },
    "language_info": {
      "codemirror_mode": {
        "name": "ipython",
        "version": 3
      },
      "file_extension": ".py",
      "mimetype": "text/x-python",
      "name": "python",
      "nbconvert_exporter": "python",
      "pygments_lexer": "ipython3",
      "version": "3.9.6"
    }
  },
  "nbformat": 4,
  "nbformat_minor": 2
}
