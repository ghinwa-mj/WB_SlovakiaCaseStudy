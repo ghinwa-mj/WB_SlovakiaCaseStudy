{
 "cells": [
  {
   "cell_type": "code",
   "execution_count": 1,
   "id": "c2668674",
   "metadata": {},
   "outputs": [
    {
     "data": {
      "text/html": [
       "<div>\n",
       "<style scoped>\n",
       "    .dataframe tbody tr th:only-of-type {\n",
       "        vertical-align: middle;\n",
       "    }\n",
       "\n",
       "    .dataframe tbody tr th {\n",
       "        vertical-align: top;\n",
       "    }\n",
       "\n",
       "    .dataframe thead th {\n",
       "        text-align: right;\n",
       "    }\n",
       "</style>\n",
       "<table border=\"1\" class=\"dataframe\">\n",
       "  <thead>\n",
       "    <tr style=\"text-align: right;\">\n",
       "      <th></th>\n",
       "      <th>Sector</th>\n",
       "      <th>Project Name</th>\n",
       "      <th>Type</th>\n",
       "      <th>URL</th>\n",
       "      <th>Date</th>\n",
       "      <th>File Size</th>\n",
       "      <th>Document_ID</th>\n",
       "    </tr>\n",
       "  </thead>\n",
       "  <tbody>\n",
       "    <tr>\n",
       "      <th>0</th>\n",
       "      <td>Obrana</td>\n",
       "      <td>UNKNOWN_PROJECT</td>\n",
       "      <td>Dohody o hraničných priechodoch</td>\n",
       "      <td>https://www.mfsr.sk/sk/dane-cla-uctovnictvo/co...</td>\n",
       "      <td>NaN</td>\n",
       "      <td>NaN</td>\n",
       "      <td>4.023</td>\n",
       "    </tr>\n",
       "    <tr>\n",
       "      <th>1</th>\n",
       "      <td>Obrana</td>\n",
       "      <td>Rekonštrukcia leteckej základne Sliač (aktuali...</td>\n",
       "      <td>hodnotenie</td>\n",
       "      <td>https://www.mfsr.sk/files/archiv/28/mo_sliac_a...</td>\n",
       "      <td>23.1.2025</td>\n",
       "      <td>140 kB</td>\n",
       "      <td>4.016</td>\n",
       "    </tr>\n",
       "    <tr>\n",
       "      <th>2</th>\n",
       "      <td>Obrana</td>\n",
       "      <td>Rekonštrukcia leteckej základne Sliač (aktuali...</td>\n",
       "      <td>štúdia uskutočniteľnosti</td>\n",
       "      <td>https://www.mosr.sk/data/files/5761_priloha-7-...</td>\n",
       "      <td>NaN</td>\n",
       "      <td>NaN</td>\n",
       "      <td>4.025</td>\n",
       "    </tr>\n",
       "    <tr>\n",
       "      <th>3</th>\n",
       "      <td>Obrana</td>\n",
       "      <td>Rekonštrukcia leteckej základne Sliač (aktuali...</td>\n",
       "      <td>hodnotenie</td>\n",
       "      <td>https://www.mfsr.sk/files/archiv/28/MO_Sliac_a...</td>\n",
       "      <td>4.10.2024</td>\n",
       "      <td>165 kB</td>\n",
       "      <td>4.015</td>\n",
       "    </tr>\n",
       "    <tr>\n",
       "      <th>4</th>\n",
       "      <td>Obrana</td>\n",
       "      <td>Rekonštrukcia leteckej základne Sliač (aktuali...</td>\n",
       "      <td>štúdia uskutočniteľnosti</td>\n",
       "      <td>https://www.mosr.sk/data/files/5691_semai-195-...</td>\n",
       "      <td>NaN</td>\n",
       "      <td>NaN</td>\n",
       "      <td>4.027</td>\n",
       "    </tr>\n",
       "  </tbody>\n",
       "</table>\n",
       "</div>"
      ],
      "text/plain": [
       "   Sector                                       Project Name  \\\n",
       "0  Obrana                                    UNKNOWN_PROJECT   \n",
       "1  Obrana  Rekonštrukcia leteckej základne Sliač (aktuali...   \n",
       "2  Obrana  Rekonštrukcia leteckej základne Sliač (aktuali...   \n",
       "3  Obrana  Rekonštrukcia leteckej základne Sliač (aktuali...   \n",
       "4  Obrana  Rekonštrukcia leteckej základne Sliač (aktuali...   \n",
       "\n",
       "                              Type  \\\n",
       "0  Dohody o hraničných priechodoch   \n",
       "1                       hodnotenie   \n",
       "2         štúdia uskutočniteľnosti   \n",
       "3                       hodnotenie   \n",
       "4         štúdia uskutočniteľnosti   \n",
       "\n",
       "                                                 URL       Date File Size  \\\n",
       "0  https://www.mfsr.sk/sk/dane-cla-uctovnictvo/co...        NaN       NaN   \n",
       "1  https://www.mfsr.sk/files/archiv/28/mo_sliac_a...  23.1.2025    140 kB   \n",
       "2  https://www.mosr.sk/data/files/5761_priloha-7-...        NaN       NaN   \n",
       "3  https://www.mfsr.sk/files/archiv/28/MO_Sliac_a...  4.10.2024    165 kB   \n",
       "4  https://www.mosr.sk/data/files/5691_semai-195-...        NaN       NaN   \n",
       "\n",
       "   Document_ID  \n",
       "0        4.023  \n",
       "1        4.016  \n",
       "2        4.025  \n",
       "3        4.015  \n",
       "4        4.027  "
      ]
     },
     "execution_count": 1,
     "metadata": {},
     "output_type": "execute_result"
    }
   ],
   "source": [
    "import pandas as pd\n",
    "\n",
    "df = pd.read_csv('full_mfsr_data_completewith_ids.csv')\n",
    "df.head()"
   ]
  },
  {
   "cell_type": "code",
   "execution_count": 17,
   "id": "8204fa85",
   "metadata": {},
   "outputs": [],
   "source": [
    "df_filtered = df[df['Type'].isin(['analýza', 'hodnotenie', 'štúdia uskutočniteľnosti', 'stanovisko'])]\n",
    "df_filtered = df_filtered.groupby(['Sector', 'Type'])['Document_ID'].nunique().reset_index()"
   ]
  },
  {
   "cell_type": "code",
   "execution_count": 20,
   "id": "3a9a5438",
   "metadata": {},
   "outputs": [],
   "source": [
    "df_filtered = df_filtered.pivot(index='Sector', columns='Type', values='Document_ID').fillna(0)\n",
    "df_filtered.to_csv('df_filtered.csv')"
   ]
  },
  {
   "cell_type": "code",
   "execution_count": 10,
   "id": "469fbd7f",
   "metadata": {},
   "outputs": [
    {
     "data": {
      "text/plain": [
       "Sector\n",
       "Budovy             35\n",
       "Doprava           103\n",
       "Informatizacia    101\n",
       "Obrana             17\n",
       "Ostatne            14\n",
       "Name: Project Name, dtype: int64"
      ]
     },
     "execution_count": 10,
     "metadata": {},
     "output_type": "execute_result"
    }
   ],
   "source": [
    "project_per_sector = df.groupby('Sector')['Project Name'].nunique()\n",
    "project_per_sector"
   ]
  },
  {
   "cell_type": "code",
   "execution_count": 3,
   "id": "c3f13c27",
   "metadata": {},
   "outputs": [
    {
     "data": {
      "text/plain": [
       "Type\n",
       "analýza                                                  206\n",
       "hodnotenie                                                63\n",
       "štúdia uskutočniteľnosti                                  52\n",
       "stanovisko                                                 9\n",
       "Dohody o hraničných priechodoch                            5\n",
       "Aktualizovaná štúdia                                       3\n",
       "aktualizácia                                               2\n",
       "Grafy a tabuľky                                            2\n",
       "Otázky a odpovede                                          1\n",
       "Štúdia implementácie IT                                    1\n",
       "Prognóza                                                   1\n",
       "Aktualizovaná časť štúdie uskutočniteľnosti                1\n",
       "Odhad nákladov na dokončenie D1 - Lietavská Lúčka ...      1\n",
       "Korekcia diaľničných známok                                1\n",
       "Dátová príloha: Úpravy v CBA pre obchvat Veľkého L...      1\n",
       "Doplnenie štúdie uskutočniteľnosti                         1\n",
       "Doplnenie hodnotenia                                       1\n",
       "Dodatočné poklady od Národnej diaľničnej spoločnos...      1\n",
       "Aktualizovaná štúdia od investora                          1\n",
       "Najčastejšie otázky a odpovede                             1\n",
       "Name: Document_ID, dtype: int64"
      ]
     },
     "execution_count": 3,
     "metadata": {},
     "output_type": "execute_result"
    }
   ],
   "source": [
    "file_per_sector = df.groupby('Type')['Document_ID'].nunique()\n",
    "file_per_sector.sort_values(ascending=False)"
   ]
  },
  {
   "cell_type": "code",
   "execution_count": null,
   "id": "e523c7b0",
   "metadata": {},
   "outputs": [],
   "source": [
    "file_per_sector.to_csv('file_per_sector.csv')"
   ]
  },
  {
   "cell_type": "code",
   "execution_count": null,
   "id": "6cbfbcfb",
   "metadata": {},
   "outputs": [],
   "source": []
  }
 ],
 "metadata": {
  "kernelspec": {
   "display_name": "wb_venv",
   "language": "python",
   "name": "python3"
  },
  "language_info": {
   "codemirror_mode": {
    "name": "ipython",
    "version": 3
   },
   "file_extension": ".py",
   "mimetype": "text/x-python",
   "name": "python",
   "nbconvert_exporter": "python",
   "pygments_lexer": "ipython3",
   "version": "3.9.6"
  }
 },
 "nbformat": 4,
 "nbformat_minor": 5
}
